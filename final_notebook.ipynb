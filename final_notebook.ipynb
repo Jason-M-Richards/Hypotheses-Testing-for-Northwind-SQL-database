{
 "cells": [
  {
   "cell_type": "markdown",
   "metadata": {},
   "source": [
    "## Understanding Business\n",
    "\n",
    "The first step in the Data Science Life Cycle is to understand the business we are about to interperet the Data. The data itself does explain quite a bit about the business model:\n",
    "\n",
    "* This is a small business with only nine employees.\n",
    "* Employees are responsible for selling to specific regions which subset into specific territories.\n",
    "* Order quantities are large and since suppliers are involved, either a specialty grocery and/or restaurant supplier."
   ]
  },
  {
   "cell_type": "markdown",
   "metadata": {},
   "source": [
    "## Data Mining\n",
    "\n",
    "The data is provided via a SQLite database. After glancing through the tables in https://sqliteonline.com/, there are a few notes for reference:\n",
    "\n",
    "* The tables CustomerCustomerDemo and CustomerDemographics have no information in htem. \n",
    "* While the ERD tables have all ID columns listed, they are not specifically labeled those items in the tables. Only \"Id\" is provided. This will mean renaming may be necessary for the purpose of joining tables(dataframes).\n",
    "* Since basic SQL queries will not be efficient for the purposes of the project, we will convert the database into a pandas dataframe using sqlalchemy and pandas."
   ]
  },
  {
   "cell_type": "markdown",
   "metadata": {},
   "source": [
    "## Database"
   ]
  },
  {
   "cell_type": "markdown",
   "metadata": {},
   "source": [
    "![alt text](Northwind_ERD.png \"Northwind\")"
   ]
  },
  {
   "cell_type": "code",
   "execution_count": null,
   "metadata": {},
   "outputs": [],
   "source": [
    "import pandas as pd\n",
    "import numpy as np\n",
    "from scipy import stats\n",
    "import seaborn as sns\n",
    "import matplotlib.pyplot as plt\n",
    "from sqlalchemy import create_engine, inspect, MetaData\n",
    "from sqlalchemy.orm import Session,sessionmaker\n",
    "from sqlalchemy.ext.automap import automap_base\n",
    "import statsmodels.api as sm\n",
    "from statsmodels.formula.api import ols"
   ]
  },
  {
   "cell_type": "code",
   "execution_count": 5,
   "metadata": {},
   "outputs": [
    {
     "name": "stdout",
     "output_type": "stream",
     "text": [
      "Requirement already satisfied: sqlalchemy in c:\\users\\perso\\anaconda3\\envs\\learn-env\\lib\\site-packages (1.3.10)\n"
     ]
    }
   ],
   "source": [
    "#importing sqlalchemy and creating engine and session for SQL DB\n",
    "engine=create_engine ('sqlite:///Northwind_small.sqlite', echo=True)\n",
    "Session=sessionmaker(bind=engine)\n",
    "session=Session()"
   ]
  },
  {
   "cell_type": "code",
   "execution_count": 6,
   "metadata": {},
   "outputs": [
    {
     "name": "stdout",
     "output_type": "stream",
     "text": [
      "2019-10-18 11:34:54,234 INFO sqlalchemy.engine.base.Engine SELECT CAST('test plain returns' AS VARCHAR(60)) AS anon_1\n",
      "2019-10-18 11:34:54,236 INFO sqlalchemy.engine.base.Engine ()\n",
      "2019-10-18 11:34:54,238 INFO sqlalchemy.engine.base.Engine SELECT CAST('test unicode returns' AS VARCHAR(60)) AS anon_1\n",
      "2019-10-18 11:34:54,241 INFO sqlalchemy.engine.base.Engine ()\n",
      "2019-10-18 11:34:54,244 INFO sqlalchemy.engine.base.Engine SELECT name FROM sqlite_master WHERE type='table' ORDER BY name\n",
      "2019-10-18 11:34:54,245 INFO sqlalchemy.engine.base.Engine ()\n"
     ]
    },
    {
     "data": {
      "text/plain": [
       "['Category',\n",
       " 'Customer',\n",
       " 'CustomerCustomerDemo',\n",
       " 'CustomerDemographic',\n",
       " 'Employee',\n",
       " 'EmployeeTerritory',\n",
       " 'Order',\n",
       " 'OrderDetail',\n",
       " 'Product',\n",
       " 'Region',\n",
       " 'Shipper',\n",
       " 'Supplier',\n",
       " 'Territory']"
      ]
     },
     "execution_count": 6,
     "metadata": {},
     "output_type": "execute_result"
    }
   ],
   "source": [
    "# inspecting database for table names\n",
    "inspector = inspect(engine)\n",
    "inspector.get_table_names()"
   ]
  },
  {
   "cell_type": "code",
   "execution_count": 7,
   "metadata": {},
   "outputs": [
    {
     "name": "stdout",
     "output_type": "stream",
     "text": [
      "2019-10-18 11:34:54,275 INFO sqlalchemy.engine.base.Engine SELECT name FROM sqlite_master WHERE type='table' ORDER BY name\n",
      "2019-10-18 11:34:54,276 INFO sqlalchemy.engine.base.Engine ()\n",
      "2019-10-18 11:34:54,278 INFO sqlalchemy.engine.base.Engine PRAGMA main.table_info(\"Category\")\n",
      "2019-10-18 11:34:54,279 INFO sqlalchemy.engine.base.Engine ()\n",
      "2019-10-18 11:34:54,282 INFO sqlalchemy.engine.base.Engine SELECT sql FROM  (SELECT * FROM sqlite_master UNION ALL   SELECT * FROM sqlite_temp_master) WHERE name = 'Category' AND type = 'table'\n",
      "2019-10-18 11:34:54,283 INFO sqlalchemy.engine.base.Engine ()\n",
      "2019-10-18 11:34:54,285 INFO sqlalchemy.engine.base.Engine PRAGMA main.foreign_key_list(\"Category\")\n",
      "2019-10-18 11:34:54,286 INFO sqlalchemy.engine.base.Engine ()\n",
      "2019-10-18 11:34:54,287 INFO sqlalchemy.engine.base.Engine PRAGMA temp.foreign_key_list(\"Category\")\n",
      "2019-10-18 11:34:54,288 INFO sqlalchemy.engine.base.Engine ()\n",
      "2019-10-18 11:34:54,290 INFO sqlalchemy.engine.base.Engine SELECT sql FROM  (SELECT * FROM sqlite_master UNION ALL   SELECT * FROM sqlite_temp_master) WHERE name = 'Category' AND type = 'table'\n",
      "2019-10-18 11:34:54,291 INFO sqlalchemy.engine.base.Engine ()\n",
      "2019-10-18 11:34:54,296 INFO sqlalchemy.engine.base.Engine PRAGMA main.index_list(\"Category\")\n",
      "2019-10-18 11:34:54,297 INFO sqlalchemy.engine.base.Engine ()\n",
      "2019-10-18 11:34:54,299 INFO sqlalchemy.engine.base.Engine PRAGMA temp.index_list(\"Category\")\n",
      "2019-10-18 11:34:54,300 INFO sqlalchemy.engine.base.Engine ()\n",
      "2019-10-18 11:34:54,301 INFO sqlalchemy.engine.base.Engine PRAGMA main.index_list(\"Category\")\n",
      "2019-10-18 11:34:54,302 INFO sqlalchemy.engine.base.Engine ()\n",
      "2019-10-18 11:34:54,304 INFO sqlalchemy.engine.base.Engine PRAGMA temp.index_list(\"Category\")\n",
      "2019-10-18 11:34:54,305 INFO sqlalchemy.engine.base.Engine ()\n",
      "2019-10-18 11:34:54,310 INFO sqlalchemy.engine.base.Engine SELECT sql FROM  (SELECT * FROM sqlite_master UNION ALL   SELECT * FROM sqlite_temp_master) WHERE name = 'Category' AND type = 'table'\n",
      "2019-10-18 11:34:54,311 INFO sqlalchemy.engine.base.Engine ()\n",
      "2019-10-18 11:34:54,316 INFO sqlalchemy.engine.base.Engine PRAGMA main.table_info(\"Customer\")\n",
      "2019-10-18 11:34:54,317 INFO sqlalchemy.engine.base.Engine ()\n",
      "2019-10-18 11:34:54,320 INFO sqlalchemy.engine.base.Engine SELECT sql FROM  (SELECT * FROM sqlite_master UNION ALL   SELECT * FROM sqlite_temp_master) WHERE name = 'Customer' AND type = 'table'\n",
      "2019-10-18 11:34:54,321 INFO sqlalchemy.engine.base.Engine ()\n",
      "2019-10-18 11:34:54,324 INFO sqlalchemy.engine.base.Engine PRAGMA main.foreign_key_list(\"Customer\")\n",
      "2019-10-18 11:34:54,325 INFO sqlalchemy.engine.base.Engine ()\n",
      "2019-10-18 11:34:54,327 INFO sqlalchemy.engine.base.Engine PRAGMA temp.foreign_key_list(\"Customer\")\n",
      "2019-10-18 11:34:54,328 INFO sqlalchemy.engine.base.Engine ()\n",
      "2019-10-18 11:34:54,329 INFO sqlalchemy.engine.base.Engine SELECT sql FROM  (SELECT * FROM sqlite_master UNION ALL   SELECT * FROM sqlite_temp_master) WHERE name = 'Customer' AND type = 'table'\n",
      "2019-10-18 11:34:54,330 INFO sqlalchemy.engine.base.Engine ()\n",
      "2019-10-18 11:34:54,331 INFO sqlalchemy.engine.base.Engine PRAGMA main.index_list(\"Customer\")\n",
      "2019-10-18 11:34:54,332 INFO sqlalchemy.engine.base.Engine ()\n",
      "2019-10-18 11:34:54,333 INFO sqlalchemy.engine.base.Engine PRAGMA main.index_list(\"Customer\")\n",
      "2019-10-18 11:34:54,334 INFO sqlalchemy.engine.base.Engine ()\n",
      "2019-10-18 11:34:54,336 INFO sqlalchemy.engine.base.Engine PRAGMA main.index_info(\"sqlite_autoindex_Customer_1\")\n",
      "2019-10-18 11:34:54,337 INFO sqlalchemy.engine.base.Engine ()\n",
      "2019-10-18 11:34:54,338 INFO sqlalchemy.engine.base.Engine SELECT sql FROM  (SELECT * FROM sqlite_master UNION ALL   SELECT * FROM sqlite_temp_master) WHERE name = 'Customer' AND type = 'table'\n",
      "2019-10-18 11:34:54,340 INFO sqlalchemy.engine.base.Engine ()\n",
      "2019-10-18 11:34:54,342 INFO sqlalchemy.engine.base.Engine PRAGMA main.table_info(\"CustomerCustomerDemo\")\n",
      "2019-10-18 11:34:54,343 INFO sqlalchemy.engine.base.Engine ()\n",
      "2019-10-18 11:34:54,345 INFO sqlalchemy.engine.base.Engine SELECT sql FROM  (SELECT * FROM sqlite_master UNION ALL   SELECT * FROM sqlite_temp_master) WHERE name = 'CustomerCustomerDemo' AND type = 'table'\n",
      "2019-10-18 11:34:54,346 INFO sqlalchemy.engine.base.Engine ()\n",
      "2019-10-18 11:34:54,348 INFO sqlalchemy.engine.base.Engine PRAGMA main.foreign_key_list(\"CustomerCustomerDemo\")\n",
      "2019-10-18 11:34:54,349 INFO sqlalchemy.engine.base.Engine ()\n",
      "2019-10-18 11:34:54,351 INFO sqlalchemy.engine.base.Engine PRAGMA temp.foreign_key_list(\"CustomerCustomerDemo\")\n",
      "2019-10-18 11:34:54,352 INFO sqlalchemy.engine.base.Engine ()\n",
      "2019-10-18 11:34:54,353 INFO sqlalchemy.engine.base.Engine SELECT sql FROM  (SELECT * FROM sqlite_master UNION ALL   SELECT * FROM sqlite_temp_master) WHERE name = 'CustomerCustomerDemo' AND type = 'table'\n",
      "2019-10-18 11:34:54,354 INFO sqlalchemy.engine.base.Engine ()\n",
      "2019-10-18 11:34:54,355 INFO sqlalchemy.engine.base.Engine PRAGMA main.index_list(\"CustomerCustomerDemo\")\n",
      "2019-10-18 11:34:54,356 INFO sqlalchemy.engine.base.Engine ()\n",
      "2019-10-18 11:34:54,358 INFO sqlalchemy.engine.base.Engine PRAGMA main.index_list(\"CustomerCustomerDemo\")\n",
      "2019-10-18 11:34:54,358 INFO sqlalchemy.engine.base.Engine ()\n",
      "2019-10-18 11:34:54,360 INFO sqlalchemy.engine.base.Engine PRAGMA main.index_info(\"sqlite_autoindex_CustomerCustomerDemo_1\")\n",
      "2019-10-18 11:34:54,360 INFO sqlalchemy.engine.base.Engine ()\n",
      "2019-10-18 11:34:54,362 INFO sqlalchemy.engine.base.Engine SELECT sql FROM  (SELECT * FROM sqlite_master UNION ALL   SELECT * FROM sqlite_temp_master) WHERE name = 'CustomerCustomerDemo' AND type = 'table'\n",
      "2019-10-18 11:34:54,363 INFO sqlalchemy.engine.base.Engine ()\n",
      "2019-10-18 11:34:54,365 INFO sqlalchemy.engine.base.Engine PRAGMA main.table_info(\"CustomerDemographic\")\n",
      "2019-10-18 11:34:54,365 INFO sqlalchemy.engine.base.Engine ()\n",
      "2019-10-18 11:34:54,367 INFO sqlalchemy.engine.base.Engine SELECT sql FROM  (SELECT * FROM sqlite_master UNION ALL   SELECT * FROM sqlite_temp_master) WHERE name = 'CustomerDemographic' AND type = 'table'\n",
      "2019-10-18 11:34:54,368 INFO sqlalchemy.engine.base.Engine ()\n",
      "2019-10-18 11:34:54,369 INFO sqlalchemy.engine.base.Engine PRAGMA main.foreign_key_list(\"CustomerDemographic\")\n",
      "2019-10-18 11:34:54,370 INFO sqlalchemy.engine.base.Engine ()\n",
      "2019-10-18 11:34:54,370 INFO sqlalchemy.engine.base.Engine PRAGMA temp.foreign_key_list(\"CustomerDemographic\")\n",
      "2019-10-18 11:34:54,371 INFO sqlalchemy.engine.base.Engine ()\n",
      "2019-10-18 11:34:54,372 INFO sqlalchemy.engine.base.Engine SELECT sql FROM  (SELECT * FROM sqlite_master UNION ALL   SELECT * FROM sqlite_temp_master) WHERE name = 'CustomerDemographic' AND type = 'table'\n",
      "2019-10-18 11:34:54,373 INFO sqlalchemy.engine.base.Engine ()\n",
      "2019-10-18 11:34:54,374 INFO sqlalchemy.engine.base.Engine PRAGMA main.index_list(\"CustomerDemographic\")\n",
      "2019-10-18 11:34:54,375 INFO sqlalchemy.engine.base.Engine ()\n",
      "2019-10-18 11:34:54,377 INFO sqlalchemy.engine.base.Engine PRAGMA main.index_list(\"CustomerDemographic\")\n",
      "2019-10-18 11:34:54,378 INFO sqlalchemy.engine.base.Engine ()\n",
      "2019-10-18 11:34:54,379 INFO sqlalchemy.engine.base.Engine PRAGMA main.index_info(\"sqlite_autoindex_CustomerDemographic_1\")\n",
      "2019-10-18 11:34:54,380 INFO sqlalchemy.engine.base.Engine ()\n",
      "2019-10-18 11:34:54,381 INFO sqlalchemy.engine.base.Engine SELECT sql FROM  (SELECT * FROM sqlite_master UNION ALL   SELECT * FROM sqlite_temp_master) WHERE name = 'CustomerDemographic' AND type = 'table'\n",
      "2019-10-18 11:34:54,382 INFO sqlalchemy.engine.base.Engine ()\n",
      "2019-10-18 11:34:54,384 INFO sqlalchemy.engine.base.Engine PRAGMA main.table_info(\"Employee\")\n",
      "2019-10-18 11:34:54,384 INFO sqlalchemy.engine.base.Engine ()\n",
      "2019-10-18 11:34:54,390 INFO sqlalchemy.engine.base.Engine SELECT sql FROM  (SELECT * FROM sqlite_master UNION ALL   SELECT * FROM sqlite_temp_master) WHERE name = 'Employee' AND type = 'table'\n",
      "2019-10-18 11:34:54,391 INFO sqlalchemy.engine.base.Engine ()\n",
      "2019-10-18 11:34:54,392 INFO sqlalchemy.engine.base.Engine PRAGMA main.foreign_key_list(\"Employee\")\n",
      "2019-10-18 11:34:54,393 INFO sqlalchemy.engine.base.Engine ()\n",
      "2019-10-18 11:34:54,394 INFO sqlalchemy.engine.base.Engine PRAGMA temp.foreign_key_list(\"Employee\")\n",
      "2019-10-18 11:34:54,395 INFO sqlalchemy.engine.base.Engine ()\n"
     ]
    },
    {
     "name": "stdout",
     "output_type": "stream",
     "text": [
      "2019-10-18 11:34:54,396 INFO sqlalchemy.engine.base.Engine SELECT sql FROM  (SELECT * FROM sqlite_master UNION ALL   SELECT * FROM sqlite_temp_master) WHERE name = 'Employee' AND type = 'table'\n",
      "2019-10-18 11:34:54,396 INFO sqlalchemy.engine.base.Engine ()\n",
      "2019-10-18 11:34:54,398 INFO sqlalchemy.engine.base.Engine PRAGMA main.index_list(\"Employee\")\n",
      "2019-10-18 11:34:54,398 INFO sqlalchemy.engine.base.Engine ()\n",
      "2019-10-18 11:34:54,400 INFO sqlalchemy.engine.base.Engine PRAGMA temp.index_list(\"Employee\")\n",
      "2019-10-18 11:34:54,401 INFO sqlalchemy.engine.base.Engine ()\n",
      "2019-10-18 11:34:54,402 INFO sqlalchemy.engine.base.Engine PRAGMA main.index_list(\"Employee\")\n",
      "2019-10-18 11:34:54,402 INFO sqlalchemy.engine.base.Engine ()\n",
      "2019-10-18 11:34:54,404 INFO sqlalchemy.engine.base.Engine PRAGMA temp.index_list(\"Employee\")\n",
      "2019-10-18 11:34:54,407 INFO sqlalchemy.engine.base.Engine ()\n",
      "2019-10-18 11:34:54,408 INFO sqlalchemy.engine.base.Engine SELECT sql FROM  (SELECT * FROM sqlite_master UNION ALL   SELECT * FROM sqlite_temp_master) WHERE name = 'Employee' AND type = 'table'\n",
      "2019-10-18 11:34:54,409 INFO sqlalchemy.engine.base.Engine ()\n",
      "2019-10-18 11:34:54,411 INFO sqlalchemy.engine.base.Engine PRAGMA main.table_info(\"EmployeeTerritory\")\n",
      "2019-10-18 11:34:54,412 INFO sqlalchemy.engine.base.Engine ()\n",
      "2019-10-18 11:34:54,414 INFO sqlalchemy.engine.base.Engine SELECT sql FROM  (SELECT * FROM sqlite_master UNION ALL   SELECT * FROM sqlite_temp_master) WHERE name = 'EmployeeTerritory' AND type = 'table'\n",
      "2019-10-18 11:34:54,414 INFO sqlalchemy.engine.base.Engine ()\n",
      "2019-10-18 11:34:54,416 INFO sqlalchemy.engine.base.Engine PRAGMA main.foreign_key_list(\"EmployeeTerritory\")\n",
      "2019-10-18 11:34:54,417 INFO sqlalchemy.engine.base.Engine ()\n",
      "2019-10-18 11:34:54,418 INFO sqlalchemy.engine.base.Engine PRAGMA temp.foreign_key_list(\"EmployeeTerritory\")\n",
      "2019-10-18 11:34:54,418 INFO sqlalchemy.engine.base.Engine ()\n",
      "2019-10-18 11:34:54,419 INFO sqlalchemy.engine.base.Engine SELECT sql FROM  (SELECT * FROM sqlite_master UNION ALL   SELECT * FROM sqlite_temp_master) WHERE name = 'EmployeeTerritory' AND type = 'table'\n",
      "2019-10-18 11:34:54,419 INFO sqlalchemy.engine.base.Engine ()\n",
      "2019-10-18 11:34:54,421 INFO sqlalchemy.engine.base.Engine PRAGMA main.index_list(\"EmployeeTerritory\")\n",
      "2019-10-18 11:34:54,422 INFO sqlalchemy.engine.base.Engine ()\n",
      "2019-10-18 11:34:54,424 INFO sqlalchemy.engine.base.Engine PRAGMA main.index_list(\"EmployeeTerritory\")\n",
      "2019-10-18 11:34:54,425 INFO sqlalchemy.engine.base.Engine ()\n",
      "2019-10-18 11:34:54,427 INFO sqlalchemy.engine.base.Engine PRAGMA main.index_info(\"sqlite_autoindex_EmployeeTerritory_1\")\n",
      "2019-10-18 11:34:54,428 INFO sqlalchemy.engine.base.Engine ()\n",
      "2019-10-18 11:34:54,429 INFO sqlalchemy.engine.base.Engine SELECT sql FROM  (SELECT * FROM sqlite_master UNION ALL   SELECT * FROM sqlite_temp_master) WHERE name = 'EmployeeTerritory' AND type = 'table'\n",
      "2019-10-18 11:34:54,430 INFO sqlalchemy.engine.base.Engine ()\n",
      "2019-10-18 11:34:54,431 INFO sqlalchemy.engine.base.Engine PRAGMA main.table_info(\"Order\")\n",
      "2019-10-18 11:34:54,432 INFO sqlalchemy.engine.base.Engine ()\n",
      "2019-10-18 11:34:54,437 INFO sqlalchemy.engine.base.Engine SELECT sql FROM  (SELECT * FROM sqlite_master UNION ALL   SELECT * FROM sqlite_temp_master) WHERE name = 'Order' AND type = 'table'\n",
      "2019-10-18 11:34:54,437 INFO sqlalchemy.engine.base.Engine ()\n",
      "2019-10-18 11:34:54,442 INFO sqlalchemy.engine.base.Engine PRAGMA main.foreign_key_list(\"Order\")\n",
      "2019-10-18 11:34:54,443 INFO sqlalchemy.engine.base.Engine ()\n",
      "2019-10-18 11:34:54,444 INFO sqlalchemy.engine.base.Engine PRAGMA temp.foreign_key_list(\"Order\")\n",
      "2019-10-18 11:34:54,444 INFO sqlalchemy.engine.base.Engine ()\n",
      "2019-10-18 11:34:54,445 INFO sqlalchemy.engine.base.Engine SELECT sql FROM  (SELECT * FROM sqlite_master UNION ALL   SELECT * FROM sqlite_temp_master) WHERE name = 'Order' AND type = 'table'\n",
      "2019-10-18 11:34:54,446 INFO sqlalchemy.engine.base.Engine ()\n",
      "2019-10-18 11:34:54,447 INFO sqlalchemy.engine.base.Engine PRAGMA main.index_list(\"Order\")\n",
      "2019-10-18 11:34:54,448 INFO sqlalchemy.engine.base.Engine ()\n",
      "2019-10-18 11:34:54,449 INFO sqlalchemy.engine.base.Engine PRAGMA temp.index_list(\"Order\")\n",
      "2019-10-18 11:34:54,450 INFO sqlalchemy.engine.base.Engine ()\n",
      "2019-10-18 11:34:54,451 INFO sqlalchemy.engine.base.Engine PRAGMA main.index_list(\"Order\")\n",
      "2019-10-18 11:34:54,452 INFO sqlalchemy.engine.base.Engine ()\n",
      "2019-10-18 11:34:54,453 INFO sqlalchemy.engine.base.Engine PRAGMA temp.index_list(\"Order\")\n",
      "2019-10-18 11:34:54,453 INFO sqlalchemy.engine.base.Engine ()\n",
      "2019-10-18 11:34:54,454 INFO sqlalchemy.engine.base.Engine SELECT sql FROM  (SELECT * FROM sqlite_master UNION ALL   SELECT * FROM sqlite_temp_master) WHERE name = 'Order' AND type = 'table'\n",
      "2019-10-18 11:34:54,455 INFO sqlalchemy.engine.base.Engine ()\n",
      "2019-10-18 11:34:54,458 INFO sqlalchemy.engine.base.Engine PRAGMA main.table_info(\"OrderDetail\")\n",
      "2019-10-18 11:34:54,459 INFO sqlalchemy.engine.base.Engine ()\n",
      "2019-10-18 11:34:54,462 INFO sqlalchemy.engine.base.Engine SELECT sql FROM  (SELECT * FROM sqlite_master UNION ALL   SELECT * FROM sqlite_temp_master) WHERE name = 'OrderDetail' AND type = 'table'\n",
      "2019-10-18 11:34:54,462 INFO sqlalchemy.engine.base.Engine ()\n",
      "2019-10-18 11:34:54,465 INFO sqlalchemy.engine.base.Engine PRAGMA main.foreign_key_list(\"OrderDetail\")\n",
      "2019-10-18 11:34:54,465 INFO sqlalchemy.engine.base.Engine ()\n",
      "2019-10-18 11:34:54,466 INFO sqlalchemy.engine.base.Engine PRAGMA temp.foreign_key_list(\"OrderDetail\")\n",
      "2019-10-18 11:34:54,467 INFO sqlalchemy.engine.base.Engine ()\n",
      "2019-10-18 11:34:54,468 INFO sqlalchemy.engine.base.Engine SELECT sql FROM  (SELECT * FROM sqlite_master UNION ALL   SELECT * FROM sqlite_temp_master) WHERE name = 'OrderDetail' AND type = 'table'\n",
      "2019-10-18 11:34:54,468 INFO sqlalchemy.engine.base.Engine ()\n",
      "2019-10-18 11:34:54,470 INFO sqlalchemy.engine.base.Engine PRAGMA main.index_list(\"OrderDetail\")\n",
      "2019-10-18 11:34:54,470 INFO sqlalchemy.engine.base.Engine ()\n",
      "2019-10-18 11:34:54,472 INFO sqlalchemy.engine.base.Engine PRAGMA main.index_list(\"OrderDetail\")\n",
      "2019-10-18 11:34:54,473 INFO sqlalchemy.engine.base.Engine ()\n",
      "2019-10-18 11:34:54,475 INFO sqlalchemy.engine.base.Engine PRAGMA main.index_info(\"sqlite_autoindex_OrderDetail_1\")\n",
      "2019-10-18 11:34:54,475 INFO sqlalchemy.engine.base.Engine ()\n",
      "2019-10-18 11:34:54,478 INFO sqlalchemy.engine.base.Engine SELECT sql FROM  (SELECT * FROM sqlite_master UNION ALL   SELECT * FROM sqlite_temp_master) WHERE name = 'OrderDetail' AND type = 'table'\n",
      "2019-10-18 11:34:54,479 INFO sqlalchemy.engine.base.Engine ()\n",
      "2019-10-18 11:34:54,481 INFO sqlalchemy.engine.base.Engine PRAGMA main.table_info(\"Product\")\n",
      "2019-10-18 11:34:54,482 INFO sqlalchemy.engine.base.Engine ()\n",
      "2019-10-18 11:34:54,485 INFO sqlalchemy.engine.base.Engine SELECT sql FROM  (SELECT * FROM sqlite_master UNION ALL   SELECT * FROM sqlite_temp_master) WHERE name = 'Product' AND type = 'table'\n",
      "2019-10-18 11:34:54,486 INFO sqlalchemy.engine.base.Engine ()\n",
      "2019-10-18 11:34:54,488 INFO sqlalchemy.engine.base.Engine PRAGMA main.foreign_key_list(\"Product\")\n",
      "2019-10-18 11:34:54,489 INFO sqlalchemy.engine.base.Engine ()\n",
      "2019-10-18 11:34:54,490 INFO sqlalchemy.engine.base.Engine PRAGMA temp.foreign_key_list(\"Product\")\n",
      "2019-10-18 11:34:54,491 INFO sqlalchemy.engine.base.Engine ()\n",
      "2019-10-18 11:34:54,492 INFO sqlalchemy.engine.base.Engine SELECT sql FROM  (SELECT * FROM sqlite_master UNION ALL   SELECT * FROM sqlite_temp_master) WHERE name = 'Product' AND type = 'table'\n",
      "2019-10-18 11:34:54,493 INFO sqlalchemy.engine.base.Engine ()\n",
      "2019-10-18 11:34:54,494 INFO sqlalchemy.engine.base.Engine PRAGMA main.index_list(\"Product\")\n",
      "2019-10-18 11:34:54,495 INFO sqlalchemy.engine.base.Engine ()\n",
      "2019-10-18 11:34:54,497 INFO sqlalchemy.engine.base.Engine PRAGMA temp.index_list(\"Product\")\n",
      "2019-10-18 11:34:54,497 INFO sqlalchemy.engine.base.Engine ()\n",
      "2019-10-18 11:34:54,499 INFO sqlalchemy.engine.base.Engine PRAGMA main.index_list(\"Product\")\n",
      "2019-10-18 11:34:54,499 INFO sqlalchemy.engine.base.Engine ()\n",
      "2019-10-18 11:34:54,500 INFO sqlalchemy.engine.base.Engine PRAGMA temp.index_list(\"Product\")\n",
      "2019-10-18 11:34:54,501 INFO sqlalchemy.engine.base.Engine ()\n",
      "2019-10-18 11:34:54,502 INFO sqlalchemy.engine.base.Engine SELECT sql FROM  (SELECT * FROM sqlite_master UNION ALL   SELECT * FROM sqlite_temp_master) WHERE name = 'Product' AND type = 'table'\n"
     ]
    },
    {
     "name": "stdout",
     "output_type": "stream",
     "text": [
      "2019-10-18 11:34:54,503 INFO sqlalchemy.engine.base.Engine ()\n",
      "2019-10-18 11:34:54,505 INFO sqlalchemy.engine.base.Engine PRAGMA main.table_info(\"Region\")\n",
      "2019-10-18 11:34:54,507 INFO sqlalchemy.engine.base.Engine ()\n",
      "2019-10-18 11:34:54,509 INFO sqlalchemy.engine.base.Engine SELECT sql FROM  (SELECT * FROM sqlite_master UNION ALL   SELECT * FROM sqlite_temp_master) WHERE name = 'Region' AND type = 'table'\n",
      "2019-10-18 11:34:54,510 INFO sqlalchemy.engine.base.Engine ()\n",
      "2019-10-18 11:34:54,511 INFO sqlalchemy.engine.base.Engine PRAGMA main.foreign_key_list(\"Region\")\n",
      "2019-10-18 11:34:54,512 INFO sqlalchemy.engine.base.Engine ()\n",
      "2019-10-18 11:34:54,513 INFO sqlalchemy.engine.base.Engine PRAGMA temp.foreign_key_list(\"Region\")\n",
      "2019-10-18 11:34:54,514 INFO sqlalchemy.engine.base.Engine ()\n",
      "2019-10-18 11:34:54,515 INFO sqlalchemy.engine.base.Engine SELECT sql FROM  (SELECT * FROM sqlite_master UNION ALL   SELECT * FROM sqlite_temp_master) WHERE name = 'Region' AND type = 'table'\n",
      "2019-10-18 11:34:54,516 INFO sqlalchemy.engine.base.Engine ()\n",
      "2019-10-18 11:34:54,517 INFO sqlalchemy.engine.base.Engine PRAGMA main.index_list(\"Region\")\n",
      "2019-10-18 11:34:54,518 INFO sqlalchemy.engine.base.Engine ()\n",
      "2019-10-18 11:34:54,519 INFO sqlalchemy.engine.base.Engine PRAGMA temp.index_list(\"Region\")\n",
      "2019-10-18 11:34:54,520 INFO sqlalchemy.engine.base.Engine ()\n",
      "2019-10-18 11:34:54,521 INFO sqlalchemy.engine.base.Engine PRAGMA main.index_list(\"Region\")\n",
      "2019-10-18 11:34:54,522 INFO sqlalchemy.engine.base.Engine ()\n",
      "2019-10-18 11:34:54,524 INFO sqlalchemy.engine.base.Engine PRAGMA temp.index_list(\"Region\")\n",
      "2019-10-18 11:34:54,525 INFO sqlalchemy.engine.base.Engine ()\n",
      "2019-10-18 11:34:54,526 INFO sqlalchemy.engine.base.Engine SELECT sql FROM  (SELECT * FROM sqlite_master UNION ALL   SELECT * FROM sqlite_temp_master) WHERE name = 'Region' AND type = 'table'\n",
      "2019-10-18 11:34:54,527 INFO sqlalchemy.engine.base.Engine ()\n",
      "2019-10-18 11:34:54,528 INFO sqlalchemy.engine.base.Engine PRAGMA main.table_info(\"Shipper\")\n",
      "2019-10-18 11:34:54,530 INFO sqlalchemy.engine.base.Engine ()\n",
      "2019-10-18 11:34:54,532 INFO sqlalchemy.engine.base.Engine SELECT sql FROM  (SELECT * FROM sqlite_master UNION ALL   SELECT * FROM sqlite_temp_master) WHERE name = 'Shipper' AND type = 'table'\n",
      "2019-10-18 11:34:54,533 INFO sqlalchemy.engine.base.Engine ()\n",
      "2019-10-18 11:34:54,535 INFO sqlalchemy.engine.base.Engine PRAGMA main.foreign_key_list(\"Shipper\")\n",
      "2019-10-18 11:34:54,535 INFO sqlalchemy.engine.base.Engine ()\n",
      "2019-10-18 11:34:54,537 INFO sqlalchemy.engine.base.Engine PRAGMA temp.foreign_key_list(\"Shipper\")\n",
      "2019-10-18 11:34:54,537 INFO sqlalchemy.engine.base.Engine ()\n",
      "2019-10-18 11:34:54,540 INFO sqlalchemy.engine.base.Engine SELECT sql FROM  (SELECT * FROM sqlite_master UNION ALL   SELECT * FROM sqlite_temp_master) WHERE name = 'Shipper' AND type = 'table'\n",
      "2019-10-18 11:34:54,541 INFO sqlalchemy.engine.base.Engine ()\n",
      "2019-10-18 11:34:54,542 INFO sqlalchemy.engine.base.Engine PRAGMA main.index_list(\"Shipper\")\n",
      "2019-10-18 11:34:54,543 INFO sqlalchemy.engine.base.Engine ()\n",
      "2019-10-18 11:34:54,544 INFO sqlalchemy.engine.base.Engine PRAGMA temp.index_list(\"Shipper\")\n",
      "2019-10-18 11:34:54,546 INFO sqlalchemy.engine.base.Engine ()\n",
      "2019-10-18 11:34:54,547 INFO sqlalchemy.engine.base.Engine PRAGMA main.index_list(\"Shipper\")\n",
      "2019-10-18 11:34:54,547 INFO sqlalchemy.engine.base.Engine ()\n",
      "2019-10-18 11:34:54,549 INFO sqlalchemy.engine.base.Engine PRAGMA temp.index_list(\"Shipper\")\n",
      "2019-10-18 11:34:54,550 INFO sqlalchemy.engine.base.Engine ()\n",
      "2019-10-18 11:34:54,551 INFO sqlalchemy.engine.base.Engine SELECT sql FROM  (SELECT * FROM sqlite_master UNION ALL   SELECT * FROM sqlite_temp_master) WHERE name = 'Shipper' AND type = 'table'\n",
      "2019-10-18 11:34:54,552 INFO sqlalchemy.engine.base.Engine ()\n",
      "2019-10-18 11:34:54,554 INFO sqlalchemy.engine.base.Engine PRAGMA main.table_info(\"Supplier\")\n",
      "2019-10-18 11:34:54,555 INFO sqlalchemy.engine.base.Engine ()\n",
      "2019-10-18 11:34:54,560 INFO sqlalchemy.engine.base.Engine SELECT sql FROM  (SELECT * FROM sqlite_master UNION ALL   SELECT * FROM sqlite_temp_master) WHERE name = 'Supplier' AND type = 'table'\n",
      "2019-10-18 11:34:54,561 INFO sqlalchemy.engine.base.Engine ()\n",
      "2019-10-18 11:34:54,563 INFO sqlalchemy.engine.base.Engine PRAGMA main.foreign_key_list(\"Supplier\")\n",
      "2019-10-18 11:34:54,564 INFO sqlalchemy.engine.base.Engine ()\n",
      "2019-10-18 11:34:54,566 INFO sqlalchemy.engine.base.Engine PRAGMA temp.foreign_key_list(\"Supplier\")\n",
      "2019-10-18 11:34:54,566 INFO sqlalchemy.engine.base.Engine ()\n",
      "2019-10-18 11:34:54,568 INFO sqlalchemy.engine.base.Engine SELECT sql FROM  (SELECT * FROM sqlite_master UNION ALL   SELECT * FROM sqlite_temp_master) WHERE name = 'Supplier' AND type = 'table'\n",
      "2019-10-18 11:34:54,568 INFO sqlalchemy.engine.base.Engine ()\n",
      "2019-10-18 11:34:54,570 INFO sqlalchemy.engine.base.Engine PRAGMA main.index_list(\"Supplier\")\n",
      "2019-10-18 11:34:54,571 INFO sqlalchemy.engine.base.Engine ()\n",
      "2019-10-18 11:34:54,572 INFO sqlalchemy.engine.base.Engine PRAGMA temp.index_list(\"Supplier\")\n",
      "2019-10-18 11:34:54,573 INFO sqlalchemy.engine.base.Engine ()\n",
      "2019-10-18 11:34:54,574 INFO sqlalchemy.engine.base.Engine PRAGMA main.index_list(\"Supplier\")\n",
      "2019-10-18 11:34:54,575 INFO sqlalchemy.engine.base.Engine ()\n",
      "2019-10-18 11:34:54,576 INFO sqlalchemy.engine.base.Engine PRAGMA temp.index_list(\"Supplier\")\n",
      "2019-10-18 11:34:54,577 INFO sqlalchemy.engine.base.Engine ()\n",
      "2019-10-18 11:34:54,578 INFO sqlalchemy.engine.base.Engine SELECT sql FROM  (SELECT * FROM sqlite_master UNION ALL   SELECT * FROM sqlite_temp_master) WHERE name = 'Supplier' AND type = 'table'\n",
      "2019-10-18 11:34:54,579 INFO sqlalchemy.engine.base.Engine ()\n",
      "2019-10-18 11:34:54,581 INFO sqlalchemy.engine.base.Engine PRAGMA main.table_info(\"Territory\")\n",
      "2019-10-18 11:34:54,582 INFO sqlalchemy.engine.base.Engine ()\n",
      "2019-10-18 11:34:54,584 INFO sqlalchemy.engine.base.Engine SELECT sql FROM  (SELECT * FROM sqlite_master UNION ALL   SELECT * FROM sqlite_temp_master) WHERE name = 'Territory' AND type = 'table'\n",
      "2019-10-18 11:34:54,585 INFO sqlalchemy.engine.base.Engine ()\n",
      "2019-10-18 11:34:54,587 INFO sqlalchemy.engine.base.Engine PRAGMA main.foreign_key_list(\"Territory\")\n",
      "2019-10-18 11:34:54,588 INFO sqlalchemy.engine.base.Engine ()\n",
      "2019-10-18 11:34:54,590 INFO sqlalchemy.engine.base.Engine PRAGMA temp.foreign_key_list(\"Territory\")\n",
      "2019-10-18 11:34:54,590 INFO sqlalchemy.engine.base.Engine ()\n",
      "2019-10-18 11:34:54,591 INFO sqlalchemy.engine.base.Engine SELECT sql FROM  (SELECT * FROM sqlite_master UNION ALL   SELECT * FROM sqlite_temp_master) WHERE name = 'Territory' AND type = 'table'\n",
      "2019-10-18 11:34:54,592 INFO sqlalchemy.engine.base.Engine ()\n",
      "2019-10-18 11:34:54,594 INFO sqlalchemy.engine.base.Engine PRAGMA main.index_list(\"Territory\")\n",
      "2019-10-18 11:34:54,595 INFO sqlalchemy.engine.base.Engine ()\n",
      "2019-10-18 11:34:54,597 INFO sqlalchemy.engine.base.Engine PRAGMA main.index_list(\"Territory\")\n",
      "2019-10-18 11:34:54,598 INFO sqlalchemy.engine.base.Engine ()\n",
      "2019-10-18 11:34:54,600 INFO sqlalchemy.engine.base.Engine PRAGMA main.index_info(\"sqlite_autoindex_Territory_1\")\n",
      "2019-10-18 11:34:54,601 INFO sqlalchemy.engine.base.Engine ()\n",
      "2019-10-18 11:34:54,602 INFO sqlalchemy.engine.base.Engine SELECT sql FROM  (SELECT * FROM sqlite_master UNION ALL   SELECT * FROM sqlite_temp_master) WHERE name = 'Territory' AND type = 'table'\n",
      "2019-10-18 11:34:54,602 INFO sqlalchemy.engine.base.Engine ()\n"
     ]
    }
   ],
   "source": [
    "#converting SQL tables into classes for easy conversion to pandas dataframe\n",
    "metadata=MetaData()\n",
    "metadata.reflect(engine)\n",
    "Base = automap_base(metadata=metadata)\n",
    "Base.prepare()\n",
    "category=Base.classes.Category\n",
    "customer=Base.classes.Customer\n",
    "employee=Base.classes.Employee\n",
    "employeeterritory=Base.classes.EmployeeTerritory\n",
    "order=Base.classes.Order\n",
    "orderdetail=Base.classes.OrderDetail\n",
    "product=Base.classes.Product\n",
    "region=Base.classes.Region\n",
    "shipper=Base.classes.Shipper\n",
    "supplier=Base.classes.Supplier\n",
    "territory=Base.classes.Territory"
   ]
  },
  {
   "cell_type": "code",
   "execution_count": 8,
   "metadata": {},
   "outputs": [
    {
     "name": "stdout",
     "output_type": "stream",
     "text": [
      "2019-10-18 11:34:59,237 INFO sqlalchemy.engine.base.Engine SELECT * FROM [category]\n",
      "2019-10-18 11:34:59,238 INFO sqlalchemy.engine.base.Engine ()\n",
      "2019-10-18 11:34:59,280 INFO sqlalchemy.engine.base.Engine SELECT * FROM [customer]\n",
      "2019-10-18 11:34:59,282 INFO sqlalchemy.engine.base.Engine ()\n",
      "2019-10-18 11:34:59,290 INFO sqlalchemy.engine.base.Engine SELECT * FROM [employee]\n",
      "2019-10-18 11:34:59,293 INFO sqlalchemy.engine.base.Engine ()\n",
      "2019-10-18 11:34:59,300 INFO sqlalchemy.engine.base.Engine SELECT * FROM [employeeterritory]\n",
      "2019-10-18 11:34:59,302 INFO sqlalchemy.engine.base.Engine ()\n",
      "2019-10-18 11:34:59,309 INFO sqlalchemy.engine.base.Engine SELECT * FROM [order]\n",
      "2019-10-18 11:34:59,310 INFO sqlalchemy.engine.base.Engine ()\n",
      "2019-10-18 11:34:59,337 INFO sqlalchemy.engine.base.Engine SELECT * FROM [orderdetail]\n",
      "2019-10-18 11:34:59,339 INFO sqlalchemy.engine.base.Engine ()\n",
      "2019-10-18 11:34:59,362 INFO sqlalchemy.engine.base.Engine SELECT * FROM [product]\n",
      "2019-10-18 11:34:59,363 INFO sqlalchemy.engine.base.Engine ()\n",
      "2019-10-18 11:34:59,369 INFO sqlalchemy.engine.base.Engine SELECT * FROM [region]\n",
      "2019-10-18 11:34:59,371 INFO sqlalchemy.engine.base.Engine ()\n",
      "2019-10-18 11:34:59,375 INFO sqlalchemy.engine.base.Engine SELECT * FROM [shipper]\n",
      "2019-10-18 11:34:59,377 INFO sqlalchemy.engine.base.Engine ()\n",
      "2019-10-18 11:34:59,382 INFO sqlalchemy.engine.base.Engine SELECT * FROM [supplier]\n",
      "2019-10-18 11:34:59,384 INFO sqlalchemy.engine.base.Engine ()\n",
      "2019-10-18 11:34:59,390 INFO sqlalchemy.engine.base.Engine SELECT * FROM [territory]\n",
      "2019-10-18 11:34:59,392 INFO sqlalchemy.engine.base.Engine ()\n"
     ]
    }
   ],
   "source": [
    "# converting the SQL classes to pandas dataframes\n",
    "category_df=pd.read_sql_query('SELECT * FROM [category]', engine)\n",
    "customer_df=pd.read_sql_query('SELECT * FROM [customer]', engine)\n",
    "employee_df=pd.read_sql_query('SELECT * FROM [employee]', engine)\n",
    "employeeterritory_df=pd.read_sql_query('SELECT * FROM [employeeterritory]', engine)\n",
    "order_df=pd.read_sql_query('SELECT * FROM [order]',engine)\n",
    "orderdetail_df=pd.read_sql_query('SELECT * FROM [orderdetail]' ,engine)\n",
    "product_df=pd.read_sql_query('SELECT * FROM [product]', engine)\n",
    "region_df=pd.read_sql_query('SELECT * FROM [region]', engine)\n",
    "shipper_df=pd.read_sql_query('SELECT * FROM [shipper]', engine)\n",
    "supplier_df=pd.read_sql_query('SELECT * FROM [supplier]', engine)\n",
    "territory_df=pd.read_sql_query('SELECT * FROM [territory]', engine)"
   ]
  },
  {
   "cell_type": "markdown",
   "metadata": {},
   "source": [
    "**As each hypothesis will deal with different combinations of tables, the remainder of steps (Cleaning, Exploring, Engineering, Modeling and Visualization) will be done on each individual hypothesis."
   ]
  },
  {
   "cell_type": "markdown",
   "metadata": {},
   "source": [
    "## Hypotheses"
   ]
  },
  {
   "cell_type": "markdown",
   "metadata": {},
   "source": [
    "### Question 1: Do discounts have a statistically significant effect on the number of products customers order? If so, at what level(s) of discount?"
   ]
  },
  {
   "cell_type": "markdown",
   "metadata": {},
   "source": [
    "### Ho = Discounts do not have a significant effect on the number of products customers order.                                                                                                        Ha = Discounts do have a significant positive effect on the number of products customers order."
   ]
  },
  {
   "cell_type": "markdown",
   "metadata": {},
   "source": [
    "First, let's take a look at the table and compress it to the data that we need."
   ]
  },
  {
   "cell_type": "code",
   "execution_count": 9,
   "metadata": {},
   "outputs": [
    {
     "name": "stdout",
     "output_type": "stream",
     "text": [
      "<class 'pandas.core.frame.DataFrame'>\n",
      "RangeIndex: 2155 entries, 0 to 2154\n",
      "Data columns (total 6 columns):\n",
      "Id           2155 non-null object\n",
      "OrderId      2155 non-null int64\n",
      "ProductId    2155 non-null int64\n",
      "UnitPrice    2155 non-null float64\n",
      "Quantity     2155 non-null int64\n",
      "Discount     2155 non-null float64\n",
      "dtypes: float64(2), int64(3), object(1)\n",
      "memory usage: 101.1+ KB\n"
     ]
    }
   ],
   "source": [
    "orderdetail_df.info()"
   ]
  },
  {
   "cell_type": "code",
   "execution_count": 10,
   "metadata": {},
   "outputs": [
    {
     "data": {
      "text/html": [
       "<div>\n",
       "<style scoped>\n",
       "    .dataframe tbody tr th:only-of-type {\n",
       "        vertical-align: middle;\n",
       "    }\n",
       "\n",
       "    .dataframe tbody tr th {\n",
       "        vertical-align: top;\n",
       "    }\n",
       "\n",
       "    .dataframe thead th {\n",
       "        text-align: right;\n",
       "    }\n",
       "</style>\n",
       "<table border=\"1\" class=\"dataframe\">\n",
       "  <thead>\n",
       "    <tr style=\"text-align: right;\">\n",
       "      <th></th>\n",
       "      <th>Id</th>\n",
       "      <th>OrderId</th>\n",
       "      <th>ProductId</th>\n",
       "      <th>UnitPrice</th>\n",
       "      <th>Quantity</th>\n",
       "      <th>Discount</th>\n",
       "    </tr>\n",
       "  </thead>\n",
       "  <tbody>\n",
       "    <tr>\n",
       "      <th>0</th>\n",
       "      <td>10248/11</td>\n",
       "      <td>10248</td>\n",
       "      <td>11</td>\n",
       "      <td>14.0</td>\n",
       "      <td>12</td>\n",
       "      <td>0.0</td>\n",
       "    </tr>\n",
       "    <tr>\n",
       "      <th>1</th>\n",
       "      <td>10248/42</td>\n",
       "      <td>10248</td>\n",
       "      <td>42</td>\n",
       "      <td>9.8</td>\n",
       "      <td>10</td>\n",
       "      <td>0.0</td>\n",
       "    </tr>\n",
       "    <tr>\n",
       "      <th>2</th>\n",
       "      <td>10248/72</td>\n",
       "      <td>10248</td>\n",
       "      <td>72</td>\n",
       "      <td>34.8</td>\n",
       "      <td>5</td>\n",
       "      <td>0.0</td>\n",
       "    </tr>\n",
       "    <tr>\n",
       "      <th>3</th>\n",
       "      <td>10249/14</td>\n",
       "      <td>10249</td>\n",
       "      <td>14</td>\n",
       "      <td>18.6</td>\n",
       "      <td>9</td>\n",
       "      <td>0.0</td>\n",
       "    </tr>\n",
       "    <tr>\n",
       "      <th>4</th>\n",
       "      <td>10249/51</td>\n",
       "      <td>10249</td>\n",
       "      <td>51</td>\n",
       "      <td>42.4</td>\n",
       "      <td>40</td>\n",
       "      <td>0.0</td>\n",
       "    </tr>\n",
       "  </tbody>\n",
       "</table>\n",
       "</div>"
      ],
      "text/plain": [
       "         Id  OrderId  ProductId  UnitPrice  Quantity  Discount\n",
       "0  10248/11    10248         11       14.0        12       0.0\n",
       "1  10248/42    10248         42        9.8        10       0.0\n",
       "2  10248/72    10248         72       34.8         5       0.0\n",
       "3  10249/14    10249         14       18.6         9       0.0\n",
       "4  10249/51    10249         51       42.4        40       0.0"
      ]
     },
     "execution_count": 10,
     "metadata": {},
     "output_type": "execute_result"
    }
   ],
   "source": [
    "orderdetail_df.head()"
   ]
  },
  {
   "cell_type": "code",
   "execution_count": 11,
   "metadata": {},
   "outputs": [],
   "source": [
    "hyp1 = orderdetail_df[['Quantity','Discount']]"
   ]
  },
  {
   "cell_type": "code",
   "execution_count": 12,
   "metadata": {},
   "outputs": [],
   "source": [
    "hyp1 = hyp1.copy()"
   ]
  },
  {
   "cell_type": "code",
   "execution_count": 13,
   "metadata": {},
   "outputs": [
    {
     "data": {
      "text/html": [
       "<div>\n",
       "<style scoped>\n",
       "    .dataframe tbody tr th:only-of-type {\n",
       "        vertical-align: middle;\n",
       "    }\n",
       "\n",
       "    .dataframe tbody tr th {\n",
       "        vertical-align: top;\n",
       "    }\n",
       "\n",
       "    .dataframe thead th {\n",
       "        text-align: right;\n",
       "    }\n",
       "</style>\n",
       "<table border=\"1\" class=\"dataframe\">\n",
       "  <thead>\n",
       "    <tr style=\"text-align: right;\">\n",
       "      <th></th>\n",
       "      <th>Quantity</th>\n",
       "      <th>Discount</th>\n",
       "    </tr>\n",
       "  </thead>\n",
       "  <tbody>\n",
       "    <tr>\n",
       "      <th>0</th>\n",
       "      <td>12</td>\n",
       "      <td>0.0</td>\n",
       "    </tr>\n",
       "    <tr>\n",
       "      <th>1</th>\n",
       "      <td>10</td>\n",
       "      <td>0.0</td>\n",
       "    </tr>\n",
       "    <tr>\n",
       "      <th>2</th>\n",
       "      <td>5</td>\n",
       "      <td>0.0</td>\n",
       "    </tr>\n",
       "    <tr>\n",
       "      <th>3</th>\n",
       "      <td>9</td>\n",
       "      <td>0.0</td>\n",
       "    </tr>\n",
       "    <tr>\n",
       "      <th>4</th>\n",
       "      <td>40</td>\n",
       "      <td>0.0</td>\n",
       "    </tr>\n",
       "  </tbody>\n",
       "</table>\n",
       "</div>"
      ],
      "text/plain": [
       "   Quantity  Discount\n",
       "0        12       0.0\n",
       "1        10       0.0\n",
       "2         5       0.0\n",
       "3         9       0.0\n",
       "4        40       0.0"
      ]
     },
     "execution_count": 13,
     "metadata": {},
     "output_type": "execute_result"
    }
   ],
   "source": [
    "hyp1.head()"
   ]
  },
  {
   "cell_type": "markdown",
   "metadata": {},
   "source": [
    "Now, lets take a look at the counts of each value to determine if any rows can be removed"
   ]
  },
  {
   "cell_type": "code",
   "execution_count": 14,
   "metadata": {},
   "outputs": [
    {
     "data": {
      "text/plain": [
       "20     252\n",
       "30     194\n",
       "10     181\n",
       "15     169\n",
       "40     113\n",
       "12      92\n",
       "6       87\n",
       "25      80\n",
       "50      75\n",
       "35      71\n",
       "5       67\n",
       "24      58\n",
       "60      58\n",
       "4       55\n",
       "2       52\n",
       "21      50\n",
       "8       50\n",
       "18      47\n",
       "3       46\n",
       "14      36\n",
       "16      35\n",
       "9       30\n",
       "28      29\n",
       "70      28\n",
       "7       23\n",
       "36      21\n",
       "42      19\n",
       "1       17\n",
       "80      16\n",
       "45      14\n",
       "100     10\n",
       "55       9\n",
       "120      8\n",
       "65       8\n",
       "49       7\n",
       "48       5\n",
       "32       5\n",
       "44       4\n",
       "90       4\n",
       "13       3\n",
       "77       3\n",
       "110      3\n",
       "56       3\n",
       "84       2\n",
       "11       2\n",
       "27       2\n",
       "33       2\n",
       "39       2\n",
       "130      2\n",
       "63       1\n",
       "66       1\n",
       "22       1\n",
       "52       1\n",
       "54       1\n",
       "91       1\n",
       "Name: Quantity, dtype: int64"
      ]
     },
     "execution_count": 14,
     "metadata": {},
     "output_type": "execute_result"
    }
   ],
   "source": [
    "hyp1.Quantity.value_counts()"
   ]
  },
  {
   "cell_type": "code",
   "execution_count": 15,
   "metadata": {},
   "outputs": [
    {
     "data": {
      "text/plain": [
       "0.00    1317\n",
       "0.05     185\n",
       "0.10     173\n",
       "0.20     161\n",
       "0.15     157\n",
       "0.25     154\n",
       "0.03       3\n",
       "0.02       2\n",
       "0.01       1\n",
       "0.04       1\n",
       "0.06       1\n",
       "Name: Discount, dtype: int64"
      ]
     },
     "execution_count": 15,
     "metadata": {},
     "output_type": "execute_result"
    }
   ],
   "source": [
    "hyp1.Discount.value_counts()"
   ]
  },
  {
   "cell_type": "markdown",
   "metadata": {},
   "source": [
    "Some of these discount amounts have very little data to support any testing, so we will remove those values and associated rows."
   ]
  },
  {
   "cell_type": "code",
   "execution_count": 16,
   "metadata": {},
   "outputs": [
    {
     "name": "stdout",
     "output_type": "stream",
     "text": [
      "      Quantity  Discount\n",
      "2149         2      0.06\n",
      "      Quantity  Discount\n",
      "2141         1      0.04\n",
      "      Quantity  Discount\n",
      "2139         1      0.03\n",
      "2140         2      0.03\n",
      "2150         2      0.03\n",
      "      Quantity  Discount\n",
      "2133         1      0.02\n",
      "2146         3      0.02\n",
      "      Quantity  Discount\n",
      "2152         2      0.01\n"
     ]
    }
   ],
   "source": [
    "print(hyp1.loc[hyp1['Discount'] == 0.06])\n",
    "print(hyp1.loc[hyp1['Discount'] == 0.04])\n",
    "print(hyp1.loc[hyp1['Discount'] == 0.03])\n",
    "print(hyp1.loc[hyp1['Discount'] == 0.02])\n",
    "print(hyp1.loc[hyp1['Discount'] == 0.01])"
   ]
  },
  {
   "cell_type": "code",
   "execution_count": 17,
   "metadata": {},
   "outputs": [],
   "source": [
    "hyp1.drop(index=[2149,2141,2139,2140,2150,2133,2146,2152], inplace=True)"
   ]
  },
  {
   "cell_type": "code",
   "execution_count": 18,
   "metadata": {},
   "outputs": [
    {
     "data": {
      "text/plain": [
       "0.00    1317\n",
       "0.05     185\n",
       "0.10     173\n",
       "0.20     161\n",
       "0.15     157\n",
       "0.25     154\n",
       "Name: Discount, dtype: int64"
      ]
     },
     "execution_count": 18,
     "metadata": {},
     "output_type": "execute_result"
    }
   ],
   "source": [
    "hyp1.Discount.value_counts()"
   ]
  },
  {
   "cell_type": "code",
   "execution_count": 20,
   "metadata": {},
   "outputs": [],
   "source": [
    "experiment = hyp1[hyp1.Discount != 0.00]\n",
    "experiment1 = experiment.Quantity"
   ]
  },
  {
   "cell_type": "code",
   "execution_count": 21,
   "metadata": {},
   "outputs": [],
   "source": [
    "control = hyp1[hyp1.Discount == 0.00]\n",
    "control1 = control.Quantity"
   ]
  },
  {
   "cell_type": "code",
   "execution_count": 22,
   "metadata": {},
   "outputs": [
    {
     "data": {
      "text/html": [
       "<div>\n",
       "<style scoped>\n",
       "    .dataframe tbody tr th:only-of-type {\n",
       "        vertical-align: middle;\n",
       "    }\n",
       "\n",
       "    .dataframe tbody tr th {\n",
       "        vertical-align: top;\n",
       "    }\n",
       "\n",
       "    .dataframe thead th {\n",
       "        text-align: right;\n",
       "    }\n",
       "</style>\n",
       "<table border=\"1\" class=\"dataframe\">\n",
       "  <thead>\n",
       "    <tr style=\"text-align: right;\">\n",
       "      <th></th>\n",
       "      <th>Quantity</th>\n",
       "      <th>Discount</th>\n",
       "    </tr>\n",
       "  </thead>\n",
       "  <tbody>\n",
       "    <tr>\n",
       "      <th>6</th>\n",
       "      <td>35</td>\n",
       "      <td>0.15</td>\n",
       "    </tr>\n",
       "    <tr>\n",
       "      <th>7</th>\n",
       "      <td>15</td>\n",
       "      <td>0.15</td>\n",
       "    </tr>\n",
       "    <tr>\n",
       "      <th>8</th>\n",
       "      <td>6</td>\n",
       "      <td>0.05</td>\n",
       "    </tr>\n",
       "    <tr>\n",
       "      <th>9</th>\n",
       "      <td>15</td>\n",
       "      <td>0.05</td>\n",
       "    </tr>\n",
       "    <tr>\n",
       "      <th>11</th>\n",
       "      <td>40</td>\n",
       "      <td>0.05</td>\n",
       "    </tr>\n",
       "  </tbody>\n",
       "</table>\n",
       "</div>"
      ],
      "text/plain": [
       "    Quantity  Discount\n",
       "6         35      0.15\n",
       "7         15      0.15\n",
       "8          6      0.05\n",
       "9         15      0.05\n",
       "11        40      0.05"
      ]
     },
     "execution_count": 22,
     "metadata": {},
     "output_type": "execute_result"
    }
   ],
   "source": [
    "experiment.head()"
   ]
  },
  {
   "cell_type": "markdown",
   "metadata": {},
   "source": [
    "### Normality Test\n",
    "\n",
    "Before we decide which method to perform, we will first run a normality test on both control and experiment datasets using Scipy's Shapiro test:"
   ]
  },
  {
   "cell_type": "code",
   "execution_count": 23,
   "metadata": {},
   "outputs": [
    {
     "name": "stdout",
     "output_type": "stream",
     "text": [
      "(0.8434571027755737, 3.803856556577728e-34)\n",
      "(0.8673426508903503, 6.471277454941499e-26)\n"
     ]
    }
   ],
   "source": [
    "print(stats.shapiro(control1))\n",
    "print(stats.shapiro(experiment1))"
   ]
  },
  {
   "cell_type": "markdown",
   "metadata": {},
   "source": [
    "According to the normality tests, we can verify that the data is normal."
   ]
  },
  {
   "cell_type": "markdown",
   "metadata": {},
   "source": [
    "### Visual Tests"
   ]
  },
  {
   "cell_type": "markdown",
   "metadata": {},
   "source": [
    "We will run a visual probability distributions graph to see if there are differences between the means and standard deviations."
   ]
  },
  {
   "cell_type": "code",
   "execution_count": 24,
   "metadata": {
    "scrolled": false
   },
   "outputs": [
    {
     "data": {
      "text/plain": [
       "<matplotlib.axes._subplots.AxesSubplot at 0x2242c57cba8>"
      ]
     },
     "execution_count": 24,
     "metadata": {},
     "output_type": "execute_result"
    },
    {
     "data": {
      "image/png": "[encoded data removed]",
      "text/plain": [
       "<Figure size 864x720 with 1 Axes>"
      ]
     },
     "metadata": {},
     "output_type": "display_data"
    }
   ],
   "source": [
    "sns.set(color_codes=True)\n",
    "sns.set(rc={'figure.figsize':(12,10)})\n",
    "sns.distplot(control1) # Blue distribution\n",
    "sns.distplot(experiment1) # Orange distribution"
   ]
  },
  {
   "cell_type": "code",
   "execution_count": 26,
   "metadata": {},
   "outputs": [],
   "source": [
    "def create_sample(df,n):\n",
    "    sample=[]\n",
    "    while len(sample) < n:\n",
    "        x = np.random.choice(df)\n",
    "        sample.append(x)\n",
    "    return sample\n",
    "def create_sampling_distribution(df, dist_size=1000, n=500):\n",
    "    sample_dist = []\n",
    "    while len(sample_dist) < dist_size:\n",
    "        sample = create_sample(df,n)\n",
    "        sample_mean = sum(sample)/len(sample)\n",
    "        sample_dist.append(sample_mean)\n",
    "    return sample_dist"
   ]
  },
  {
   "cell_type": "code",
   "execution_count": 27,
   "metadata": {},
   "outputs": [],
   "source": [
    "control_c = create_sampling_distribution(control1)\n",
    "experiment_c = create_sampling_distribution(experiment1)"
   ]
  },
  {
   "cell_type": "code",
   "execution_count": 40,
   "metadata": {},
   "outputs": [
    {
     "data": {
      "text/plain": [
       "Text(0.5, 1.0, 'Mean Disount Distributions of Control and Experiment Sampling')"
      ]
     },
     "execution_count": 40,
     "metadata": {},
     "output_type": "execute_result"
    },
    {
     "data": {
      "image/png": "[encoded data removed]",
      "text/plain": [
       "<Figure size 864x720 with 1 Axes>"
      ]
     },
     "metadata": {},
     "output_type": "display_data"
    }
   ],
   "source": [
    "sns.set(color_codes=True)\n",
    "sns.set(rc={'figure.figsize':(12,10)})\n",
    "sns.distplot(control_c, label='Control') # Blue distribution\n",
    "sns.distplot(experiment_c, label='Experiment') # Orange distribution\n",
    "plt.legend()\n",
    "plt.xlabel('Number of Discounts Applied')\n",
    "plt.ylabel('Discount Percentage')\n",
    "plt.title('Mean Disount Distributions of Control and Experiment Sampling')"
   ]
  },
  {
   "cell_type": "markdown",
   "metadata": {},
   "source": [
    "Now we will run a t-test on the normally distributed samples."
   ]
  },
  {
   "cell_type": "code",
   "execution_count": 25,
   "metadata": {},
   "outputs": [
    {
     "data": {
      "text/plain": [
       "Ttest_indResult(statistic=146.59936772192847, pvalue=0.0)"
      ]
     },
     "execution_count": 25,
     "metadata": {},
     "output_type": "execute_result"
    }
   ],
   "source": [
    "stats.ttest_ind(experiment_c, control_c)"
   ]
  },
  {
   "cell_type": "markdown",
   "metadata": {},
   "source": [
    "This high t-value shows a significant departure between the two samples and the p-value shows significance enough to reject the null hypothesis"
   ]
  },
  {
   "cell_type": "markdown",
   "metadata": {},
   "source": [
    "#### The second part of the question asks which levels of discount are significant. We will start by taking a quick visual."
   ]
  },
  {
   "cell_type": "code",
   "execution_count": 26,
   "metadata": {},
   "outputs": [
    {
     "name": "stderr",
     "output_type": "stream",
     "text": [
      "C:\\Users\\perso\\Anaconda3\\envs\\learn-env\\lib\\site-packages\\scipy\\stats\\stats.py:1713: FutureWarning: Using a non-tuple sequence for multidimensional indexing is deprecated; use `arr[tuple(seq)]` instead of `arr[seq]`. In the future this will be interpreted as an array index, `arr[np.array(seq)]`, which will result either in an error or a different result.\n",
      "  return np.add.reduce(sorted[indexer] * weights, axis=axis) / sumval\n"
     ]
    },
    {
     "data": {
      "image/png": "[encoded data removed]",
      "text/plain": [
       "<Figure size 360x360 with 1 Axes>"
      ]
     },
     "metadata": {},
     "output_type": "display_data"
    }
   ],
   "source": [
    "sns.catplot(x=\"Discount\", y=\"Quantity\", kind=\"bar\", data=experiment);"
   ]
  },
  {
   "cell_type": "markdown",
   "metadata": {},
   "source": [
    "From the visual, the 5%, 15% and 25% discount levels are the highest, but very close...further analysis is needed to gather a more accurate solution. We will import the packages needed to tun an ANOVA test on each discount level and its effect on quantity."
   ]
  },
  {
   "cell_type": "markdown",
   "metadata": {},
   "source": [
    "Now we will bin each discount so that we can run the ANOVA test at each discount level."
   ]
  },
  {
   "cell_type": "code",
   "execution_count": 28,
   "metadata": {},
   "outputs": [
    {
     "name": "stderr",
     "output_type": "stream",
     "text": [
      "C:\\Users\\perso\\Anaconda3\\envs\\learn-env\\lib\\site-packages\\pandas\\core\\generic.py:4405: SettingWithCopyWarning: \n",
      "A value is trying to be set on a copy of a slice from a DataFrame.\n",
      "Try using .loc[row_indexer,col_indexer] = value instead\n",
      "\n",
      "See the caveats in the documentation: http://pandas.pydata.org/pandas-docs/stable/indexing.html#indexing-view-versus-copy\n",
      "  self[name] = value\n"
     ]
    }
   ],
   "source": [
    "experiment.Discount = experiment.Discount.astype('category', inplace = True)"
   ]
  },
  {
   "cell_type": "code",
   "execution_count": 29,
   "metadata": {},
   "outputs": [],
   "source": [
    "ANOVA = pd.get_dummies(experiment)"
   ]
  },
  {
   "cell_type": "code",
   "execution_count": 30,
   "metadata": {},
   "outputs": [
    {
     "data": {
      "text/html": [
       "<div>\n",
       "<style scoped>\n",
       "    .dataframe tbody tr th:only-of-type {\n",
       "        vertical-align: middle;\n",
       "    }\n",
       "\n",
       "    .dataframe tbody tr th {\n",
       "        vertical-align: top;\n",
       "    }\n",
       "\n",
       "    .dataframe thead th {\n",
       "        text-align: right;\n",
       "    }\n",
       "</style>\n",
       "<table border=\"1\" class=\"dataframe\">\n",
       "  <thead>\n",
       "    <tr style=\"text-align: right;\">\n",
       "      <th></th>\n",
       "      <th>Quantity</th>\n",
       "      <th>Discount_0.05</th>\n",
       "      <th>Discount_0.1</th>\n",
       "      <th>Discount_0.15</th>\n",
       "      <th>Discount_0.2</th>\n",
       "      <th>Discount_0.25</th>\n",
       "    </tr>\n",
       "  </thead>\n",
       "  <tbody>\n",
       "    <tr>\n",
       "      <th>6</th>\n",
       "      <td>35</td>\n",
       "      <td>0</td>\n",
       "      <td>0</td>\n",
       "      <td>1</td>\n",
       "      <td>0</td>\n",
       "      <td>0</td>\n",
       "    </tr>\n",
       "    <tr>\n",
       "      <th>7</th>\n",
       "      <td>15</td>\n",
       "      <td>0</td>\n",
       "      <td>0</td>\n",
       "      <td>1</td>\n",
       "      <td>0</td>\n",
       "      <td>0</td>\n",
       "    </tr>\n",
       "    <tr>\n",
       "      <th>8</th>\n",
       "      <td>6</td>\n",
       "      <td>1</td>\n",
       "      <td>0</td>\n",
       "      <td>0</td>\n",
       "      <td>0</td>\n",
       "      <td>0</td>\n",
       "    </tr>\n",
       "    <tr>\n",
       "      <th>9</th>\n",
       "      <td>15</td>\n",
       "      <td>1</td>\n",
       "      <td>0</td>\n",
       "      <td>0</td>\n",
       "      <td>0</td>\n",
       "      <td>0</td>\n",
       "    </tr>\n",
       "    <tr>\n",
       "      <th>11</th>\n",
       "      <td>40</td>\n",
       "      <td>1</td>\n",
       "      <td>0</td>\n",
       "      <td>0</td>\n",
       "      <td>0</td>\n",
       "      <td>0</td>\n",
       "    </tr>\n",
       "  </tbody>\n",
       "</table>\n",
       "</div>"
      ],
      "text/plain": [
       "    Quantity  Discount_0.05  Discount_0.1  Discount_0.15  Discount_0.2  \\\n",
       "6         35              0             0              1             0   \n",
       "7         15              0             0              1             0   \n",
       "8          6              1             0              0             0   \n",
       "9         15              1             0              0             0   \n",
       "11        40              1             0              0             0   \n",
       "\n",
       "    Discount_0.25  \n",
       "6               0  \n",
       "7               0  \n",
       "8               0  \n",
       "9               0  \n",
       "11              0  "
      ]
     },
     "execution_count": 30,
     "metadata": {},
     "output_type": "execute_result"
    }
   ],
   "source": [
    "ANOVA.head()"
   ]
  },
  {
   "cell_type": "markdown",
   "metadata": {},
   "source": [
    "Models cannot read columns with '.' in them. We will rename the columns so that we can run the function."
   ]
  },
  {
   "cell_type": "code",
   "execution_count": 31,
   "metadata": {},
   "outputs": [],
   "source": [
    "ANOVA = ANOVA.rename(columns={'Discount_0.05': 'D05', 'Discount_0.1': 'D1', 'Discount_0.15': 'D15', 'Discount_0.2': 'D2', 'Discount_0.25': 'D25'})"
   ]
  },
  {
   "cell_type": "code",
   "execution_count": 32,
   "metadata": {},
   "outputs": [
    {
     "data": {
      "text/html": [
       "<div>\n",
       "<style scoped>\n",
       "    .dataframe tbody tr th:only-of-type {\n",
       "        vertical-align: middle;\n",
       "    }\n",
       "\n",
       "    .dataframe tbody tr th {\n",
       "        vertical-align: top;\n",
       "    }\n",
       "\n",
       "    .dataframe thead th {\n",
       "        text-align: right;\n",
       "    }\n",
       "</style>\n",
       "<table border=\"1\" class=\"dataframe\">\n",
       "  <thead>\n",
       "    <tr style=\"text-align: right;\">\n",
       "      <th></th>\n",
       "      <th>Quantity</th>\n",
       "      <th>D05</th>\n",
       "      <th>D1</th>\n",
       "      <th>D15</th>\n",
       "      <th>D2</th>\n",
       "      <th>D25</th>\n",
       "    </tr>\n",
       "  </thead>\n",
       "  <tbody>\n",
       "    <tr>\n",
       "      <th>6</th>\n",
       "      <td>35</td>\n",
       "      <td>0</td>\n",
       "      <td>0</td>\n",
       "      <td>1</td>\n",
       "      <td>0</td>\n",
       "      <td>0</td>\n",
       "    </tr>\n",
       "    <tr>\n",
       "      <th>7</th>\n",
       "      <td>15</td>\n",
       "      <td>0</td>\n",
       "      <td>0</td>\n",
       "      <td>1</td>\n",
       "      <td>0</td>\n",
       "      <td>0</td>\n",
       "    </tr>\n",
       "    <tr>\n",
       "      <th>8</th>\n",
       "      <td>6</td>\n",
       "      <td>1</td>\n",
       "      <td>0</td>\n",
       "      <td>0</td>\n",
       "      <td>0</td>\n",
       "      <td>0</td>\n",
       "    </tr>\n",
       "    <tr>\n",
       "      <th>9</th>\n",
       "      <td>15</td>\n",
       "      <td>1</td>\n",
       "      <td>0</td>\n",
       "      <td>0</td>\n",
       "      <td>0</td>\n",
       "      <td>0</td>\n",
       "    </tr>\n",
       "    <tr>\n",
       "      <th>11</th>\n",
       "      <td>40</td>\n",
       "      <td>1</td>\n",
       "      <td>0</td>\n",
       "      <td>0</td>\n",
       "      <td>0</td>\n",
       "      <td>0</td>\n",
       "    </tr>\n",
       "  </tbody>\n",
       "</table>\n",
       "</div>"
      ],
      "text/plain": [
       "    Quantity  D05  D1  D15  D2  D25\n",
       "6         35    0   0    1   0    0\n",
       "7         15    0   0    1   0    0\n",
       "8          6    1   0    0   0    0\n",
       "9         15    1   0    0   0    0\n",
       "11        40    1   0    0   0    0"
      ]
     },
     "execution_count": 32,
     "metadata": {},
     "output_type": "execute_result"
    }
   ],
   "source": [
    "ANOVA.head()"
   ]
  },
  {
   "cell_type": "code",
   "execution_count": 33,
   "metadata": {},
   "outputs": [
    {
     "name": "stdout",
     "output_type": "stream",
     "text": [
      "                 sum_sq     df          F    PR(>F)\n",
      "D05         6072.618611    1.0  14.121639  0.000183\n",
      "D1          1248.788690    1.0   2.904010  0.088736\n",
      "D15         6090.999131    1.0  14.164382  0.000179\n",
      "D2          3556.407829    1.0   8.270288  0.004134\n",
      "D25         5691.836049    1.0  13.236144  0.000292\n",
      "Residual  354768.342690  825.0        NaN       NaN\n"
     ]
    }
   ],
   "source": [
    "#running ANOVA test\n",
    "formula = 'Quantity ~ D05 + D1 + D15 + D2 + D25'\n",
    "lm = ols(formula, ANOVA).fit()\n",
    "table = sm.stats.anova_lm(lm, typ=2)\n",
    "print(table)"
   ]
  },
  {
   "cell_type": "markdown",
   "metadata": {},
   "source": [
    "As you can see, the 15%, 5% and 25% discount levels impacted the quantity the most. This verifies the visual above. Also may be good to know as an additional insight that the 10% discount is not a significant discount. "
   ]
  },
  {
   "cell_type": "markdown",
   "metadata": {},
   "source": [
    "## Question 2: Did any discontinued products have a significant effect on order quantity to justify replacement?"
   ]
  },
  {
   "cell_type": "markdown",
   "metadata": {},
   "source": [
    "### Ho = Discontinued products had no effect on order quantity.\n",
    "\n",
    "### Ha = There are one or more discontinued products that had a positive effect on order quantity"
   ]
  },
  {
   "cell_type": "markdown",
   "metadata": {},
   "source": [
    "While the same t-test and ANOVA test will be used, we will need to take an additional step with the data as it needs merged."
   ]
  },
  {
   "cell_type": "code",
   "execution_count": 34,
   "metadata": {},
   "outputs": [
    {
     "data": {
      "text/html": [
       "<div>\n",
       "<style scoped>\n",
       "    .dataframe tbody tr th:only-of-type {\n",
       "        vertical-align: middle;\n",
       "    }\n",
       "\n",
       "    .dataframe tbody tr th {\n",
       "        vertical-align: top;\n",
       "    }\n",
       "\n",
       "    .dataframe thead th {\n",
       "        text-align: right;\n",
       "    }\n",
       "</style>\n",
       "<table border=\"1\" class=\"dataframe\">\n",
       "  <thead>\n",
       "    <tr style=\"text-align: right;\">\n",
       "      <th></th>\n",
       "      <th>Id</th>\n",
       "      <th>ProductName</th>\n",
       "      <th>SupplierId</th>\n",
       "      <th>CategoryId</th>\n",
       "      <th>QuantityPerUnit</th>\n",
       "      <th>UnitPrice</th>\n",
       "      <th>UnitsInStock</th>\n",
       "      <th>UnitsOnOrder</th>\n",
       "      <th>ReorderLevel</th>\n",
       "      <th>Discontinued</th>\n",
       "    </tr>\n",
       "  </thead>\n",
       "  <tbody>\n",
       "    <tr>\n",
       "      <th>0</th>\n",
       "      <td>1</td>\n",
       "      <td>Chai</td>\n",
       "      <td>1</td>\n",
       "      <td>1</td>\n",
       "      <td>10 boxes x 20 bags</td>\n",
       "      <td>18.00</td>\n",
       "      <td>39</td>\n",
       "      <td>0</td>\n",
       "      <td>10</td>\n",
       "      <td>0</td>\n",
       "    </tr>\n",
       "    <tr>\n",
       "      <th>1</th>\n",
       "      <td>2</td>\n",
       "      <td>Chang</td>\n",
       "      <td>1</td>\n",
       "      <td>1</td>\n",
       "      <td>24 - 12 oz bottles</td>\n",
       "      <td>19.00</td>\n",
       "      <td>17</td>\n",
       "      <td>40</td>\n",
       "      <td>25</td>\n",
       "      <td>0</td>\n",
       "    </tr>\n",
       "    <tr>\n",
       "      <th>2</th>\n",
       "      <td>3</td>\n",
       "      <td>Aniseed Syrup</td>\n",
       "      <td>1</td>\n",
       "      <td>2</td>\n",
       "      <td>12 - 550 ml bottles</td>\n",
       "      <td>10.00</td>\n",
       "      <td>13</td>\n",
       "      <td>70</td>\n",
       "      <td>25</td>\n",
       "      <td>0</td>\n",
       "    </tr>\n",
       "    <tr>\n",
       "      <th>3</th>\n",
       "      <td>4</td>\n",
       "      <td>Chef Anton's Cajun Seasoning</td>\n",
       "      <td>2</td>\n",
       "      <td>2</td>\n",
       "      <td>48 - 6 oz jars</td>\n",
       "      <td>22.00</td>\n",
       "      <td>53</td>\n",
       "      <td>0</td>\n",
       "      <td>0</td>\n",
       "      <td>0</td>\n",
       "    </tr>\n",
       "    <tr>\n",
       "      <th>4</th>\n",
       "      <td>5</td>\n",
       "      <td>Chef Anton's Gumbo Mix</td>\n",
       "      <td>2</td>\n",
       "      <td>2</td>\n",
       "      <td>36 boxes</td>\n",
       "      <td>21.35</td>\n",
       "      <td>0</td>\n",
       "      <td>0</td>\n",
       "      <td>0</td>\n",
       "      <td>1</td>\n",
       "    </tr>\n",
       "  </tbody>\n",
       "</table>\n",
       "</div>"
      ],
      "text/plain": [
       "   Id                   ProductName  SupplierId  CategoryId  \\\n",
       "0   1                          Chai           1           1   \n",
       "1   2                         Chang           1           1   \n",
       "2   3                 Aniseed Syrup           1           2   \n",
       "3   4  Chef Anton's Cajun Seasoning           2           2   \n",
       "4   5        Chef Anton's Gumbo Mix           2           2   \n",
       "\n",
       "       QuantityPerUnit  UnitPrice  UnitsInStock  UnitsOnOrder  ReorderLevel  \\\n",
       "0   10 boxes x 20 bags      18.00            39             0            10   \n",
       "1   24 - 12 oz bottles      19.00            17            40            25   \n",
       "2  12 - 550 ml bottles      10.00            13            70            25   \n",
       "3       48 - 6 oz jars      22.00            53             0             0   \n",
       "4             36 boxes      21.35             0             0             0   \n",
       "\n",
       "   Discontinued  \n",
       "0             0  \n",
       "1             0  \n",
       "2             0  \n",
       "3             0  \n",
       "4             1  "
      ]
     },
     "execution_count": 34,
     "metadata": {},
     "output_type": "execute_result"
    }
   ],
   "source": [
    "product_df.head()"
   ]
  },
  {
   "cell_type": "code",
   "execution_count": 35,
   "metadata": {},
   "outputs": [
    {
     "data": {
      "text/html": [
       "<div>\n",
       "<style scoped>\n",
       "    .dataframe tbody tr th:only-of-type {\n",
       "        vertical-align: middle;\n",
       "    }\n",
       "\n",
       "    .dataframe tbody tr th {\n",
       "        vertical-align: top;\n",
       "    }\n",
       "\n",
       "    .dataframe thead th {\n",
       "        text-align: right;\n",
       "    }\n",
       "</style>\n",
       "<table border=\"1\" class=\"dataframe\">\n",
       "  <thead>\n",
       "    <tr style=\"text-align: right;\">\n",
       "      <th></th>\n",
       "      <th>Id</th>\n",
       "      <th>OrderId</th>\n",
       "      <th>ProductId</th>\n",
       "      <th>UnitPrice</th>\n",
       "      <th>Quantity</th>\n",
       "      <th>Discount</th>\n",
       "    </tr>\n",
       "  </thead>\n",
       "  <tbody>\n",
       "    <tr>\n",
       "      <th>0</th>\n",
       "      <td>10248/11</td>\n",
       "      <td>10248</td>\n",
       "      <td>11</td>\n",
       "      <td>14.0</td>\n",
       "      <td>12</td>\n",
       "      <td>0.0</td>\n",
       "    </tr>\n",
       "    <tr>\n",
       "      <th>1</th>\n",
       "      <td>10248/42</td>\n",
       "      <td>10248</td>\n",
       "      <td>42</td>\n",
       "      <td>9.8</td>\n",
       "      <td>10</td>\n",
       "      <td>0.0</td>\n",
       "    </tr>\n",
       "    <tr>\n",
       "      <th>2</th>\n",
       "      <td>10248/72</td>\n",
       "      <td>10248</td>\n",
       "      <td>72</td>\n",
       "      <td>34.8</td>\n",
       "      <td>5</td>\n",
       "      <td>0.0</td>\n",
       "    </tr>\n",
       "    <tr>\n",
       "      <th>3</th>\n",
       "      <td>10249/14</td>\n",
       "      <td>10249</td>\n",
       "      <td>14</td>\n",
       "      <td>18.6</td>\n",
       "      <td>9</td>\n",
       "      <td>0.0</td>\n",
       "    </tr>\n",
       "    <tr>\n",
       "      <th>4</th>\n",
       "      <td>10249/51</td>\n",
       "      <td>10249</td>\n",
       "      <td>51</td>\n",
       "      <td>42.4</td>\n",
       "      <td>40</td>\n",
       "      <td>0.0</td>\n",
       "    </tr>\n",
       "  </tbody>\n",
       "</table>\n",
       "</div>"
      ],
      "text/plain": [
       "         Id  OrderId  ProductId  UnitPrice  Quantity  Discount\n",
       "0  10248/11    10248         11       14.0        12       0.0\n",
       "1  10248/42    10248         42        9.8        10       0.0\n",
       "2  10248/72    10248         72       34.8         5       0.0\n",
       "3  10249/14    10249         14       18.6         9       0.0\n",
       "4  10249/51    10249         51       42.4        40       0.0"
      ]
     },
     "execution_count": 35,
     "metadata": {},
     "output_type": "execute_result"
    }
   ],
   "source": [
    "orderdetail_df.head()"
   ]
  },
  {
   "cell_type": "code",
   "execution_count": 36,
   "metadata": {},
   "outputs": [],
   "source": [
    "product_df = product_df.rename(columns={'Id': 'ProductId'})"
   ]
  },
  {
   "cell_type": "code",
   "execution_count": 37,
   "metadata": {},
   "outputs": [],
   "source": [
    "hyp2 = orderdetail_df.merge(product_df, on = 'ProductId')"
   ]
  },
  {
   "cell_type": "code",
   "execution_count": 38,
   "metadata": {
    "scrolled": true
   },
   "outputs": [
    {
     "data": {
      "text/html": [
       "<div>\n",
       "<style scoped>\n",
       "    .dataframe tbody tr th:only-of-type {\n",
       "        vertical-align: middle;\n",
       "    }\n",
       "\n",
       "    .dataframe tbody tr th {\n",
       "        vertical-align: top;\n",
       "    }\n",
       "\n",
       "    .dataframe thead th {\n",
       "        text-align: right;\n",
       "    }\n",
       "</style>\n",
       "<table border=\"1\" class=\"dataframe\">\n",
       "  <thead>\n",
       "    <tr style=\"text-align: right;\">\n",
       "      <th></th>\n",
       "      <th>Id</th>\n",
       "      <th>OrderId</th>\n",
       "      <th>ProductId</th>\n",
       "      <th>UnitPrice_x</th>\n",
       "      <th>Quantity</th>\n",
       "      <th>Discount</th>\n",
       "      <th>ProductName</th>\n",
       "      <th>SupplierId</th>\n",
       "      <th>CategoryId</th>\n",
       "      <th>QuantityPerUnit</th>\n",
       "      <th>UnitPrice_y</th>\n",
       "      <th>UnitsInStock</th>\n",
       "      <th>UnitsOnOrder</th>\n",
       "      <th>ReorderLevel</th>\n",
       "      <th>Discontinued</th>\n",
       "    </tr>\n",
       "  </thead>\n",
       "  <tbody>\n",
       "    <tr>\n",
       "      <th>0</th>\n",
       "      <td>10248/11</td>\n",
       "      <td>10248</td>\n",
       "      <td>11</td>\n",
       "      <td>14.0</td>\n",
       "      <td>12</td>\n",
       "      <td>0.0</td>\n",
       "      <td>Queso Cabrales</td>\n",
       "      <td>5</td>\n",
       "      <td>4</td>\n",
       "      <td>1 kg pkg.</td>\n",
       "      <td>21.0</td>\n",
       "      <td>22</td>\n",
       "      <td>30</td>\n",
       "      <td>30</td>\n",
       "      <td>0</td>\n",
       "    </tr>\n",
       "    <tr>\n",
       "      <th>1</th>\n",
       "      <td>10296/11</td>\n",
       "      <td>10296</td>\n",
       "      <td>11</td>\n",
       "      <td>16.8</td>\n",
       "      <td>12</td>\n",
       "      <td>0.0</td>\n",
       "      <td>Queso Cabrales</td>\n",
       "      <td>5</td>\n",
       "      <td>4</td>\n",
       "      <td>1 kg pkg.</td>\n",
       "      <td>21.0</td>\n",
       "      <td>22</td>\n",
       "      <td>30</td>\n",
       "      <td>30</td>\n",
       "      <td>0</td>\n",
       "    </tr>\n",
       "    <tr>\n",
       "      <th>2</th>\n",
       "      <td>10327/11</td>\n",
       "      <td>10327</td>\n",
       "      <td>11</td>\n",
       "      <td>16.8</td>\n",
       "      <td>50</td>\n",
       "      <td>0.2</td>\n",
       "      <td>Queso Cabrales</td>\n",
       "      <td>5</td>\n",
       "      <td>4</td>\n",
       "      <td>1 kg pkg.</td>\n",
       "      <td>21.0</td>\n",
       "      <td>22</td>\n",
       "      <td>30</td>\n",
       "      <td>30</td>\n",
       "      <td>0</td>\n",
       "    </tr>\n",
       "    <tr>\n",
       "      <th>3</th>\n",
       "      <td>10353/11</td>\n",
       "      <td>10353</td>\n",
       "      <td>11</td>\n",
       "      <td>16.8</td>\n",
       "      <td>12</td>\n",
       "      <td>0.2</td>\n",
       "      <td>Queso Cabrales</td>\n",
       "      <td>5</td>\n",
       "      <td>4</td>\n",
       "      <td>1 kg pkg.</td>\n",
       "      <td>21.0</td>\n",
       "      <td>22</td>\n",
       "      <td>30</td>\n",
       "      <td>30</td>\n",
       "      <td>0</td>\n",
       "    </tr>\n",
       "    <tr>\n",
       "      <th>4</th>\n",
       "      <td>10365/11</td>\n",
       "      <td>10365</td>\n",
       "      <td>11</td>\n",
       "      <td>16.8</td>\n",
       "      <td>24</td>\n",
       "      <td>0.0</td>\n",
       "      <td>Queso Cabrales</td>\n",
       "      <td>5</td>\n",
       "      <td>4</td>\n",
       "      <td>1 kg pkg.</td>\n",
       "      <td>21.0</td>\n",
       "      <td>22</td>\n",
       "      <td>30</td>\n",
       "      <td>30</td>\n",
       "      <td>0</td>\n",
       "    </tr>\n",
       "  </tbody>\n",
       "</table>\n",
       "</div>"
      ],
      "text/plain": [
       "         Id  OrderId  ProductId  UnitPrice_x  Quantity  Discount  \\\n",
       "0  10248/11    10248         11         14.0        12       0.0   \n",
       "1  10296/11    10296         11         16.8        12       0.0   \n",
       "2  10327/11    10327         11         16.8        50       0.2   \n",
       "3  10353/11    10353         11         16.8        12       0.2   \n",
       "4  10365/11    10365         11         16.8        24       0.0   \n",
       "\n",
       "      ProductName  SupplierId  CategoryId QuantityPerUnit  UnitPrice_y  \\\n",
       "0  Queso Cabrales           5           4       1 kg pkg.         21.0   \n",
       "1  Queso Cabrales           5           4       1 kg pkg.         21.0   \n",
       "2  Queso Cabrales           5           4       1 kg pkg.         21.0   \n",
       "3  Queso Cabrales           5           4       1 kg pkg.         21.0   \n",
       "4  Queso Cabrales           5           4       1 kg pkg.         21.0   \n",
       "\n",
       "   UnitsInStock  UnitsOnOrder  ReorderLevel  Discontinued  \n",
       "0            22            30            30             0  \n",
       "1            22            30            30             0  \n",
       "2            22            30            30             0  \n",
       "3            22            30            30             0  \n",
       "4            22            30            30             0  "
      ]
     },
     "execution_count": 38,
     "metadata": {},
     "output_type": "execute_result"
    }
   ],
   "source": [
    "hyp2.head()"
   ]
  },
  {
   "cell_type": "code",
   "execution_count": 39,
   "metadata": {},
   "outputs": [
    {
     "name": "stdout",
     "output_type": "stream",
     "text": [
      "<class 'pandas.core.frame.DataFrame'>\n",
      "Int64Index: 2155 entries, 0 to 2154\n",
      "Data columns (total 15 columns):\n",
      "Id                 2155 non-null object\n",
      "OrderId            2155 non-null int64\n",
      "ProductId          2155 non-null int64\n",
      "UnitPrice_x        2155 non-null float64\n",
      "Quantity           2155 non-null int64\n",
      "Discount           2155 non-null float64\n",
      "ProductName        2155 non-null object\n",
      "SupplierId         2155 non-null int64\n",
      "CategoryId         2155 non-null int64\n",
      "QuantityPerUnit    2155 non-null object\n",
      "UnitPrice_y        2155 non-null float64\n",
      "UnitsInStock       2155 non-null int64\n",
      "UnitsOnOrder       2155 non-null int64\n",
      "ReorderLevel       2155 non-null int64\n",
      "Discontinued       2155 non-null int64\n",
      "dtypes: float64(3), int64(9), object(3)\n",
      "memory usage: 269.4+ KB\n"
     ]
    }
   ],
   "source": [
    "hyp2.info()"
   ]
  },
  {
   "cell_type": "markdown",
   "metadata": {},
   "source": [
    "Now that we have a good working dataframe, now we can repeat the t-test and ANOVA."
   ]
  },
  {
   "cell_type": "code",
   "execution_count": 40,
   "metadata": {},
   "outputs": [],
   "source": [
    "hyp2 = hyp2[['Quantity','Discontinued', 'ProductId']]"
   ]
  },
  {
   "cell_type": "code",
   "execution_count": 41,
   "metadata": {},
   "outputs": [],
   "source": [
    "hyp2 = hyp2.copy()"
   ]
  },
  {
   "cell_type": "code",
   "execution_count": 42,
   "metadata": {},
   "outputs": [],
   "source": [
    "control = hyp2[hyp2.Discontinued == 0]\n",
    "control2 = control.ProductId"
   ]
  },
  {
   "cell_type": "code",
   "execution_count": 43,
   "metadata": {},
   "outputs": [],
   "source": [
    "experiment = hyp2[hyp2.Discontinued == 1]\n",
    "experiment2 = experiment.ProductId"
   ]
  },
  {
   "cell_type": "code",
   "execution_count": 44,
   "metadata": {},
   "outputs": [
    {
     "name": "stderr",
     "output_type": "stream",
     "text": [
      "C:\\Users\\perso\\Anaconda3\\envs\\learn-env\\lib\\site-packages\\scipy\\stats\\stats.py:1713: FutureWarning: Using a non-tuple sequence for multidimensional indexing is deprecated; use `arr[tuple(seq)]` instead of `arr[seq]`. In the future this will be interpreted as an array index, `arr[np.array(seq)]`, which will result either in an error or a different result.\n",
      "  return np.add.reduce(sorted[indexer] * weights, axis=axis) / sumval\n"
     ]
    },
    {
     "data": {
      "text/plain": [
       "<matplotlib.axes._subplots.AxesSubplot at 0x15d91717278>"
      ]
     },
     "execution_count": 44,
     "metadata": {},
     "output_type": "execute_result"
    },
    {
     "data": {
      "image/png": "[encoded data removed]",
      "text/plain": [
       "<Figure size 864x720 with 1 Axes>"
      ]
     },
     "metadata": {},
     "output_type": "display_data"
    }
   ],
   "source": [
    "sns.set(color_codes=True)\n",
    "sns.set(rc={'figure.figsize':(12,10)})\n",
    "sns.distplot(control2) # Blue distribution\n",
    "sns.distplot(experiment2) # Orange distribution"
   ]
  },
  {
   "cell_type": "markdown",
   "metadata": {},
   "source": [
    "The visual shows that these are not normal distributions, we will confirm with the shapiro tests."
   ]
  },
  {
   "cell_type": "code",
   "execution_count": 45,
   "metadata": {},
   "outputs": [
    {
     "name": "stdout",
     "output_type": "stream",
     "text": [
      "(0.9470006823539734, 8.755490149850235e-26)\n",
      "(0.9039937257766724, 6.38216632320443e-11)\n"
     ]
    }
   ],
   "source": [
    "print(stats.shapiro(control2))\n",
    "print(stats.shapiro(experiment2))"
   ]
  },
  {
   "cell_type": "markdown",
   "metadata": {},
   "source": [
    "The Shapiro tests show that the distributions are not normal. We will run a Welch's t-test for non-normal distributions."
   ]
  },
  {
   "cell_type": "code",
   "execution_count": 46,
   "metadata": {},
   "outputs": [
    {
     "data": {
      "text/plain": [
       "13.16321468104886"
      ]
     },
     "execution_count": 46,
     "metadata": {},
     "output_type": "execute_result"
    }
   ],
   "source": [
    "def welch_t(a, b):   \n",
    "    \"\"\" Calculate Welch's t statistic for two samples. \"\"\"\n",
    "    numerator = a.mean() - b.mean()\n",
    "    # “ddof = Delta Degrees of Freedom”: the divisor used in the calculation is N - ddof, \n",
    "    #  where N represents the number of elements. By default ddof is zero.\n",
    "    denominator = np.sqrt(a.var(ddof=1)/a.size + b.var(ddof=1)/b.size)    \n",
    "    return numerator/denominator\n",
    "\n",
    "welch_t(control2,experiment2)"
   ]
  },
  {
   "cell_type": "markdown",
   "metadata": {},
   "source": [
    "The low result shows that there isn't a significant difference in quantity ordered based on the discontinued products. To further validate, we will run an effect size (Cohen's D) on the discontinued products to the Qunatity."
   ]
  },
  {
   "cell_type": "code",
   "execution_count": 47,
   "metadata": {},
   "outputs": [
    {
     "data": {
      "text/plain": [
       "0.35328508790898755"
      ]
     },
     "execution_count": 47,
     "metadata": {},
     "output_type": "execute_result"
    }
   ],
   "source": [
    "def cohend(d1, d2):\n",
    "\t# calculate the size of samples\n",
    "\tn1, n2 = len(d1), len(d2)\n",
    "\t# calculate the variance of the samples\n",
    "\ts1, s2 = d1.var(ddof=1), d2.var(ddof=1)\n",
    "\t# calculate the pooled standard deviation\n",
    "\ts = np.sqrt(((n1 - 1) * s1 + (n2 - 1) * s2) / (n1 + n2 - 2))\n",
    "\t# calculate the means of the samples\n",
    "\tu1, u2 = np.mean(d1), np.mean(d2)\n",
    "\t# calculate the effect size\n",
    "\treturn (u1 - u2) / s\n",
    "\n",
    "cohend(experiment2, experiment.Quantity)"
   ]
  },
  {
   "cell_type": "markdown",
   "metadata": {},
   "source": [
    "This is a low effect size and vfurther validates the result. But we will run an ANOVA on each product to further validate."
   ]
  },
  {
   "cell_type": "code",
   "execution_count": 48,
   "metadata": {},
   "outputs": [
    {
     "name": "stderr",
     "output_type": "stream",
     "text": [
      "C:\\Users\\perso\\Anaconda3\\envs\\learn-env\\lib\\site-packages\\pandas\\core\\generic.py:4405: SettingWithCopyWarning: \n",
      "A value is trying to be set on a copy of a slice from a DataFrame.\n",
      "Try using .loc[row_indexer,col_indexer] = value instead\n",
      "\n",
      "See the caveats in the documentation: http://pandas.pydata.org/pandas-docs/stable/indexing.html#indexing-view-versus-copy\n",
      "  self[name] = value\n"
     ]
    }
   ],
   "source": [
    "experiment.ProductId = experiment.ProductId.astype('category', inplace = True)"
   ]
  },
  {
   "cell_type": "code",
   "execution_count": 49,
   "metadata": {},
   "outputs": [],
   "source": [
    "ANOVA = pd.get_dummies(experiment)"
   ]
  },
  {
   "cell_type": "code",
   "execution_count": 50,
   "metadata": {},
   "outputs": [
    {
     "data": {
      "text/html": [
       "<div>\n",
       "<style scoped>\n",
       "    .dataframe tbody tr th:only-of-type {\n",
       "        vertical-align: middle;\n",
       "    }\n",
       "\n",
       "    .dataframe tbody tr th {\n",
       "        vertical-align: top;\n",
       "    }\n",
       "\n",
       "    .dataframe thead th {\n",
       "        text-align: right;\n",
       "    }\n",
       "</style>\n",
       "<table border=\"1\" class=\"dataframe\">\n",
       "  <thead>\n",
       "    <tr style=\"text-align: right;\">\n",
       "      <th></th>\n",
       "      <th>Quantity</th>\n",
       "      <th>Discontinued</th>\n",
       "      <th>ProductId_5</th>\n",
       "      <th>ProductId_9</th>\n",
       "      <th>ProductId_17</th>\n",
       "      <th>ProductId_24</th>\n",
       "      <th>ProductId_28</th>\n",
       "      <th>ProductId_29</th>\n",
       "      <th>ProductId_42</th>\n",
       "      <th>ProductId_53</th>\n",
       "    </tr>\n",
       "  </thead>\n",
       "  <tbody>\n",
       "    <tr>\n",
       "      <th>38</th>\n",
       "      <td>10</td>\n",
       "      <td>1</td>\n",
       "      <td>0</td>\n",
       "      <td>0</td>\n",
       "      <td>0</td>\n",
       "      <td>0</td>\n",
       "      <td>0</td>\n",
       "      <td>0</td>\n",
       "      <td>1</td>\n",
       "      <td>0</td>\n",
       "    </tr>\n",
       "    <tr>\n",
       "      <th>39</th>\n",
       "      <td>2</td>\n",
       "      <td>1</td>\n",
       "      <td>0</td>\n",
       "      <td>0</td>\n",
       "      <td>0</td>\n",
       "      <td>0</td>\n",
       "      <td>0</td>\n",
       "      <td>0</td>\n",
       "      <td>1</td>\n",
       "      <td>0</td>\n",
       "    </tr>\n",
       "    <tr>\n",
       "      <th>40</th>\n",
       "      <td>6</td>\n",
       "      <td>1</td>\n",
       "      <td>0</td>\n",
       "      <td>0</td>\n",
       "      <td>0</td>\n",
       "      <td>0</td>\n",
       "      <td>0</td>\n",
       "      <td>0</td>\n",
       "      <td>1</td>\n",
       "      <td>0</td>\n",
       "    </tr>\n",
       "    <tr>\n",
       "      <th>41</th>\n",
       "      <td>10</td>\n",
       "      <td>1</td>\n",
       "      <td>0</td>\n",
       "      <td>0</td>\n",
       "      <td>0</td>\n",
       "      <td>0</td>\n",
       "      <td>0</td>\n",
       "      <td>0</td>\n",
       "      <td>1</td>\n",
       "      <td>0</td>\n",
       "    </tr>\n",
       "    <tr>\n",
       "      <th>42</th>\n",
       "      <td>9</td>\n",
       "      <td>1</td>\n",
       "      <td>0</td>\n",
       "      <td>0</td>\n",
       "      <td>0</td>\n",
       "      <td>0</td>\n",
       "      <td>0</td>\n",
       "      <td>0</td>\n",
       "      <td>1</td>\n",
       "      <td>0</td>\n",
       "    </tr>\n",
       "  </tbody>\n",
       "</table>\n",
       "</div>"
      ],
      "text/plain": [
       "    Quantity  Discontinued  ProductId_5  ProductId_9  ProductId_17  \\\n",
       "38        10             1            0            0             0   \n",
       "39         2             1            0            0             0   \n",
       "40         6             1            0            0             0   \n",
       "41        10             1            0            0             0   \n",
       "42         9             1            0            0             0   \n",
       "\n",
       "    ProductId_24  ProductId_28  ProductId_29  ProductId_42  ProductId_53  \n",
       "38             0             0             0             1             0  \n",
       "39             0             0             0             1             0  \n",
       "40             0             0             0             1             0  \n",
       "41             0             0             0             1             0  \n",
       "42             0             0             0             1             0  "
      ]
     },
     "execution_count": 50,
     "metadata": {},
     "output_type": "execute_result"
    }
   ],
   "source": [
    "ANOVA.head()"
   ]
  },
  {
   "cell_type": "code",
   "execution_count": 51,
   "metadata": {},
   "outputs": [
    {
     "name": "stdout",
     "output_type": "stream",
     "text": [
      "                       sum_sq     df         F    PR(>F)\n",
      "C(ProductId_5)     966.099395    1.0  2.384855  0.123953\n",
      "C(ProductId_9)      20.314939    1.0  0.050148  0.823013\n",
      "C(ProductId_17)   1175.524868    1.0  2.901831  0.089891\n",
      "C(ProductId_24)     73.766366    1.0  0.182095  0.669996\n",
      "C(ProductId_28)     68.214499    1.0  0.168390  0.681946\n",
      "C(ProductId_29)    207.446178    1.0  0.512089  0.474995\n",
      "C(ProductId_42)    184.608674    1.0  0.455714  0.500343\n",
      "C(ProductId_53)    333.465458    1.0  0.823173  0.365247\n",
      "Residual         89121.491732  220.0       NaN       NaN\n"
     ]
    }
   ],
   "source": [
    "formula = 'Quantity ~ C(ProductId_5) + C(ProductId_9) + C(ProductId_17) + C(ProductId_24) + C(ProductId_28) + C(ProductId_29) + C(ProductId_42) + C(ProductId_53)'\n",
    "lm = ols(formula, ANOVA).fit()\n",
    "table = sm.stats.anova_lm(lm, typ=2)\n",
    "print(table)"
   ]
  },
  {
   "cell_type": "markdown",
   "metadata": {},
   "source": [
    "Verified. No significant impact from the discontinued products."
   ]
  },
  {
   "cell_type": "markdown",
   "metadata": {},
   "source": [
    "## Question 3: Is there a region that expansion should be focused?"
   ]
  },
  {
   "cell_type": "markdown",
   "metadata": {},
   "source": [
    "### Ho = There is no significant difference in total sales between regions.\n",
    "\n",
    "### Ha = There is a significant proportion of total sales in certain region(s)."
   ]
  },
  {
   "cell_type": "markdown",
   "metadata": {},
   "source": [
    "In order to answer this hypothesis, we will need to feature engineer a 'total sales' based on quantity times unit price. We will also include any discounts applied to those orders."
   ]
  },
  {
   "cell_type": "code",
   "execution_count": 52,
   "metadata": {},
   "outputs": [
    {
     "data": {
      "text/html": [
       "<div>\n",
       "<style scoped>\n",
       "    .dataframe tbody tr th:only-of-type {\n",
       "        vertical-align: middle;\n",
       "    }\n",
       "\n",
       "    .dataframe tbody tr th {\n",
       "        vertical-align: top;\n",
       "    }\n",
       "\n",
       "    .dataframe thead th {\n",
       "        text-align: right;\n",
       "    }\n",
       "</style>\n",
       "<table border=\"1\" class=\"dataframe\">\n",
       "  <thead>\n",
       "    <tr style=\"text-align: right;\">\n",
       "      <th></th>\n",
       "      <th>Id</th>\n",
       "      <th>OrderId</th>\n",
       "      <th>ProductId</th>\n",
       "      <th>UnitPrice</th>\n",
       "      <th>Quantity</th>\n",
       "      <th>Discount</th>\n",
       "    </tr>\n",
       "  </thead>\n",
       "  <tbody>\n",
       "    <tr>\n",
       "      <th>0</th>\n",
       "      <td>10248/11</td>\n",
       "      <td>10248</td>\n",
       "      <td>11</td>\n",
       "      <td>14.0</td>\n",
       "      <td>12</td>\n",
       "      <td>0.0</td>\n",
       "    </tr>\n",
       "    <tr>\n",
       "      <th>1</th>\n",
       "      <td>10248/42</td>\n",
       "      <td>10248</td>\n",
       "      <td>42</td>\n",
       "      <td>9.8</td>\n",
       "      <td>10</td>\n",
       "      <td>0.0</td>\n",
       "    </tr>\n",
       "    <tr>\n",
       "      <th>2</th>\n",
       "      <td>10248/72</td>\n",
       "      <td>10248</td>\n",
       "      <td>72</td>\n",
       "      <td>34.8</td>\n",
       "      <td>5</td>\n",
       "      <td>0.0</td>\n",
       "    </tr>\n",
       "    <tr>\n",
       "      <th>3</th>\n",
       "      <td>10249/14</td>\n",
       "      <td>10249</td>\n",
       "      <td>14</td>\n",
       "      <td>18.6</td>\n",
       "      <td>9</td>\n",
       "      <td>0.0</td>\n",
       "    </tr>\n",
       "    <tr>\n",
       "      <th>4</th>\n",
       "      <td>10249/51</td>\n",
       "      <td>10249</td>\n",
       "      <td>51</td>\n",
       "      <td>42.4</td>\n",
       "      <td>40</td>\n",
       "      <td>0.0</td>\n",
       "    </tr>\n",
       "  </tbody>\n",
       "</table>\n",
       "</div>"
      ],
      "text/plain": [
       "         Id  OrderId  ProductId  UnitPrice  Quantity  Discount\n",
       "0  10248/11    10248         11       14.0        12       0.0\n",
       "1  10248/42    10248         42        9.8        10       0.0\n",
       "2  10248/72    10248         72       34.8         5       0.0\n",
       "3  10249/14    10249         14       18.6         9       0.0\n",
       "4  10249/51    10249         51       42.4        40       0.0"
      ]
     },
     "execution_count": 52,
     "metadata": {},
     "output_type": "execute_result"
    }
   ],
   "source": [
    "orderdetail_df.head()"
   ]
  },
  {
   "cell_type": "code",
   "execution_count": 53,
   "metadata": {},
   "outputs": [],
   "source": [
    "hyp3 = orderdetail_df.copy()"
   ]
  },
  {
   "cell_type": "code",
   "execution_count": 54,
   "metadata": {},
   "outputs": [],
   "source": [
    "hyp3d = hyp3[hyp3.Discount == 0]"
   ]
  },
  {
   "cell_type": "code",
   "execution_count": 55,
   "metadata": {},
   "outputs": [
    {
     "name": "stdout",
     "output_type": "stream",
     "text": [
      "<class 'pandas.core.frame.DataFrame'>\n",
      "Int64Index: 1317 entries, 0 to 2154\n",
      "Data columns (total 6 columns):\n",
      "Id           1317 non-null object\n",
      "OrderId      1317 non-null int64\n",
      "ProductId    1317 non-null int64\n",
      "UnitPrice    1317 non-null float64\n",
      "Quantity     1317 non-null int64\n",
      "Discount     1317 non-null float64\n",
      "dtypes: float64(2), int64(3), object(1)\n",
      "memory usage: 72.0+ KB\n"
     ]
    }
   ],
   "source": [
    "hyp3d.info()"
   ]
  },
  {
   "cell_type": "code",
   "execution_count": 56,
   "metadata": {},
   "outputs": [],
   "source": [
    "hyp3nd = hyp3[hyp3.Discount != 0]"
   ]
  },
  {
   "cell_type": "code",
   "execution_count": 57,
   "metadata": {},
   "outputs": [
    {
     "name": "stdout",
     "output_type": "stream",
     "text": [
      "<class 'pandas.core.frame.DataFrame'>\n",
      "Int64Index: 838 entries, 6 to 2152\n",
      "Data columns (total 6 columns):\n",
      "Id           838 non-null object\n",
      "OrderId      838 non-null int64\n",
      "ProductId    838 non-null int64\n",
      "UnitPrice    838 non-null float64\n",
      "Quantity     838 non-null int64\n",
      "Discount     838 non-null float64\n",
      "dtypes: float64(2), int64(3), object(1)\n",
      "memory usage: 45.8+ KB\n"
     ]
    }
   ],
   "source": [
    "hyp3nd.info()"
   ]
  },
  {
   "cell_type": "code",
   "execution_count": 58,
   "metadata": {},
   "outputs": [
    {
     "name": "stderr",
     "output_type": "stream",
     "text": [
      "C:\\Users\\perso\\Anaconda3\\envs\\learn-env\\lib\\site-packages\\ipykernel_launcher.py:1: SettingWithCopyWarning: \n",
      "A value is trying to be set on a copy of a slice from a DataFrame.\n",
      "Try using .loc[row_indexer,col_indexer] = value instead\n",
      "\n",
      "See the caveats in the documentation: http://pandas.pydata.org/pandas-docs/stable/indexing.html#indexing-view-versus-copy\n",
      "  \"\"\"Entry point for launching an IPython kernel.\n"
     ]
    }
   ],
   "source": [
    "hyp3d['TotalSales'] = hyp3d['Quantity'] * hyp3d['UnitPrice']"
   ]
  },
  {
   "cell_type": "code",
   "execution_count": 59,
   "metadata": {},
   "outputs": [
    {
     "data": {
      "text/html": [
       "<div>\n",
       "<style scoped>\n",
       "    .dataframe tbody tr th:only-of-type {\n",
       "        vertical-align: middle;\n",
       "    }\n",
       "\n",
       "    .dataframe tbody tr th {\n",
       "        vertical-align: top;\n",
       "    }\n",
       "\n",
       "    .dataframe thead th {\n",
       "        text-align: right;\n",
       "    }\n",
       "</style>\n",
       "<table border=\"1\" class=\"dataframe\">\n",
       "  <thead>\n",
       "    <tr style=\"text-align: right;\">\n",
       "      <th></th>\n",
       "      <th>Id</th>\n",
       "      <th>OrderId</th>\n",
       "      <th>ProductId</th>\n",
       "      <th>UnitPrice</th>\n",
       "      <th>Quantity</th>\n",
       "      <th>Discount</th>\n",
       "      <th>TotalSales</th>\n",
       "    </tr>\n",
       "  </thead>\n",
       "  <tbody>\n",
       "    <tr>\n",
       "      <th>0</th>\n",
       "      <td>10248/11</td>\n",
       "      <td>10248</td>\n",
       "      <td>11</td>\n",
       "      <td>14.0</td>\n",
       "      <td>12</td>\n",
       "      <td>0.0</td>\n",
       "      <td>168.0</td>\n",
       "    </tr>\n",
       "    <tr>\n",
       "      <th>1</th>\n",
       "      <td>10248/42</td>\n",
       "      <td>10248</td>\n",
       "      <td>42</td>\n",
       "      <td>9.8</td>\n",
       "      <td>10</td>\n",
       "      <td>0.0</td>\n",
       "      <td>98.0</td>\n",
       "    </tr>\n",
       "    <tr>\n",
       "      <th>2</th>\n",
       "      <td>10248/72</td>\n",
       "      <td>10248</td>\n",
       "      <td>72</td>\n",
       "      <td>34.8</td>\n",
       "      <td>5</td>\n",
       "      <td>0.0</td>\n",
       "      <td>174.0</td>\n",
       "    </tr>\n",
       "    <tr>\n",
       "      <th>3</th>\n",
       "      <td>10249/14</td>\n",
       "      <td>10249</td>\n",
       "      <td>14</td>\n",
       "      <td>18.6</td>\n",
       "      <td>9</td>\n",
       "      <td>0.0</td>\n",
       "      <td>167.4</td>\n",
       "    </tr>\n",
       "    <tr>\n",
       "      <th>4</th>\n",
       "      <td>10249/51</td>\n",
       "      <td>10249</td>\n",
       "      <td>51</td>\n",
       "      <td>42.4</td>\n",
       "      <td>40</td>\n",
       "      <td>0.0</td>\n",
       "      <td>1696.0</td>\n",
       "    </tr>\n",
       "  </tbody>\n",
       "</table>\n",
       "</div>"
      ],
      "text/plain": [
       "         Id  OrderId  ProductId  UnitPrice  Quantity  Discount  TotalSales\n",
       "0  10248/11    10248         11       14.0        12       0.0       168.0\n",
       "1  10248/42    10248         42        9.8        10       0.0        98.0\n",
       "2  10248/72    10248         72       34.8         5       0.0       174.0\n",
       "3  10249/14    10249         14       18.6         9       0.0       167.4\n",
       "4  10249/51    10249         51       42.4        40       0.0      1696.0"
      ]
     },
     "execution_count": 59,
     "metadata": {},
     "output_type": "execute_result"
    }
   ],
   "source": [
    "hyp3d.head()"
   ]
  },
  {
   "cell_type": "code",
   "execution_count": 60,
   "metadata": {},
   "outputs": [
    {
     "name": "stderr",
     "output_type": "stream",
     "text": [
      "C:\\Users\\perso\\Anaconda3\\envs\\learn-env\\lib\\site-packages\\ipykernel_launcher.py:1: SettingWithCopyWarning: \n",
      "A value is trying to be set on a copy of a slice from a DataFrame.\n",
      "Try using .loc[row_indexer,col_indexer] = value instead\n",
      "\n",
      "See the caveats in the documentation: http://pandas.pydata.org/pandas-docs/stable/indexing.html#indexing-view-versus-copy\n",
      "  \"\"\"Entry point for launching an IPython kernel.\n"
     ]
    }
   ],
   "source": [
    "hyp3nd['TotalSales'] = hyp3nd['Quantity'] * hyp3nd['UnitPrice'] * hyp3nd['Discount']"
   ]
  },
  {
   "cell_type": "code",
   "execution_count": 61,
   "metadata": {},
   "outputs": [
    {
     "data": {
      "text/html": [
       "<div>\n",
       "<style scoped>\n",
       "    .dataframe tbody tr th:only-of-type {\n",
       "        vertical-align: middle;\n",
       "    }\n",
       "\n",
       "    .dataframe tbody tr th {\n",
       "        vertical-align: top;\n",
       "    }\n",
       "\n",
       "    .dataframe thead th {\n",
       "        text-align: right;\n",
       "    }\n",
       "</style>\n",
       "<table border=\"1\" class=\"dataframe\">\n",
       "  <thead>\n",
       "    <tr style=\"text-align: right;\">\n",
       "      <th></th>\n",
       "      <th>Id</th>\n",
       "      <th>OrderId</th>\n",
       "      <th>ProductId</th>\n",
       "      <th>UnitPrice</th>\n",
       "      <th>Quantity</th>\n",
       "      <th>Discount</th>\n",
       "      <th>TotalSales</th>\n",
       "    </tr>\n",
       "  </thead>\n",
       "  <tbody>\n",
       "    <tr>\n",
       "      <th>6</th>\n",
       "      <td>10250/51</td>\n",
       "      <td>10250</td>\n",
       "      <td>51</td>\n",
       "      <td>42.4</td>\n",
       "      <td>35</td>\n",
       "      <td>0.15</td>\n",
       "      <td>222.60</td>\n",
       "    </tr>\n",
       "    <tr>\n",
       "      <th>7</th>\n",
       "      <td>10250/65</td>\n",
       "      <td>10250</td>\n",
       "      <td>65</td>\n",
       "      <td>16.8</td>\n",
       "      <td>15</td>\n",
       "      <td>0.15</td>\n",
       "      <td>37.80</td>\n",
       "    </tr>\n",
       "    <tr>\n",
       "      <th>8</th>\n",
       "      <td>10251/22</td>\n",
       "      <td>10251</td>\n",
       "      <td>22</td>\n",
       "      <td>16.8</td>\n",
       "      <td>6</td>\n",
       "      <td>0.05</td>\n",
       "      <td>5.04</td>\n",
       "    </tr>\n",
       "    <tr>\n",
       "      <th>9</th>\n",
       "      <td>10251/57</td>\n",
       "      <td>10251</td>\n",
       "      <td>57</td>\n",
       "      <td>15.6</td>\n",
       "      <td>15</td>\n",
       "      <td>0.05</td>\n",
       "      <td>11.70</td>\n",
       "    </tr>\n",
       "    <tr>\n",
       "      <th>11</th>\n",
       "      <td>10252/20</td>\n",
       "      <td>10252</td>\n",
       "      <td>20</td>\n",
       "      <td>64.8</td>\n",
       "      <td>40</td>\n",
       "      <td>0.05</td>\n",
       "      <td>129.60</td>\n",
       "    </tr>\n",
       "  </tbody>\n",
       "</table>\n",
       "</div>"
      ],
      "text/plain": [
       "          Id  OrderId  ProductId  UnitPrice  Quantity  Discount  TotalSales\n",
       "6   10250/51    10250         51       42.4        35      0.15      222.60\n",
       "7   10250/65    10250         65       16.8        15      0.15       37.80\n",
       "8   10251/22    10251         22       16.8         6      0.05        5.04\n",
       "9   10251/57    10251         57       15.6        15      0.05       11.70\n",
       "11  10252/20    10252         20       64.8        40      0.05      129.60"
      ]
     },
     "execution_count": 61,
     "metadata": {},
     "output_type": "execute_result"
    }
   ],
   "source": [
    "hyp3nd.head()"
   ]
  },
  {
   "cell_type": "code",
   "execution_count": 62,
   "metadata": {},
   "outputs": [],
   "source": [
    "hyp3_=hyp3nd.merge(hyp3d, how = 'outer')"
   ]
  },
  {
   "cell_type": "code",
   "execution_count": 63,
   "metadata": {
    "scrolled": true
   },
   "outputs": [
    {
     "name": "stdout",
     "output_type": "stream",
     "text": [
      "<class 'pandas.core.frame.DataFrame'>\n",
      "Int64Index: 2155 entries, 0 to 2154\n",
      "Data columns (total 7 columns):\n",
      "Id            2155 non-null object\n",
      "OrderId       2155 non-null int64\n",
      "ProductId     2155 non-null int64\n",
      "UnitPrice     2155 non-null float64\n",
      "Quantity      2155 non-null int64\n",
      "Discount      2155 non-null float64\n",
      "TotalSales    2155 non-null float64\n",
      "dtypes: float64(3), int64(3), object(1)\n",
      "memory usage: 134.7+ KB\n"
     ]
    }
   ],
   "source": [
    "hyp3_.info()"
   ]
  },
  {
   "cell_type": "markdown",
   "metadata": {},
   "source": [
    "Now that we have a good dataset to work with, we need to merge along several tables in order to get to our variables."
   ]
  },
  {
   "cell_type": "code",
   "execution_count": 64,
   "metadata": {},
   "outputs": [],
   "source": [
    "order_df = order_df.rename(columns={'Id': 'OrderId'})"
   ]
  },
  {
   "cell_type": "code",
   "execution_count": 65,
   "metadata": {},
   "outputs": [],
   "source": [
    "hyp3__=hyp3_.merge(order_df, how = 'left', on = 'OrderId')"
   ]
  },
  {
   "cell_type": "code",
   "execution_count": 66,
   "metadata": {},
   "outputs": [
    {
     "name": "stdout",
     "output_type": "stream",
     "text": [
      "<class 'pandas.core.frame.DataFrame'>\n",
      "Int64Index: 2155 entries, 0 to 2154\n",
      "Data columns (total 20 columns):\n",
      "Id                2155 non-null object\n",
      "OrderId           2155 non-null int64\n",
      "ProductId         2155 non-null int64\n",
      "UnitPrice         2155 non-null float64\n",
      "Quantity          2155 non-null int64\n",
      "Discount          2155 non-null float64\n",
      "TotalSales        2155 non-null float64\n",
      "CustomerId        2155 non-null object\n",
      "EmployeeId        2155 non-null int64\n",
      "OrderDate         2155 non-null object\n",
      "RequiredDate      2155 non-null object\n",
      "ShippedDate       2082 non-null object\n",
      "ShipVia           2155 non-null int64\n",
      "Freight           2155 non-null float64\n",
      "ShipName          2155 non-null object\n",
      "ShipAddress       2155 non-null object\n",
      "ShipCity          2155 non-null object\n",
      "ShipRegion        2155 non-null object\n",
      "ShipPostalCode    2100 non-null object\n",
      "ShipCountry       2155 non-null object\n",
      "dtypes: float64(4), int64(5), object(11)\n",
      "memory usage: 353.6+ KB\n"
     ]
    }
   ],
   "source": [
    "hyp3__.info()"
   ]
  },
  {
   "cell_type": "code",
   "execution_count": 67,
   "metadata": {},
   "outputs": [],
   "source": [
    "employee_df = employee_df.rename(columns={'Id': 'EmployeeId'})"
   ]
  },
  {
   "cell_type": "code",
   "execution_count": 68,
   "metadata": {},
   "outputs": [],
   "source": [
    "hyp3___=hyp3__.merge(employee_df, how = 'left', on = 'EmployeeId')"
   ]
  },
  {
   "cell_type": "code",
   "execution_count": 69,
   "metadata": {},
   "outputs": [
    {
     "name": "stdout",
     "output_type": "stream",
     "text": [
      "<class 'pandas.core.frame.DataFrame'>\n",
      "Int64Index: 2155 entries, 0 to 2154\n",
      "Data columns (total 37 columns):\n",
      "Id                 2155 non-null object\n",
      "OrderId            2155 non-null int64\n",
      "ProductId          2155 non-null int64\n",
      "UnitPrice          2155 non-null float64\n",
      "Quantity           2155 non-null int64\n",
      "Discount           2155 non-null float64\n",
      "TotalSales         2155 non-null float64\n",
      "CustomerId         2155 non-null object\n",
      "EmployeeId         2155 non-null int64\n",
      "OrderDate          2155 non-null object\n",
      "RequiredDate       2155 non-null object\n",
      "ShippedDate        2082 non-null object\n",
      "ShipVia            2155 non-null int64\n",
      "Freight            2155 non-null float64\n",
      "ShipName           2155 non-null object\n",
      "ShipAddress        2155 non-null object\n",
      "ShipCity           2155 non-null object\n",
      "ShipRegion         2155 non-null object\n",
      "ShipPostalCode     2100 non-null object\n",
      "ShipCountry        2155 non-null object\n",
      "LastName           2155 non-null object\n",
      "FirstName          2155 non-null object\n",
      "Title              2155 non-null object\n",
      "TitleOfCourtesy    2155 non-null object\n",
      "BirthDate          2155 non-null object\n",
      "HireDate           2155 non-null object\n",
      "Address            2155 non-null object\n",
      "City               2155 non-null object\n",
      "Region             2155 non-null object\n",
      "PostalCode         2155 non-null object\n",
      "Country            2155 non-null object\n",
      "HomePhone          2155 non-null object\n",
      "Extension          2155 non-null object\n",
      "Photo              0 non-null object\n",
      "Notes              2155 non-null object\n",
      "ReportsTo          1914 non-null float64\n",
      "PhotoPath          2155 non-null object\n",
      "dtypes: float64(5), int64(5), object(27)\n",
      "memory usage: 639.8+ KB\n"
     ]
    }
   ],
   "source": [
    "hyp3___.info()"
   ]
  },
  {
   "cell_type": "code",
   "execution_count": 70,
   "metadata": {},
   "outputs": [],
   "source": [
    "hyp3____=hyp3___.merge(employeeterritory_df, how = 'left', on = 'EmployeeId')"
   ]
  },
  {
   "cell_type": "code",
   "execution_count": 71,
   "metadata": {},
   "outputs": [],
   "source": [
    "territory_df = territory_df.rename(columns={'Id': 'TerritoryId'})"
   ]
  },
  {
   "cell_type": "code",
   "execution_count": 72,
   "metadata": {},
   "outputs": [],
   "source": [
    "hyp3_____=hyp3____.merge(territory_df, how = 'left', on = 'TerritoryId')"
   ]
  },
  {
   "cell_type": "code",
   "execution_count": 73,
   "metadata": {},
   "outputs": [],
   "source": [
    "region_df = region_df.rename(columns={'Id': 'RegionId'})"
   ]
  },
  {
   "cell_type": "code",
   "execution_count": 74,
   "metadata": {},
   "outputs": [],
   "source": [
    "hyp3______=hyp3_____.merge(region_df, how = 'left', on = 'RegionId')"
   ]
  },
  {
   "cell_type": "code",
   "execution_count": 75,
   "metadata": {},
   "outputs": [],
   "source": [
    "hyp3f = hyp3______[['TotalSales', 'TerritoryId', 'RegionId']]\n",
    "dataset3 = hyp3f.RegionId"
   ]
  },
  {
   "cell_type": "code",
   "execution_count": 76,
   "metadata": {},
   "outputs": [
    {
     "data": {
      "text/plain": [
       "0.7147821473040825"
      ]
     },
     "execution_count": 76,
     "metadata": {},
     "output_type": "execute_result"
    }
   ],
   "source": [
    "def cohend(d1, d2):\n",
    "\t# calculate the size of samples\n",
    "\tn1, n2 = len(d1), len(d2)\n",
    "\t# calculate the variance of the samples\n",
    "\ts1, s2 = d1.var(ddof=1), d2.var(ddof=1)\n",
    "\t# calculate the pooled standard deviation\n",
    "\ts = np.sqrt(((n1 - 1) * s1 + (n2 - 1) * s2) / (n1 + n2 - 2))\n",
    "\t# calculate the means of the samples\n",
    "\tu1, u2 = np.mean(d1), np.mean(d2)\n",
    "\t# calculate the effect size\n",
    "\treturn (u1 - u2) / s\n",
    "\n",
    "cohend(hyp3f.TotalSales, dataset3)"
   ]
  },
  {
   "cell_type": "markdown",
   "metadata": {},
   "source": [
    "Based on Cohen's D, there is a greater than 70% contribution to total sales from the Regions as a whole. Now we can visualize the data and run an ANOVA test to see the contribution of each individual region."
   ]
  },
  {
   "cell_type": "code",
   "execution_count": 77,
   "metadata": {},
   "outputs": [
    {
     "name": "stderr",
     "output_type": "stream",
     "text": [
      "C:\\Users\\perso\\Anaconda3\\envs\\learn-env\\lib\\site-packages\\scipy\\stats\\stats.py:1713: FutureWarning: Using a non-tuple sequence for multidimensional indexing is deprecated; use `arr[tuple(seq)]` instead of `arr[seq]`. In the future this will be interpreted as an array index, `arr[np.array(seq)]`, which will result either in an error or a different result.\n",
      "  return np.add.reduce(sorted[indexer] * weights, axis=axis) / sumval\n"
     ]
    },
    {
     "data": {
      "image/png": "[encoded data removed]",
      "text/plain": [
       "<Figure size 360x360 with 1 Axes>"
      ]
     },
     "metadata": {},
     "output_type": "display_data"
    }
   ],
   "source": [
    "ymean=np.mean(hyp3f.TotalSales)\n",
    "sns.catplot(x=\"RegionId\", y=\"TotalSales\", kind=\"bar\", data=hyp3f);"
   ]
  },
  {
   "cell_type": "code",
   "execution_count": 78,
   "metadata": {},
   "outputs": [
    {
     "name": "stderr",
     "output_type": "stream",
     "text": [
      "C:\\Users\\perso\\Anaconda3\\envs\\learn-env\\lib\\site-packages\\pandas\\core\\generic.py:4405: SettingWithCopyWarning: \n",
      "A value is trying to be set on a copy of a slice from a DataFrame.\n",
      "Try using .loc[row_indexer,col_indexer] = value instead\n",
      "\n",
      "See the caveats in the documentation: http://pandas.pydata.org/pandas-docs/stable/indexing.html#indexing-view-versus-copy\n",
      "  self[name] = value\n"
     ]
    }
   ],
   "source": [
    "hyp3f.RegionId = hyp3f.RegionId.astype('category', inplace = True)"
   ]
  },
  {
   "cell_type": "code",
   "execution_count": 79,
   "metadata": {},
   "outputs": [],
   "source": [
    "ANOVA = pd.get_dummies(hyp3f)"
   ]
  },
  {
   "cell_type": "code",
   "execution_count": 80,
   "metadata": {},
   "outputs": [
    {
     "data": {
      "text/html": [
       "<div>\n",
       "<style scoped>\n",
       "    .dataframe tbody tr th:only-of-type {\n",
       "        vertical-align: middle;\n",
       "    }\n",
       "\n",
       "    .dataframe tbody tr th {\n",
       "        vertical-align: top;\n",
       "    }\n",
       "\n",
       "    .dataframe thead th {\n",
       "        text-align: right;\n",
       "    }\n",
       "</style>\n",
       "<table border=\"1\" class=\"dataframe\">\n",
       "  <thead>\n",
       "    <tr style=\"text-align: right;\">\n",
       "      <th></th>\n",
       "      <th>TotalSales</th>\n",
       "      <th>TerritoryId_01581</th>\n",
       "      <th>TerritoryId_01730</th>\n",
       "      <th>TerritoryId_01833</th>\n",
       "      <th>TerritoryId_02116</th>\n",
       "      <th>TerritoryId_02139</th>\n",
       "      <th>TerritoryId_02184</th>\n",
       "      <th>TerritoryId_02903</th>\n",
       "      <th>TerritoryId_03049</th>\n",
       "      <th>TerritoryId_03801</th>\n",
       "      <th>...</th>\n",
       "      <th>TerritoryId_95008</th>\n",
       "      <th>TerritoryId_95054</th>\n",
       "      <th>TerritoryId_95060</th>\n",
       "      <th>TerritoryId_98004</th>\n",
       "      <th>TerritoryId_98052</th>\n",
       "      <th>TerritoryId_98104</th>\n",
       "      <th>RegionId_1</th>\n",
       "      <th>RegionId_2</th>\n",
       "      <th>RegionId_3</th>\n",
       "      <th>RegionId_4</th>\n",
       "    </tr>\n",
       "  </thead>\n",
       "  <tbody>\n",
       "    <tr>\n",
       "      <th>0</th>\n",
       "      <td>222.6</td>\n",
       "      <td>0</td>\n",
       "      <td>0</td>\n",
       "      <td>0</td>\n",
       "      <td>0</td>\n",
       "      <td>0</td>\n",
       "      <td>0</td>\n",
       "      <td>0</td>\n",
       "      <td>0</td>\n",
       "      <td>0</td>\n",
       "      <td>...</td>\n",
       "      <td>0</td>\n",
       "      <td>0</td>\n",
       "      <td>0</td>\n",
       "      <td>0</td>\n",
       "      <td>0</td>\n",
       "      <td>0</td>\n",
       "      <td>1</td>\n",
       "      <td>0</td>\n",
       "      <td>0</td>\n",
       "      <td>0</td>\n",
       "    </tr>\n",
       "    <tr>\n",
       "      <th>1</th>\n",
       "      <td>222.6</td>\n",
       "      <td>0</td>\n",
       "      <td>0</td>\n",
       "      <td>0</td>\n",
       "      <td>0</td>\n",
       "      <td>0</td>\n",
       "      <td>0</td>\n",
       "      <td>0</td>\n",
       "      <td>0</td>\n",
       "      <td>0</td>\n",
       "      <td>...</td>\n",
       "      <td>0</td>\n",
       "      <td>0</td>\n",
       "      <td>0</td>\n",
       "      <td>0</td>\n",
       "      <td>0</td>\n",
       "      <td>0</td>\n",
       "      <td>1</td>\n",
       "      <td>0</td>\n",
       "      <td>0</td>\n",
       "      <td>0</td>\n",
       "    </tr>\n",
       "    <tr>\n",
       "      <th>2</th>\n",
       "      <td>222.6</td>\n",
       "      <td>0</td>\n",
       "      <td>0</td>\n",
       "      <td>0</td>\n",
       "      <td>0</td>\n",
       "      <td>0</td>\n",
       "      <td>0</td>\n",
       "      <td>0</td>\n",
       "      <td>0</td>\n",
       "      <td>0</td>\n",
       "      <td>...</td>\n",
       "      <td>0</td>\n",
       "      <td>0</td>\n",
       "      <td>0</td>\n",
       "      <td>0</td>\n",
       "      <td>0</td>\n",
       "      <td>0</td>\n",
       "      <td>1</td>\n",
       "      <td>0</td>\n",
       "      <td>0</td>\n",
       "      <td>0</td>\n",
       "    </tr>\n",
       "    <tr>\n",
       "      <th>3</th>\n",
       "      <td>37.8</td>\n",
       "      <td>0</td>\n",
       "      <td>0</td>\n",
       "      <td>0</td>\n",
       "      <td>0</td>\n",
       "      <td>0</td>\n",
       "      <td>0</td>\n",
       "      <td>0</td>\n",
       "      <td>0</td>\n",
       "      <td>0</td>\n",
       "      <td>...</td>\n",
       "      <td>0</td>\n",
       "      <td>0</td>\n",
       "      <td>0</td>\n",
       "      <td>0</td>\n",
       "      <td>0</td>\n",
       "      <td>0</td>\n",
       "      <td>1</td>\n",
       "      <td>0</td>\n",
       "      <td>0</td>\n",
       "      <td>0</td>\n",
       "    </tr>\n",
       "    <tr>\n",
       "      <th>4</th>\n",
       "      <td>37.8</td>\n",
       "      <td>0</td>\n",
       "      <td>0</td>\n",
       "      <td>0</td>\n",
       "      <td>0</td>\n",
       "      <td>0</td>\n",
       "      <td>0</td>\n",
       "      <td>0</td>\n",
       "      <td>0</td>\n",
       "      <td>0</td>\n",
       "      <td>...</td>\n",
       "      <td>0</td>\n",
       "      <td>0</td>\n",
       "      <td>0</td>\n",
       "      <td>0</td>\n",
       "      <td>0</td>\n",
       "      <td>0</td>\n",
       "      <td>1</td>\n",
       "      <td>0</td>\n",
       "      <td>0</td>\n",
       "      <td>0</td>\n",
       "    </tr>\n",
       "  </tbody>\n",
       "</table>\n",
       "<p>5 rows × 54 columns</p>\n",
       "</div>"
      ],
      "text/plain": [
       "   TotalSales  TerritoryId_01581  TerritoryId_01730  TerritoryId_01833  \\\n",
       "0       222.6                  0                  0                  0   \n",
       "1       222.6                  0                  0                  0   \n",
       "2       222.6                  0                  0                  0   \n",
       "3        37.8                  0                  0                  0   \n",
       "4        37.8                  0                  0                  0   \n",
       "\n",
       "   TerritoryId_02116  TerritoryId_02139  TerritoryId_02184  TerritoryId_02903  \\\n",
       "0                  0                  0                  0                  0   \n",
       "1                  0                  0                  0                  0   \n",
       "2                  0                  0                  0                  0   \n",
       "3                  0                  0                  0                  0   \n",
       "4                  0                  0                  0                  0   \n",
       "\n",
       "   TerritoryId_03049  TerritoryId_03801     ...      TerritoryId_95008  \\\n",
       "0                  0                  0     ...                      0   \n",
       "1                  0                  0     ...                      0   \n",
       "2                  0                  0     ...                      0   \n",
       "3                  0                  0     ...                      0   \n",
       "4                  0                  0     ...                      0   \n",
       "\n",
       "   TerritoryId_95054  TerritoryId_95060  TerritoryId_98004  TerritoryId_98052  \\\n",
       "0                  0                  0                  0                  0   \n",
       "1                  0                  0                  0                  0   \n",
       "2                  0                  0                  0                  0   \n",
       "3                  0                  0                  0                  0   \n",
       "4                  0                  0                  0                  0   \n",
       "\n",
       "   TerritoryId_98104  RegionId_1  RegionId_2  RegionId_3  RegionId_4  \n",
       "0                  0           1           0           0           0  \n",
       "1                  0           1           0           0           0  \n",
       "2                  0           1           0           0           0  \n",
       "3                  0           1           0           0           0  \n",
       "4                  0           1           0           0           0  \n",
       "\n",
       "[5 rows x 54 columns]"
      ]
     },
     "execution_count": 80,
     "metadata": {},
     "output_type": "execute_result"
    }
   ],
   "source": [
    "ANOVA.head()"
   ]
  },
  {
   "cell_type": "code",
   "execution_count": 81,
   "metadata": {
    "scrolled": true
   },
   "outputs": [
    {
     "name": "stdout",
     "output_type": "stream",
     "text": [
      "                     sum_sq       df          F        PR(>F)\n",
      "C(RegionId_1)  1.347240e+07      1.0  22.527085  2.100396e-06\n",
      "C(RegionId_2)  1.048758e+06      1.0   1.753620  1.854522e-01\n",
      "C(RegionId_3)  1.953955e+07      1.0  32.671921  1.121878e-08\n",
      "C(RegionId_4)  5.110832e+07      1.0  85.457804  2.843719e-20\n",
      "Residual       6.055290e+09  10125.0        NaN           NaN\n"
     ]
    }
   ],
   "source": [
    "formula = 'TotalSales ~ C(RegionId_1) + C(RegionId_2) + C(RegionId_3) + C(RegionId_4)'\n",
    "lm = ols(formula, ANOVA).fit()\n",
    "table = sm.stats.anova_lm(lm, typ=2)\n",
    "print(table)"
   ]
  },
  {
   "cell_type": "markdown",
   "metadata": {},
   "source": [
    "Based on the ANOVA test, Regions 1,3 and 4 are all statistically significant for Total Sales, with Region 4 having the most impact. Focusing on expansion to that Region may be of benefit. An interesting insight is the underperformance of Region 2 and what needs to be done to turn it around."
   ]
  },
  {
   "cell_type": "markdown",
   "metadata": {},
   "source": [
    "## Question 4: Do any categories significantly underperform/outperform?"
   ]
  },
  {
   "cell_type": "markdown",
   "metadata": {},
   "source": [
    "### Ho = All categories of products perform the same\n",
    "\n",
    "### Ha = There are one or more categories of products that either underperform or outperform others."
   ]
  },
  {
   "cell_type": "markdown",
   "metadata": {},
   "source": [
    "Again, we will rename and merge in order to get our desired dataset."
   ]
  },
  {
   "cell_type": "code",
   "execution_count": 82,
   "metadata": {},
   "outputs": [
    {
     "name": "stdout",
     "output_type": "stream",
     "text": [
      "<class 'pandas.core.frame.DataFrame'>\n",
      "Int64Index: 2155 entries, 0 to 2154\n",
      "Data columns (total 7 columns):\n",
      "Id            2155 non-null object\n",
      "OrderId       2155 non-null int64\n",
      "ProductId     2155 non-null int64\n",
      "UnitPrice     2155 non-null float64\n",
      "Quantity      2155 non-null int64\n",
      "Discount      2155 non-null float64\n",
      "TotalSales    2155 non-null float64\n",
      "dtypes: float64(3), int64(3), object(1)\n",
      "memory usage: 134.7+ KB\n"
     ]
    }
   ],
   "source": [
    "hyp3_.info()"
   ]
  },
  {
   "cell_type": "code",
   "execution_count": 83,
   "metadata": {},
   "outputs": [],
   "source": [
    "product_df = product_df.rename(columns={'Id': 'ProductId'})"
   ]
  },
  {
   "cell_type": "code",
   "execution_count": 84,
   "metadata": {},
   "outputs": [],
   "source": [
    "hyp4 = hyp3_.merge(product_df, on = 'ProductId')"
   ]
  },
  {
   "cell_type": "code",
   "execution_count": 85,
   "metadata": {},
   "outputs": [
    {
     "name": "stdout",
     "output_type": "stream",
     "text": [
      "<class 'pandas.core.frame.DataFrame'>\n",
      "Int64Index: 2155 entries, 0 to 2154\n",
      "Data columns (total 16 columns):\n",
      "Id                 2155 non-null object\n",
      "OrderId            2155 non-null int64\n",
      "ProductId          2155 non-null int64\n",
      "UnitPrice_x        2155 non-null float64\n",
      "Quantity           2155 non-null int64\n",
      "Discount           2155 non-null float64\n",
      "TotalSales         2155 non-null float64\n",
      "ProductName        2155 non-null object\n",
      "SupplierId         2155 non-null int64\n",
      "CategoryId         2155 non-null int64\n",
      "QuantityPerUnit    2155 non-null object\n",
      "UnitPrice_y        2155 non-null float64\n",
      "UnitsInStock       2155 non-null int64\n",
      "UnitsOnOrder       2155 non-null int64\n",
      "ReorderLevel       2155 non-null int64\n",
      "Discontinued       2155 non-null int64\n",
      "dtypes: float64(4), int64(9), object(3)\n",
      "memory usage: 286.2+ KB\n"
     ]
    }
   ],
   "source": [
    "hyp4.info()"
   ]
  },
  {
   "cell_type": "code",
   "execution_count": 86,
   "metadata": {},
   "outputs": [],
   "source": [
    "hyp4f = hyp4[['TotalSales', 'CategoryId']]\n",
    "dataset4 = hyp4f.CategoryId"
   ]
  },
  {
   "cell_type": "code",
   "execution_count": 87,
   "metadata": {},
   "outputs": [
    {
     "name": "stderr",
     "output_type": "stream",
     "text": [
      "C:\\Users\\perso\\Anaconda3\\envs\\learn-env\\lib\\site-packages\\scipy\\stats\\stats.py:1713: FutureWarning: Using a non-tuple sequence for multidimensional indexing is deprecated; use `arr[tuple(seq)]` instead of `arr[seq]`. In the future this will be interpreted as an array index, `arr[np.array(seq)]`, which will result either in an error or a different result.\n",
      "  return np.add.reduce(sorted[indexer] * weights, axis=axis) / sumval\n"
     ]
    },
    {
     "data": {
      "image/png": "[encoded data removed]",
      "text/plain": [
       "<Figure size 360x360 with 1 Axes>"
      ]
     },
     "metadata": {},
     "output_type": "display_data"
    }
   ],
   "source": [
    "sns.catplot(x=\"CategoryId\", y=\"TotalSales\", kind=\"bar\", data=hyp4f);"
   ]
  },
  {
   "cell_type": "code",
   "execution_count": 88,
   "metadata": {},
   "outputs": [
    {
     "name": "stderr",
     "output_type": "stream",
     "text": [
      "C:\\Users\\perso\\Anaconda3\\envs\\learn-env\\lib\\site-packages\\pandas\\core\\generic.py:4405: SettingWithCopyWarning: \n",
      "A value is trying to be set on a copy of a slice from a DataFrame.\n",
      "Try using .loc[row_indexer,col_indexer] = value instead\n",
      "\n",
      "See the caveats in the documentation: http://pandas.pydata.org/pandas-docs/stable/indexing.html#indexing-view-versus-copy\n",
      "  self[name] = value\n"
     ]
    }
   ],
   "source": [
    "hyp4f.CategoryId = hyp4f.CategoryId.astype('category', inplace = True)"
   ]
  },
  {
   "cell_type": "code",
   "execution_count": 89,
   "metadata": {},
   "outputs": [],
   "source": [
    "ANOVA = pd.get_dummies(hyp4f)"
   ]
  },
  {
   "cell_type": "code",
   "execution_count": 90,
   "metadata": {},
   "outputs": [
    {
     "data": {
      "text/html": [
       "<div>\n",
       "<style scoped>\n",
       "    .dataframe tbody tr th:only-of-type {\n",
       "        vertical-align: middle;\n",
       "    }\n",
       "\n",
       "    .dataframe tbody tr th {\n",
       "        vertical-align: top;\n",
       "    }\n",
       "\n",
       "    .dataframe thead th {\n",
       "        text-align: right;\n",
       "    }\n",
       "</style>\n",
       "<table border=\"1\" class=\"dataframe\">\n",
       "  <thead>\n",
       "    <tr style=\"text-align: right;\">\n",
       "      <th></th>\n",
       "      <th>TotalSales</th>\n",
       "      <th>CategoryId_1</th>\n",
       "      <th>CategoryId_2</th>\n",
       "      <th>CategoryId_3</th>\n",
       "      <th>CategoryId_4</th>\n",
       "      <th>CategoryId_5</th>\n",
       "      <th>CategoryId_6</th>\n",
       "      <th>CategoryId_7</th>\n",
       "      <th>CategoryId_8</th>\n",
       "    </tr>\n",
       "  </thead>\n",
       "  <tbody>\n",
       "    <tr>\n",
       "      <th>0</th>\n",
       "      <td>222.60</td>\n",
       "      <td>0</td>\n",
       "      <td>0</td>\n",
       "      <td>0</td>\n",
       "      <td>0</td>\n",
       "      <td>0</td>\n",
       "      <td>0</td>\n",
       "      <td>1</td>\n",
       "      <td>0</td>\n",
       "    </tr>\n",
       "    <tr>\n",
       "      <th>1</th>\n",
       "      <td>8.48</td>\n",
       "      <td>0</td>\n",
       "      <td>0</td>\n",
       "      <td>0</td>\n",
       "      <td>0</td>\n",
       "      <td>0</td>\n",
       "      <td>0</td>\n",
       "      <td>1</td>\n",
       "      <td>0</td>\n",
       "    </tr>\n",
       "    <tr>\n",
       "      <th>2</th>\n",
       "      <td>407.04</td>\n",
       "      <td>0</td>\n",
       "      <td>0</td>\n",
       "      <td>0</td>\n",
       "      <td>0</td>\n",
       "      <td>0</td>\n",
       "      <td>0</td>\n",
       "      <td>1</td>\n",
       "      <td>0</td>\n",
       "    </tr>\n",
       "    <tr>\n",
       "      <th>3</th>\n",
       "      <td>114.48</td>\n",
       "      <td>0</td>\n",
       "      <td>0</td>\n",
       "      <td>0</td>\n",
       "      <td>0</td>\n",
       "      <td>0</td>\n",
       "      <td>0</td>\n",
       "      <td>1</td>\n",
       "      <td>0</td>\n",
       "    </tr>\n",
       "    <tr>\n",
       "      <th>4</th>\n",
       "      <td>381.60</td>\n",
       "      <td>0</td>\n",
       "      <td>0</td>\n",
       "      <td>0</td>\n",
       "      <td>0</td>\n",
       "      <td>0</td>\n",
       "      <td>0</td>\n",
       "      <td>1</td>\n",
       "      <td>0</td>\n",
       "    </tr>\n",
       "  </tbody>\n",
       "</table>\n",
       "</div>"
      ],
      "text/plain": [
       "   TotalSales  CategoryId_1  CategoryId_2  CategoryId_3  CategoryId_4  \\\n",
       "0      222.60             0             0             0             0   \n",
       "1        8.48             0             0             0             0   \n",
       "2      407.04             0             0             0             0   \n",
       "3      114.48             0             0             0             0   \n",
       "4      381.60             0             0             0             0   \n",
       "\n",
       "   CategoryId_5  CategoryId_6  CategoryId_7  CategoryId_8  \n",
       "0             0             0             1             0  \n",
       "1             0             0             1             0  \n",
       "2             0             0             1             0  \n",
       "3             0             0             1             0  \n",
       "4             0             0             1             0  "
      ]
     },
     "execution_count": 90,
     "metadata": {},
     "output_type": "execute_result"
    }
   ],
   "source": [
    "ANOVA.head()"
   ]
  },
  {
   "cell_type": "code",
   "execution_count": 91,
   "metadata": {},
   "outputs": [
    {
     "name": "stdout",
     "output_type": "stream",
     "text": [
      "                       sum_sq      df          F    PR(>F)\n",
      "C(CategoryId_1)  1.827498e+06     1.0   2.923372  0.087450\n",
      "C(CategoryId_2)  4.750322e+05     1.0   0.759889  0.383461\n",
      "C(CategoryId_3)  3.391195e+04     1.0   0.054248  0.815853\n",
      "C(CategoryId_4)  1.325149e+06     1.0   2.119784  0.145553\n",
      "C(CategoryId_5)  2.174141e+03     1.0   0.003478  0.952979\n",
      "C(CategoryId_6)  1.173186e+07     1.0  18.766958  0.000015\n",
      "C(CategoryId_7)  3.373609e+06     1.0   5.396619  0.020269\n",
      "C(CategoryId_8)  3.444355e+06     1.0   5.509788  0.019001\n",
      "Residual         1.342162e+09  2147.0        NaN       NaN\n"
     ]
    }
   ],
   "source": [
    "formula = 'TotalSales ~ C(CategoryId_1) + C(CategoryId_2) + C(CategoryId_3) + C(CategoryId_4) + C(CategoryId_5) + C(CategoryId_6) + C(CategoryId_7) + C(CategoryId_8)'\n",
    "lm = ols(formula, ANOVA).fit()\n",
    "table = sm.stats.anova_lm(lm, typ=2)\n",
    "print(table)"
   ]
  },
  {
   "cell_type": "markdown",
   "metadata": {},
   "source": [
    "While not all categories were statistically significant, Category 6 - Meat and Poultry, Category 7 - Produce, Category 8 - Seafood were with Cat. 6 being the most impactful towards total sales. An interseing insight is that Seafood was under the mean of Total Sales, it had a significant impact on total sales. More research into the performance of this category should be explored."
   ]
  }
 ],
 "metadata": {
  "kernelspec": {
   "display_name": "learn-env",
   "language": "python",
   "name": "learn-env"
  },
  "language_info": {
   "codemirror_mode": {
    "name": "ipython",
    "version": 3
   },
   "file_extension": ".py",
   "mimetype": "text/x-python",
   "name": "python",
   "nbconvert_exporter": "python",
   "pygments_lexer": "ipython3",
   "version": "3.6.9"
  },
  "toc": {
   "base_numbering": 1,
   "nav_menu": {},
   "number_sections": true,
   "sideBar": true,
   "skip_h1_title": false,
   "title_cell": "Table of Contents",
   "title_sidebar": "Contents",
   "toc_cell": false,
   "toc_position": {},
   "toc_section_display": true,
   "toc_window_display": true
  }
 },
 "nbformat": 4,
 "nbformat_minor": 2
}
