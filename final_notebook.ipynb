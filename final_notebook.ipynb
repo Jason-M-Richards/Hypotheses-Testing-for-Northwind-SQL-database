{
 "cells": [
  {
   "cell_type": "markdown",
   "metadata": {},
   "source": [
    "## Final Project Submission\n",
    "\n",
    "Please fill out:\n",
    "* Student name: Jason Richards\n",
    "* Student pace: part time\n",
    "* Instructor name: Joe San Pietro\n",
    "* Blog post URL:https://jasonrichards911.wixsite.com/humble-py "
   ]
  },
  {
   "cell_type": "markdown",
   "metadata": {},
   "source": [
    "# Understanding Business\n",
    "\n",
    "The first step in the Data Science Life Cycle is to understand the business we are about to interperet the Data. The data itself does explain quite a bit about the business model:\n",
    "\n",
    "* This is a small business with only nine employees.\n",
    "* Employees are responsible for selling to specific regions which subset into specific territories.\n",
    "* Order quantities are large and since suppliers are involved, either a specialty grocery and/or restaurant supplier."
   ]
  },
  {
   "cell_type": "markdown",
   "metadata": {},
   "source": [
    "# Data Mining\n",
    "\n",
    "The data is provided via a SQLite database. After glancing through the tables in https://sqliteonline.com/, there are a few notes for reference:\n",
    "\n",
    "* The tables CustomerCustomerDemo and CustomerDemographics have no information in htem. \n",
    "* While the ERD tables have all ID columns listed, they are not specifically labeled those items in the tables. Only \"Id\" is provided. This will mean renaming may be necessary for the purpose of joining tables(dataframes).\n",
    "* Since basic SQL queries will not be efficient for the purposes of the project, we will convert the database into a pandas dataframe using sqlalchemy and pandas."
   ]
  },
  {
   "cell_type": "code",
   "execution_count": null,
   "metadata": {},
   "outputs": [],
   "source": []
  },
  {
   "cell_type": "markdown",
   "metadata": {},
   "source": [
    "![alt text](Northwind_ERD.png \"Northwind\")"
   ]
  },
  {
   "cell_type": "code",
   "execution_count": 1,
   "metadata": {},
   "outputs": [],
   "source": [
    "#importing sqlalchemy and creating engine and session for SQL DB\n",
    "\n",
    "import sqlalchemy\n",
    "from sqlalchemy import create_engine\n",
    "from sqlalchemy.orm import Session,sessionmaker\n",
    "engine=create_engine ('sqlite:///Northwind_small.sqlite', echo=True)\n",
    "Session=sessionmaker(bind=engine)\n",
    "session=Session()"
   ]
  },
  {
   "cell_type": "code",
   "execution_count": 2,
   "metadata": {},
   "outputs": [
    {
     "name": "stdout",
     "output_type": "stream",
     "text": [
      "2019-05-09 13:07:27,088 INFO sqlalchemy.engine.base.Engine SELECT CAST('test plain returns' AS VARCHAR(60)) AS anon_1\n",
      "2019-05-09 13:07:27,092 INFO sqlalchemy.engine.base.Engine ()\n",
      "2019-05-09 13:07:27,094 INFO sqlalchemy.engine.base.Engine SELECT CAST('test unicode returns' AS VARCHAR(60)) AS anon_1\n",
      "2019-05-09 13:07:27,096 INFO sqlalchemy.engine.base.Engine ()\n",
      "2019-05-09 13:07:27,098 INFO sqlalchemy.engine.base.Engine SELECT name FROM sqlite_master WHERE type='table' ORDER BY name\n",
      "2019-05-09 13:07:27,100 INFO sqlalchemy.engine.base.Engine ()\n"
     ]
    },
    {
     "data": {
      "text/plain": [
       "['Category',\n",
       " 'Customer',\n",
       " 'CustomerCustomerDemo',\n",
       " 'CustomerDemographic',\n",
       " 'Employee',\n",
       " 'EmployeeTerritory',\n",
       " 'Order',\n",
       " 'OrderDetail',\n",
       " 'Product',\n",
       " 'Region',\n",
       " 'Shipper',\n",
       " 'Supplier',\n",
       " 'Territory']"
      ]
     },
     "execution_count": 2,
     "metadata": {},
     "output_type": "execute_result"
    }
   ],
   "source": [
    "# inspecting database for table names\n",
    "\n",
    "from sqlalchemy import inspect\n",
    "inspector = inspect(engine)\n",
    "inspector.get_table_names()"
   ]
  },
  {
   "cell_type": "code",
   "execution_count": 3,
   "metadata": {},
   "outputs": [
    {
     "name": "stdout",
     "output_type": "stream",
     "text": [
      "2019-05-09 13:07:27,126 INFO sqlalchemy.engine.base.Engine SELECT name FROM sqlite_master WHERE type='table' ORDER BY name\n",
      "2019-05-09 13:07:27,127 INFO sqlalchemy.engine.base.Engine ()\n",
      "2019-05-09 13:07:27,129 INFO sqlalchemy.engine.base.Engine PRAGMA table_info(\"Category\")\n",
      "2019-05-09 13:07:27,130 INFO sqlalchemy.engine.base.Engine ()\n",
      "2019-05-09 13:07:27,132 INFO sqlalchemy.engine.base.Engine SELECT sql FROM  (SELECT * FROM sqlite_master UNION ALL   SELECT * FROM sqlite_temp_master) WHERE name = 'Category' AND type = 'table'\n",
      "2019-05-09 13:07:27,133 INFO sqlalchemy.engine.base.Engine ()\n",
      "2019-05-09 13:07:27,135 INFO sqlalchemy.engine.base.Engine PRAGMA foreign_key_list(\"Category\")\n",
      "2019-05-09 13:07:27,135 INFO sqlalchemy.engine.base.Engine ()\n",
      "2019-05-09 13:07:27,136 INFO sqlalchemy.engine.base.Engine SELECT sql FROM  (SELECT * FROM sqlite_master UNION ALL   SELECT * FROM sqlite_temp_master) WHERE name = 'Category' AND type = 'table'\n",
      "2019-05-09 13:07:27,137 INFO sqlalchemy.engine.base.Engine ()\n",
      "2019-05-09 13:07:27,141 INFO sqlalchemy.engine.base.Engine PRAGMA index_list(\"Category\")\n",
      "2019-05-09 13:07:27,142 INFO sqlalchemy.engine.base.Engine ()\n",
      "2019-05-09 13:07:27,143 INFO sqlalchemy.engine.base.Engine PRAGMA index_list(\"Category\")\n",
      "2019-05-09 13:07:27,144 INFO sqlalchemy.engine.base.Engine ()\n",
      "2019-05-09 13:07:27,145 INFO sqlalchemy.engine.base.Engine SELECT sql FROM  (SELECT * FROM sqlite_master UNION ALL   SELECT * FROM sqlite_temp_master) WHERE name = 'Category' AND type = 'table'\n",
      "2019-05-09 13:07:27,146 INFO sqlalchemy.engine.base.Engine ()\n",
      "2019-05-09 13:07:27,149 INFO sqlalchemy.engine.base.Engine PRAGMA table_info(\"Customer\")\n",
      "2019-05-09 13:07:27,150 INFO sqlalchemy.engine.base.Engine ()\n",
      "2019-05-09 13:07:27,153 INFO sqlalchemy.engine.base.Engine SELECT sql FROM  (SELECT * FROM sqlite_master UNION ALL   SELECT * FROM sqlite_temp_master) WHERE name = 'Customer' AND type = 'table'\n",
      "2019-05-09 13:07:27,154 INFO sqlalchemy.engine.base.Engine ()\n",
      "2019-05-09 13:07:27,156 INFO sqlalchemy.engine.base.Engine PRAGMA foreign_key_list(\"Customer\")\n",
      "2019-05-09 13:07:27,156 INFO sqlalchemy.engine.base.Engine ()\n",
      "2019-05-09 13:07:27,157 INFO sqlalchemy.engine.base.Engine SELECT sql FROM  (SELECT * FROM sqlite_master UNION ALL   SELECT * FROM sqlite_temp_master) WHERE name = 'Customer' AND type = 'table'\n",
      "2019-05-09 13:07:27,158 INFO sqlalchemy.engine.base.Engine ()\n",
      "2019-05-09 13:07:27,159 INFO sqlalchemy.engine.base.Engine PRAGMA index_list(\"Customer\")\n",
      "2019-05-09 13:07:27,160 INFO sqlalchemy.engine.base.Engine ()\n",
      "2019-05-09 13:07:27,161 INFO sqlalchemy.engine.base.Engine PRAGMA index_list(\"Customer\")\n",
      "2019-05-09 13:07:27,162 INFO sqlalchemy.engine.base.Engine ()\n",
      "2019-05-09 13:07:27,163 INFO sqlalchemy.engine.base.Engine PRAGMA index_info(\"sqlite_autoindex_Customer_1\")\n",
      "2019-05-09 13:07:27,164 INFO sqlalchemy.engine.base.Engine ()\n",
      "2019-05-09 13:07:27,166 INFO sqlalchemy.engine.base.Engine SELECT sql FROM  (SELECT * FROM sqlite_master UNION ALL   SELECT * FROM sqlite_temp_master) WHERE name = 'Customer' AND type = 'table'\n",
      "2019-05-09 13:07:27,166 INFO sqlalchemy.engine.base.Engine ()\n",
      "2019-05-09 13:07:27,168 INFO sqlalchemy.engine.base.Engine PRAGMA table_info(\"CustomerCustomerDemo\")\n",
      "2019-05-09 13:07:27,168 INFO sqlalchemy.engine.base.Engine ()\n",
      "2019-05-09 13:07:27,170 INFO sqlalchemy.engine.base.Engine SELECT sql FROM  (SELECT * FROM sqlite_master UNION ALL   SELECT * FROM sqlite_temp_master) WHERE name = 'CustomerCustomerDemo' AND type = 'table'\n",
      "2019-05-09 13:07:27,171 INFO sqlalchemy.engine.base.Engine ()\n",
      "2019-05-09 13:07:27,172 INFO sqlalchemy.engine.base.Engine PRAGMA foreign_key_list(\"CustomerCustomerDemo\")\n",
      "2019-05-09 13:07:27,173 INFO sqlalchemy.engine.base.Engine ()\n",
      "2019-05-09 13:07:27,174 INFO sqlalchemy.engine.base.Engine SELECT sql FROM  (SELECT * FROM sqlite_master UNION ALL   SELECT * FROM sqlite_temp_master) WHERE name = 'CustomerCustomerDemo' AND type = 'table'\n",
      "2019-05-09 13:07:27,174 INFO sqlalchemy.engine.base.Engine ()\n",
      "2019-05-09 13:07:27,176 INFO sqlalchemy.engine.base.Engine PRAGMA index_list(\"CustomerCustomerDemo\")\n",
      "2019-05-09 13:07:27,176 INFO sqlalchemy.engine.base.Engine ()\n",
      "2019-05-09 13:07:27,178 INFO sqlalchemy.engine.base.Engine PRAGMA index_list(\"CustomerCustomerDemo\")\n",
      "2019-05-09 13:07:27,178 INFO sqlalchemy.engine.base.Engine ()\n",
      "2019-05-09 13:07:27,180 INFO sqlalchemy.engine.base.Engine PRAGMA index_info(\"sqlite_autoindex_CustomerCustomerDemo_1\")\n",
      "2019-05-09 13:07:27,181 INFO sqlalchemy.engine.base.Engine ()\n",
      "2019-05-09 13:07:27,182 INFO sqlalchemy.engine.base.Engine SELECT sql FROM  (SELECT * FROM sqlite_master UNION ALL   SELECT * FROM sqlite_temp_master) WHERE name = 'CustomerCustomerDemo' AND type = 'table'\n",
      "2019-05-09 13:07:27,183 INFO sqlalchemy.engine.base.Engine ()\n",
      "2019-05-09 13:07:27,184 INFO sqlalchemy.engine.base.Engine PRAGMA table_info(\"CustomerDemographic\")\n",
      "2019-05-09 13:07:27,185 INFO sqlalchemy.engine.base.Engine ()\n",
      "2019-05-09 13:07:27,187 INFO sqlalchemy.engine.base.Engine SELECT sql FROM  (SELECT * FROM sqlite_master UNION ALL   SELECT * FROM sqlite_temp_master) WHERE name = 'CustomerDemographic' AND type = 'table'\n",
      "2019-05-09 13:07:27,188 INFO sqlalchemy.engine.base.Engine ()\n",
      "2019-05-09 13:07:27,189 INFO sqlalchemy.engine.base.Engine PRAGMA foreign_key_list(\"CustomerDemographic\")\n",
      "2019-05-09 13:07:27,190 INFO sqlalchemy.engine.base.Engine ()\n",
      "2019-05-09 13:07:27,191 INFO sqlalchemy.engine.base.Engine SELECT sql FROM  (SELECT * FROM sqlite_master UNION ALL   SELECT * FROM sqlite_temp_master) WHERE name = 'CustomerDemographic' AND type = 'table'\n",
      "2019-05-09 13:07:27,192 INFO sqlalchemy.engine.base.Engine ()\n",
      "2019-05-09 13:07:27,193 INFO sqlalchemy.engine.base.Engine PRAGMA index_list(\"CustomerDemographic\")\n",
      "2019-05-09 13:07:27,194 INFO sqlalchemy.engine.base.Engine ()\n",
      "2019-05-09 13:07:27,195 INFO sqlalchemy.engine.base.Engine PRAGMA index_list(\"CustomerDemographic\")\n",
      "2019-05-09 13:07:27,196 INFO sqlalchemy.engine.base.Engine ()\n",
      "2019-05-09 13:07:27,198 INFO sqlalchemy.engine.base.Engine PRAGMA index_info(\"sqlite_autoindex_CustomerDemographic_1\")\n",
      "2019-05-09 13:07:27,199 INFO sqlalchemy.engine.base.Engine ()\n",
      "2019-05-09 13:07:27,200 INFO sqlalchemy.engine.base.Engine SELECT sql FROM  (SELECT * FROM sqlite_master UNION ALL   SELECT * FROM sqlite_temp_master) WHERE name = 'CustomerDemographic' AND type = 'table'\n",
      "2019-05-09 13:07:27,201 INFO sqlalchemy.engine.base.Engine ()\n",
      "2019-05-09 13:07:27,202 INFO sqlalchemy.engine.base.Engine PRAGMA table_info(\"Employee\")\n",
      "2019-05-09 13:07:27,203 INFO sqlalchemy.engine.base.Engine ()\n",
      "2019-05-09 13:07:27,208 INFO sqlalchemy.engine.base.Engine SELECT sql FROM  (SELECT * FROM sqlite_master UNION ALL   SELECT * FROM sqlite_temp_master) WHERE name = 'Employee' AND type = 'table'\n",
      "2019-05-09 13:07:27,209 INFO sqlalchemy.engine.base.Engine ()\n",
      "2019-05-09 13:07:27,210 INFO sqlalchemy.engine.base.Engine PRAGMA foreign_key_list(\"Employee\")\n",
      "2019-05-09 13:07:27,211 INFO sqlalchemy.engine.base.Engine ()\n",
      "2019-05-09 13:07:27,212 INFO sqlalchemy.engine.base.Engine SELECT sql FROM  (SELECT * FROM sqlite_master UNION ALL   SELECT * FROM sqlite_temp_master) WHERE name = 'Employee' AND type = 'table'\n",
      "2019-05-09 13:07:27,213 INFO sqlalchemy.engine.base.Engine ()\n",
      "2019-05-09 13:07:27,214 INFO sqlalchemy.engine.base.Engine PRAGMA index_list(\"Employee\")\n",
      "2019-05-09 13:07:27,214 INFO sqlalchemy.engine.base.Engine ()\n",
      "2019-05-09 13:07:27,216 INFO sqlalchemy.engine.base.Engine PRAGMA index_list(\"Employee\")\n",
      "2019-05-09 13:07:27,217 INFO sqlalchemy.engine.base.Engine ()\n",
      "2019-05-09 13:07:27,218 INFO sqlalchemy.engine.base.Engine SELECT sql FROM  (SELECT * FROM sqlite_master UNION ALL   SELECT * FROM sqlite_temp_master) WHERE name = 'Employee' AND type = 'table'\n",
      "2019-05-09 13:07:27,218 INFO sqlalchemy.engine.base.Engine ()\n",
      "2019-05-09 13:07:27,220 INFO sqlalchemy.engine.base.Engine PRAGMA table_info(\"EmployeeTerritory\")\n",
      "2019-05-09 13:07:27,221 INFO sqlalchemy.engine.base.Engine ()\n",
      "2019-05-09 13:07:27,223 INFO sqlalchemy.engine.base.Engine SELECT sql FROM  (SELECT * FROM sqlite_master UNION ALL   SELECT * FROM sqlite_temp_master) WHERE name = 'EmployeeTerritory' AND type = 'table'\n",
      "2019-05-09 13:07:27,224 INFO sqlalchemy.engine.base.Engine ()\n"
     ]
    },
    {
     "name": "stdout",
     "output_type": "stream",
     "text": [
      "2019-05-09 13:07:27,225 INFO sqlalchemy.engine.base.Engine PRAGMA foreign_key_list(\"EmployeeTerritory\")\n",
      "2019-05-09 13:07:27,226 INFO sqlalchemy.engine.base.Engine ()\n",
      "2019-05-09 13:07:27,230 INFO sqlalchemy.engine.base.Engine SELECT sql FROM  (SELECT * FROM sqlite_master UNION ALL   SELECT * FROM sqlite_temp_master) WHERE name = 'EmployeeTerritory' AND type = 'table'\n",
      "2019-05-09 13:07:27,230 INFO sqlalchemy.engine.base.Engine ()\n",
      "2019-05-09 13:07:27,232 INFO sqlalchemy.engine.base.Engine PRAGMA index_list(\"EmployeeTerritory\")\n",
      "2019-05-09 13:07:27,233 INFO sqlalchemy.engine.base.Engine ()\n",
      "2019-05-09 13:07:27,234 INFO sqlalchemy.engine.base.Engine PRAGMA index_list(\"EmployeeTerritory\")\n",
      "2019-05-09 13:07:27,234 INFO sqlalchemy.engine.base.Engine ()\n",
      "2019-05-09 13:07:27,236 INFO sqlalchemy.engine.base.Engine PRAGMA index_info(\"sqlite_autoindex_EmployeeTerritory_1\")\n",
      "2019-05-09 13:07:27,236 INFO sqlalchemy.engine.base.Engine ()\n",
      "2019-05-09 13:07:27,238 INFO sqlalchemy.engine.base.Engine SELECT sql FROM  (SELECT * FROM sqlite_master UNION ALL   SELECT * FROM sqlite_temp_master) WHERE name = 'EmployeeTerritory' AND type = 'table'\n",
      "2019-05-09 13:07:27,238 INFO sqlalchemy.engine.base.Engine ()\n",
      "2019-05-09 13:07:27,240 INFO sqlalchemy.engine.base.Engine PRAGMA table_info(\"Order\")\n",
      "2019-05-09 13:07:27,241 INFO sqlalchemy.engine.base.Engine ()\n",
      "2019-05-09 13:07:27,244 INFO sqlalchemy.engine.base.Engine SELECT sql FROM  (SELECT * FROM sqlite_master UNION ALL   SELECT * FROM sqlite_temp_master) WHERE name = 'Order' AND type = 'table'\n",
      "2019-05-09 13:07:27,245 INFO sqlalchemy.engine.base.Engine ()\n",
      "2019-05-09 13:07:27,246 INFO sqlalchemy.engine.base.Engine PRAGMA foreign_key_list(\"Order\")\n",
      "2019-05-09 13:07:27,247 INFO sqlalchemy.engine.base.Engine ()\n",
      "2019-05-09 13:07:27,248 INFO sqlalchemy.engine.base.Engine SELECT sql FROM  (SELECT * FROM sqlite_master UNION ALL   SELECT * FROM sqlite_temp_master) WHERE name = 'Order' AND type = 'table'\n",
      "2019-05-09 13:07:27,248 INFO sqlalchemy.engine.base.Engine ()\n",
      "2019-05-09 13:07:27,249 INFO sqlalchemy.engine.base.Engine PRAGMA index_list(\"Order\")\n",
      "2019-05-09 13:07:27,250 INFO sqlalchemy.engine.base.Engine ()\n",
      "2019-05-09 13:07:27,250 INFO sqlalchemy.engine.base.Engine PRAGMA index_list(\"Order\")\n",
      "2019-05-09 13:07:27,251 INFO sqlalchemy.engine.base.Engine ()\n",
      "2019-05-09 13:07:27,252 INFO sqlalchemy.engine.base.Engine SELECT sql FROM  (SELECT * FROM sqlite_master UNION ALL   SELECT * FROM sqlite_temp_master) WHERE name = 'Order' AND type = 'table'\n",
      "2019-05-09 13:07:27,252 INFO sqlalchemy.engine.base.Engine ()\n",
      "2019-05-09 13:07:27,254 INFO sqlalchemy.engine.base.Engine PRAGMA table_info(\"OrderDetail\")\n",
      "2019-05-09 13:07:27,255 INFO sqlalchemy.engine.base.Engine ()\n",
      "2019-05-09 13:07:27,257 INFO sqlalchemy.engine.base.Engine SELECT sql FROM  (SELECT * FROM sqlite_master UNION ALL   SELECT * FROM sqlite_temp_master) WHERE name = 'OrderDetail' AND type = 'table'\n",
      "2019-05-09 13:07:27,258 INFO sqlalchemy.engine.base.Engine ()\n",
      "2019-05-09 13:07:27,260 INFO sqlalchemy.engine.base.Engine PRAGMA foreign_key_list(\"OrderDetail\")\n",
      "2019-05-09 13:07:27,260 INFO sqlalchemy.engine.base.Engine ()\n",
      "2019-05-09 13:07:27,262 INFO sqlalchemy.engine.base.Engine SELECT sql FROM  (SELECT * FROM sqlite_master UNION ALL   SELECT * FROM sqlite_temp_master) WHERE name = 'OrderDetail' AND type = 'table'\n",
      "2019-05-09 13:07:27,262 INFO sqlalchemy.engine.base.Engine ()\n",
      "2019-05-09 13:07:27,263 INFO sqlalchemy.engine.base.Engine PRAGMA index_list(\"OrderDetail\")\n",
      "2019-05-09 13:07:27,264 INFO sqlalchemy.engine.base.Engine ()\n",
      "2019-05-09 13:07:27,265 INFO sqlalchemy.engine.base.Engine PRAGMA index_list(\"OrderDetail\")\n",
      "2019-05-09 13:07:27,266 INFO sqlalchemy.engine.base.Engine ()\n",
      "2019-05-09 13:07:27,267 INFO sqlalchemy.engine.base.Engine PRAGMA index_info(\"sqlite_autoindex_OrderDetail_1\")\n",
      "2019-05-09 13:07:27,268 INFO sqlalchemy.engine.base.Engine ()\n",
      "2019-05-09 13:07:27,269 INFO sqlalchemy.engine.base.Engine SELECT sql FROM  (SELECT * FROM sqlite_master UNION ALL   SELECT * FROM sqlite_temp_master) WHERE name = 'OrderDetail' AND type = 'table'\n",
      "2019-05-09 13:07:27,270 INFO sqlalchemy.engine.base.Engine ()\n",
      "2019-05-09 13:07:27,272 INFO sqlalchemy.engine.base.Engine PRAGMA table_info(\"Product\")\n",
      "2019-05-09 13:07:27,272 INFO sqlalchemy.engine.base.Engine ()\n",
      "2019-05-09 13:07:27,276 INFO sqlalchemy.engine.base.Engine SELECT sql FROM  (SELECT * FROM sqlite_master UNION ALL   SELECT * FROM sqlite_temp_master) WHERE name = 'Product' AND type = 'table'\n",
      "2019-05-09 13:07:27,277 INFO sqlalchemy.engine.base.Engine ()\n",
      "2019-05-09 13:07:27,278 INFO sqlalchemy.engine.base.Engine PRAGMA foreign_key_list(\"Product\")\n",
      "2019-05-09 13:07:27,279 INFO sqlalchemy.engine.base.Engine ()\n",
      "2019-05-09 13:07:27,280 INFO sqlalchemy.engine.base.Engine SELECT sql FROM  (SELECT * FROM sqlite_master UNION ALL   SELECT * FROM sqlite_temp_master) WHERE name = 'Product' AND type = 'table'\n",
      "2019-05-09 13:07:27,280 INFO sqlalchemy.engine.base.Engine ()\n",
      "2019-05-09 13:07:27,282 INFO sqlalchemy.engine.base.Engine PRAGMA index_list(\"Product\")\n",
      "2019-05-09 13:07:27,282 INFO sqlalchemy.engine.base.Engine ()\n",
      "2019-05-09 13:07:27,284 INFO sqlalchemy.engine.base.Engine PRAGMA index_list(\"Product\")\n",
      "2019-05-09 13:07:27,284 INFO sqlalchemy.engine.base.Engine ()\n",
      "2019-05-09 13:07:27,285 INFO sqlalchemy.engine.base.Engine SELECT sql FROM  (SELECT * FROM sqlite_master UNION ALL   SELECT * FROM sqlite_temp_master) WHERE name = 'Product' AND type = 'table'\n",
      "2019-05-09 13:07:27,286 INFO sqlalchemy.engine.base.Engine ()\n",
      "2019-05-09 13:07:27,288 INFO sqlalchemy.engine.base.Engine PRAGMA table_info(\"Region\")\n",
      "2019-05-09 13:07:27,288 INFO sqlalchemy.engine.base.Engine ()\n",
      "2019-05-09 13:07:27,290 INFO sqlalchemy.engine.base.Engine SELECT sql FROM  (SELECT * FROM sqlite_master UNION ALL   SELECT * FROM sqlite_temp_master) WHERE name = 'Region' AND type = 'table'\n",
      "2019-05-09 13:07:27,291 INFO sqlalchemy.engine.base.Engine ()\n",
      "2019-05-09 13:07:27,293 INFO sqlalchemy.engine.base.Engine PRAGMA foreign_key_list(\"Region\")\n",
      "2019-05-09 13:07:27,293 INFO sqlalchemy.engine.base.Engine ()\n",
      "2019-05-09 13:07:27,294 INFO sqlalchemy.engine.base.Engine SELECT sql FROM  (SELECT * FROM sqlite_master UNION ALL   SELECT * FROM sqlite_temp_master) WHERE name = 'Region' AND type = 'table'\n",
      "2019-05-09 13:07:27,295 INFO sqlalchemy.engine.base.Engine ()\n",
      "2019-05-09 13:07:27,296 INFO sqlalchemy.engine.base.Engine PRAGMA index_list(\"Region\")\n",
      "2019-05-09 13:07:27,297 INFO sqlalchemy.engine.base.Engine ()\n",
      "2019-05-09 13:07:27,299 INFO sqlalchemy.engine.base.Engine PRAGMA index_list(\"Region\")\n",
      "2019-05-09 13:07:27,299 INFO sqlalchemy.engine.base.Engine ()\n",
      "2019-05-09 13:07:27,300 INFO sqlalchemy.engine.base.Engine SELECT sql FROM  (SELECT * FROM sqlite_master UNION ALL   SELECT * FROM sqlite_temp_master) WHERE name = 'Region' AND type = 'table'\n",
      "2019-05-09 13:07:27,301 INFO sqlalchemy.engine.base.Engine ()\n",
      "2019-05-09 13:07:27,303 INFO sqlalchemy.engine.base.Engine PRAGMA table_info(\"Shipper\")\n",
      "2019-05-09 13:07:27,304 INFO sqlalchemy.engine.base.Engine ()\n",
      "2019-05-09 13:07:27,305 INFO sqlalchemy.engine.base.Engine SELECT sql FROM  (SELECT * FROM sqlite_master UNION ALL   SELECT * FROM sqlite_temp_master) WHERE name = 'Shipper' AND type = 'table'\n",
      "2019-05-09 13:07:27,306 INFO sqlalchemy.engine.base.Engine ()\n",
      "2019-05-09 13:07:27,308 INFO sqlalchemy.engine.base.Engine PRAGMA foreign_key_list(\"Shipper\")\n",
      "2019-05-09 13:07:27,308 INFO sqlalchemy.engine.base.Engine ()\n",
      "2019-05-09 13:07:27,309 INFO sqlalchemy.engine.base.Engine SELECT sql FROM  (SELECT * FROM sqlite_master UNION ALL   SELECT * FROM sqlite_temp_master) WHERE name = 'Shipper' AND type = 'table'\n",
      "2019-05-09 13:07:27,310 INFO sqlalchemy.engine.base.Engine ()\n",
      "2019-05-09 13:07:27,311 INFO sqlalchemy.engine.base.Engine PRAGMA index_list(\"Shipper\")\n",
      "2019-05-09 13:07:27,312 INFO sqlalchemy.engine.base.Engine ()\n",
      "2019-05-09 13:07:27,313 INFO sqlalchemy.engine.base.Engine PRAGMA index_list(\"Shipper\")\n",
      "2019-05-09 13:07:27,313 INFO sqlalchemy.engine.base.Engine ()\n",
      "2019-05-09 13:07:27,314 INFO sqlalchemy.engine.base.Engine SELECT sql FROM  (SELECT * FROM sqlite_master UNION ALL   SELECT * FROM sqlite_temp_master) WHERE name = 'Shipper' AND type = 'table'\n",
      "2019-05-09 13:07:27,315 INFO sqlalchemy.engine.base.Engine ()\n"
     ]
    },
    {
     "name": "stdout",
     "output_type": "stream",
     "text": [
      "2019-05-09 13:07:27,323 INFO sqlalchemy.engine.base.Engine PRAGMA table_info(\"Supplier\")\n",
      "2019-05-09 13:07:27,324 INFO sqlalchemy.engine.base.Engine ()\n",
      "2019-05-09 13:07:27,328 INFO sqlalchemy.engine.base.Engine SELECT sql FROM  (SELECT * FROM sqlite_master UNION ALL   SELECT * FROM sqlite_temp_master) WHERE name = 'Supplier' AND type = 'table'\n",
      "2019-05-09 13:07:27,329 INFO sqlalchemy.engine.base.Engine ()\n",
      "2019-05-09 13:07:27,330 INFO sqlalchemy.engine.base.Engine PRAGMA foreign_key_list(\"Supplier\")\n",
      "2019-05-09 13:07:27,331 INFO sqlalchemy.engine.base.Engine ()\n",
      "2019-05-09 13:07:27,332 INFO sqlalchemy.engine.base.Engine SELECT sql FROM  (SELECT * FROM sqlite_master UNION ALL   SELECT * FROM sqlite_temp_master) WHERE name = 'Supplier' AND type = 'table'\n",
      "2019-05-09 13:07:27,333 INFO sqlalchemy.engine.base.Engine ()\n",
      "2019-05-09 13:07:27,335 INFO sqlalchemy.engine.base.Engine PRAGMA index_list(\"Supplier\")\n",
      "2019-05-09 13:07:27,336 INFO sqlalchemy.engine.base.Engine ()\n",
      "2019-05-09 13:07:27,338 INFO sqlalchemy.engine.base.Engine PRAGMA index_list(\"Supplier\")\n",
      "2019-05-09 13:07:27,338 INFO sqlalchemy.engine.base.Engine ()\n",
      "2019-05-09 13:07:27,340 INFO sqlalchemy.engine.base.Engine SELECT sql FROM  (SELECT * FROM sqlite_master UNION ALL   SELECT * FROM sqlite_temp_master) WHERE name = 'Supplier' AND type = 'table'\n",
      "2019-05-09 13:07:27,340 INFO sqlalchemy.engine.base.Engine ()\n",
      "2019-05-09 13:07:27,342 INFO sqlalchemy.engine.base.Engine PRAGMA table_info(\"Territory\")\n",
      "2019-05-09 13:07:27,343 INFO sqlalchemy.engine.base.Engine ()\n",
      "2019-05-09 13:07:27,345 INFO sqlalchemy.engine.base.Engine SELECT sql FROM  (SELECT * FROM sqlite_master UNION ALL   SELECT * FROM sqlite_temp_master) WHERE name = 'Territory' AND type = 'table'\n",
      "2019-05-09 13:07:27,347 INFO sqlalchemy.engine.base.Engine ()\n",
      "2019-05-09 13:07:27,348 INFO sqlalchemy.engine.base.Engine PRAGMA foreign_key_list(\"Territory\")\n",
      "2019-05-09 13:07:27,349 INFO sqlalchemy.engine.base.Engine ()\n",
      "2019-05-09 13:07:27,350 INFO sqlalchemy.engine.base.Engine SELECT sql FROM  (SELECT * FROM sqlite_master UNION ALL   SELECT * FROM sqlite_temp_master) WHERE name = 'Territory' AND type = 'table'\n",
      "2019-05-09 13:07:27,350 INFO sqlalchemy.engine.base.Engine ()\n",
      "2019-05-09 13:07:27,351 INFO sqlalchemy.engine.base.Engine PRAGMA index_list(\"Territory\")\n",
      "2019-05-09 13:07:27,352 INFO sqlalchemy.engine.base.Engine ()\n",
      "2019-05-09 13:07:27,354 INFO sqlalchemy.engine.base.Engine PRAGMA index_list(\"Territory\")\n",
      "2019-05-09 13:07:27,355 INFO sqlalchemy.engine.base.Engine ()\n",
      "2019-05-09 13:07:27,356 INFO sqlalchemy.engine.base.Engine PRAGMA index_info(\"sqlite_autoindex_Territory_1\")\n",
      "2019-05-09 13:07:27,357 INFO sqlalchemy.engine.base.Engine ()\n",
      "2019-05-09 13:07:27,358 INFO sqlalchemy.engine.base.Engine SELECT sql FROM  (SELECT * FROM sqlite_master UNION ALL   SELECT * FROM sqlite_temp_master) WHERE name = 'Territory' AND type = 'table'\n",
      "2019-05-09 13:07:27,359 INFO sqlalchemy.engine.base.Engine ()\n"
     ]
    }
   ],
   "source": [
    "#converting SQL tables into classes for easy conversion to pandas dataframe\n",
    "\n",
    "from sqlalchemy import MetaData\n",
    "from sqlalchemy.ext.automap import automap_base\n",
    "metadata=MetaData()\n",
    "metadata.reflect(engine)\n",
    "Base = automap_base(metadata=metadata)\n",
    "Base.prepare()\n",
    "category=Base.classes.Category\n",
    "customer=Base.classes.Customer\n",
    "employee=Base.classes.Employee\n",
    "employeeterritory=Base.classes.EmployeeTerritory\n",
    "order=Base.classes.Order\n",
    "orderdetail=Base.classes.OrderDetail\n",
    "product=Base.classes.Product\n",
    "region=Base.classes.Region\n",
    "shipper=Base.classes.Shipper\n",
    "supplier=Base.classes.Supplier\n",
    "territory=Base.classes.Territory"
   ]
  },
  {
   "cell_type": "code",
   "execution_count": 4,
   "metadata": {},
   "outputs": [
    {
     "name": "stdout",
     "output_type": "stream",
     "text": [
      "2019-05-09 13:07:27,806 INFO sqlalchemy.engine.base.Engine SELECT * FROM [category]\n",
      "2019-05-09 13:07:27,807 INFO sqlalchemy.engine.base.Engine ()\n",
      "2019-05-09 13:07:27,812 INFO sqlalchemy.engine.base.Engine SELECT * FROM [customer]\n",
      "2019-05-09 13:07:27,813 INFO sqlalchemy.engine.base.Engine ()\n",
      "2019-05-09 13:07:27,820 INFO sqlalchemy.engine.base.Engine SELECT * FROM [employee]\n",
      "2019-05-09 13:07:27,821 INFO sqlalchemy.engine.base.Engine ()\n",
      "2019-05-09 13:07:27,825 INFO sqlalchemy.engine.base.Engine SELECT * FROM [employeeterritory]\n",
      "2019-05-09 13:07:27,826 INFO sqlalchemy.engine.base.Engine ()\n",
      "2019-05-09 13:07:27,830 INFO sqlalchemy.engine.base.Engine SELECT * FROM [order]\n",
      "2019-05-09 13:07:27,832 INFO sqlalchemy.engine.base.Engine ()\n",
      "2019-05-09 13:07:27,847 INFO sqlalchemy.engine.base.Engine SELECT * FROM [orderdetail]\n",
      "2019-05-09 13:07:27,848 INFO sqlalchemy.engine.base.Engine ()\n",
      "2019-05-09 13:07:27,861 INFO sqlalchemy.engine.base.Engine SELECT * FROM [product]\n",
      "2019-05-09 13:07:27,863 INFO sqlalchemy.engine.base.Engine ()\n",
      "2019-05-09 13:07:27,872 INFO sqlalchemy.engine.base.Engine SELECT * FROM [region]\n",
      "2019-05-09 13:07:27,873 INFO sqlalchemy.engine.base.Engine ()\n",
      "2019-05-09 13:07:27,877 INFO sqlalchemy.engine.base.Engine SELECT * FROM [shipper]\n",
      "2019-05-09 13:07:27,878 INFO sqlalchemy.engine.base.Engine ()\n",
      "2019-05-09 13:07:27,881 INFO sqlalchemy.engine.base.Engine SELECT * FROM [supplier]\n",
      "2019-05-09 13:07:27,882 INFO sqlalchemy.engine.base.Engine ()\n",
      "2019-05-09 13:07:27,887 INFO sqlalchemy.engine.base.Engine SELECT * FROM [territory]\n",
      "2019-05-09 13:07:27,888 INFO sqlalchemy.engine.base.Engine ()\n"
     ]
    }
   ],
   "source": [
    "# converting the SQL classes to pandas dataframes\n",
    "\n",
    "import pandas as pd\n",
    "category_df=pd.read_sql_query('SELECT * FROM [category]', engine)\n",
    "customer_df=pd.read_sql_query('SELECT * FROM [customer]', engine)\n",
    "employee_df=pd.read_sql_query('SELECT * FROM [employee]', engine)\n",
    "employeeterritory_df=pd.read_sql_query('SELECT * FROM [employeeterritory]', engine)\n",
    "order_df=pd.read_sql_query('SELECT * FROM [order]',engine)\n",
    "orderdetail_df=pd.read_sql_query('SELECT * FROM [orderdetail]' ,engine)\n",
    "product_df=pd.read_sql_query('SELECT * FROM [product]', engine)\n",
    "region_df=pd.read_sql_query('SELECT * FROM [region]', engine)\n",
    "shipper_df=pd.read_sql_query('SELECT * FROM [shipper]', engine)\n",
    "supplier_df=pd.read_sql_query('SELECT * FROM [supplier]', engine)\n",
    "territory_df=pd.read_sql_query('SELECT * FROM [territory]', engine)"
   ]
  },
  {
   "cell_type": "markdown",
   "metadata": {},
   "source": [
    "**As each hypothesis will deal with different combinations of tables, the remainder of steps (Cleaning, Exploring, Engineering, Modeling and Visualization) will be done on each individual hypothesis."
   ]
  },
  {
   "cell_type": "markdown",
   "metadata": {},
   "source": [
    "# Hypotheses"
   ]
  },
  {
   "cell_type": "markdown",
   "metadata": {},
   "source": [
    "## Question 1: Do discounts have a statistically significant effect on the number of products customers order? If so, at what level(s) of discount?"
   ]
  },
  {
   "cell_type": "markdown",
   "metadata": {},
   "source": [
    "### Ho = Discounts do not have a significant effect on the number of products customers order.\n",
    "\n",
    "### Ha = Discounts do have a significant positive effect on the number of products customers order."
   ]
  },
  {
   "cell_type": "markdown",
   "metadata": {},
   "source": [
    "First, let's take a look at the table and compress it to the data that we need."
   ]
  },
  {
   "cell_type": "code",
   "execution_count": 5,
   "metadata": {},
   "outputs": [
    {
     "name": "stdout",
     "output_type": "stream",
     "text": [
      "<class 'pandas.core.frame.DataFrame'>\n",
      "RangeIndex: 2155 entries, 0 to 2154\n",
      "Data columns (total 6 columns):\n",
      "Id           2155 non-null object\n",
      "OrderId      2155 non-null int64\n",
      "ProductId    2155 non-null int64\n",
      "UnitPrice    2155 non-null float64\n",
      "Quantity     2155 non-null int64\n",
      "Discount     2155 non-null float64\n",
      "dtypes: float64(2), int64(3), object(1)\n",
      "memory usage: 101.1+ KB\n"
     ]
    }
   ],
   "source": [
    "orderdetail_df.info()"
   ]
  },
  {
   "cell_type": "code",
   "execution_count": 6,
   "metadata": {},
   "outputs": [
    {
     "data": {
      "text/html": [
       "<div>\n",
       "<style scoped>\n",
       "    .dataframe tbody tr th:only-of-type {\n",
       "        vertical-align: middle;\n",
       "    }\n",
       "\n",
       "    .dataframe tbody tr th {\n",
       "        vertical-align: top;\n",
       "    }\n",
       "\n",
       "    .dataframe thead th {\n",
       "        text-align: right;\n",
       "    }\n",
       "</style>\n",
       "<table border=\"1\" class=\"dataframe\">\n",
       "  <thead>\n",
       "    <tr style=\"text-align: right;\">\n",
       "      <th></th>\n",
       "      <th>Id</th>\n",
       "      <th>OrderId</th>\n",
       "      <th>ProductId</th>\n",
       "      <th>UnitPrice</th>\n",
       "      <th>Quantity</th>\n",
       "      <th>Discount</th>\n",
       "    </tr>\n",
       "  </thead>\n",
       "  <tbody>\n",
       "    <tr>\n",
       "      <th>0</th>\n",
       "      <td>10248/11</td>\n",
       "      <td>10248</td>\n",
       "      <td>11</td>\n",
       "      <td>14.0</td>\n",
       "      <td>12</td>\n",
       "      <td>0.0</td>\n",
       "    </tr>\n",
       "    <tr>\n",
       "      <th>1</th>\n",
       "      <td>10248/42</td>\n",
       "      <td>10248</td>\n",
       "      <td>42</td>\n",
       "      <td>9.8</td>\n",
       "      <td>10</td>\n",
       "      <td>0.0</td>\n",
       "    </tr>\n",
       "    <tr>\n",
       "      <th>2</th>\n",
       "      <td>10248/72</td>\n",
       "      <td>10248</td>\n",
       "      <td>72</td>\n",
       "      <td>34.8</td>\n",
       "      <td>5</td>\n",
       "      <td>0.0</td>\n",
       "    </tr>\n",
       "    <tr>\n",
       "      <th>3</th>\n",
       "      <td>10249/14</td>\n",
       "      <td>10249</td>\n",
       "      <td>14</td>\n",
       "      <td>18.6</td>\n",
       "      <td>9</td>\n",
       "      <td>0.0</td>\n",
       "    </tr>\n",
       "    <tr>\n",
       "      <th>4</th>\n",
       "      <td>10249/51</td>\n",
       "      <td>10249</td>\n",
       "      <td>51</td>\n",
       "      <td>42.4</td>\n",
       "      <td>40</td>\n",
       "      <td>0.0</td>\n",
       "    </tr>\n",
       "  </tbody>\n",
       "</table>\n",
       "</div>"
      ],
      "text/plain": [
       "         Id  OrderId  ProductId  UnitPrice  Quantity  Discount\n",
       "0  10248/11    10248         11       14.0        12       0.0\n",
       "1  10248/42    10248         42        9.8        10       0.0\n",
       "2  10248/72    10248         72       34.8         5       0.0\n",
       "3  10249/14    10249         14       18.6         9       0.0\n",
       "4  10249/51    10249         51       42.4        40       0.0"
      ]
     },
     "execution_count": 6,
     "metadata": {},
     "output_type": "execute_result"
    }
   ],
   "source": [
    "orderdetail_df.head()"
   ]
  },
  {
   "cell_type": "code",
   "execution_count": 7,
   "metadata": {},
   "outputs": [],
   "source": [
    "hyp1 = orderdetail_df[['Quantity','Discount']]"
   ]
  },
  {
   "cell_type": "code",
   "execution_count": 8,
   "metadata": {},
   "outputs": [],
   "source": [
    "hyp1 = hyp1.copy()"
   ]
  },
  {
   "cell_type": "code",
   "execution_count": 9,
   "metadata": {},
   "outputs": [
    {
     "data": {
      "text/html": [
       "<div>\n",
       "<style scoped>\n",
       "    .dataframe tbody tr th:only-of-type {\n",
       "        vertical-align: middle;\n",
       "    }\n",
       "\n",
       "    .dataframe tbody tr th {\n",
       "        vertical-align: top;\n",
       "    }\n",
       "\n",
       "    .dataframe thead th {\n",
       "        text-align: right;\n",
       "    }\n",
       "</style>\n",
       "<table border=\"1\" class=\"dataframe\">\n",
       "  <thead>\n",
       "    <tr style=\"text-align: right;\">\n",
       "      <th></th>\n",
       "      <th>Quantity</th>\n",
       "      <th>Discount</th>\n",
       "    </tr>\n",
       "  </thead>\n",
       "  <tbody>\n",
       "    <tr>\n",
       "      <th>0</th>\n",
       "      <td>12</td>\n",
       "      <td>0.0</td>\n",
       "    </tr>\n",
       "    <tr>\n",
       "      <th>1</th>\n",
       "      <td>10</td>\n",
       "      <td>0.0</td>\n",
       "    </tr>\n",
       "    <tr>\n",
       "      <th>2</th>\n",
       "      <td>5</td>\n",
       "      <td>0.0</td>\n",
       "    </tr>\n",
       "    <tr>\n",
       "      <th>3</th>\n",
       "      <td>9</td>\n",
       "      <td>0.0</td>\n",
       "    </tr>\n",
       "    <tr>\n",
       "      <th>4</th>\n",
       "      <td>40</td>\n",
       "      <td>0.0</td>\n",
       "    </tr>\n",
       "  </tbody>\n",
       "</table>\n",
       "</div>"
      ],
      "text/plain": [
       "   Quantity  Discount\n",
       "0        12       0.0\n",
       "1        10       0.0\n",
       "2         5       0.0\n",
       "3         9       0.0\n",
       "4        40       0.0"
      ]
     },
     "execution_count": 9,
     "metadata": {},
     "output_type": "execute_result"
    }
   ],
   "source": [
    "hyp1.head()"
   ]
  },
  {
   "cell_type": "markdown",
   "metadata": {},
   "source": [
    "Now, lets take a look at the counts of each value to determine if any rows can be removed"
   ]
  },
  {
   "cell_type": "code",
   "execution_count": 10,
   "metadata": {},
   "outputs": [
    {
     "data": {
      "text/plain": [
       "20     252\n",
       "30     194\n",
       "10     181\n",
       "15     169\n",
       "40     113\n",
       "12      92\n",
       "6       87\n",
       "25      80\n",
       "50      75\n",
       "35      71\n",
       "5       67\n",
       "24      58\n",
       "60      58\n",
       "4       55\n",
       "2       52\n",
       "21      50\n",
       "8       50\n",
       "18      47\n",
       "3       46\n",
       "14      36\n",
       "16      35\n",
       "9       30\n",
       "28      29\n",
       "70      28\n",
       "7       23\n",
       "36      21\n",
       "42      19\n",
       "1       17\n",
       "80      16\n",
       "45      14\n",
       "100     10\n",
       "55       9\n",
       "120      8\n",
       "65       8\n",
       "49       7\n",
       "48       5\n",
       "32       5\n",
       "44       4\n",
       "90       4\n",
       "13       3\n",
       "77       3\n",
       "110      3\n",
       "56       3\n",
       "84       2\n",
       "11       2\n",
       "27       2\n",
       "33       2\n",
       "39       2\n",
       "130      2\n",
       "63       1\n",
       "66       1\n",
       "22       1\n",
       "52       1\n",
       "54       1\n",
       "91       1\n",
       "Name: Quantity, dtype: int64"
      ]
     },
     "execution_count": 10,
     "metadata": {},
     "output_type": "execute_result"
    }
   ],
   "source": [
    "hyp1.Quantity.value_counts()"
   ]
  },
  {
   "cell_type": "code",
   "execution_count": 11,
   "metadata": {},
   "outputs": [
    {
     "data": {
      "text/plain": [
       "0.00    1317\n",
       "0.05     185\n",
       "0.10     173\n",
       "0.20     161\n",
       "0.15     157\n",
       "0.25     154\n",
       "0.03       3\n",
       "0.02       2\n",
       "0.01       1\n",
       "0.04       1\n",
       "0.06       1\n",
       "Name: Discount, dtype: int64"
      ]
     },
     "execution_count": 11,
     "metadata": {},
     "output_type": "execute_result"
    }
   ],
   "source": [
    "hyp1.Discount.value_counts()"
   ]
  },
  {
   "cell_type": "markdown",
   "metadata": {},
   "source": [
    "Some of these discount amounts have very little data to support any testing, so we will remove those values and associated rows."
   ]
  },
  {
   "cell_type": "code",
   "execution_count": 12,
   "metadata": {},
   "outputs": [
    {
     "name": "stdout",
     "output_type": "stream",
     "text": [
      "      Quantity  Discount\n",
      "2149         2      0.06\n",
      "      Quantity  Discount\n",
      "2141         1      0.04\n",
      "      Quantity  Discount\n",
      "2139         1      0.03\n",
      "2140         2      0.03\n",
      "2150         2      0.03\n",
      "      Quantity  Discount\n",
      "2133         1      0.02\n",
      "2146         3      0.02\n",
      "      Quantity  Discount\n",
      "2152         2      0.01\n"
     ]
    }
   ],
   "source": [
    "print(hyp1.loc[hyp1['Discount'] == 0.06])\n",
    "print(hyp1.loc[hyp1['Discount'] == 0.04])\n",
    "print(hyp1.loc[hyp1['Discount'] == 0.03])\n",
    "print(hyp1.loc[hyp1['Discount'] == 0.02])\n",
    "print(hyp1.loc[hyp1['Discount'] == 0.01])"
   ]
  },
  {
   "cell_type": "code",
   "execution_count": 13,
   "metadata": {},
   "outputs": [],
   "source": [
    "hyp1.drop(index=[2149,2141,2139,2140,2150,2133,2146,2152], inplace=True)"
   ]
  },
  {
   "cell_type": "code",
   "execution_count": 14,
   "metadata": {},
   "outputs": [
    {
     "data": {
      "text/plain": [
       "0.00    1317\n",
       "0.05     185\n",
       "0.10     173\n",
       "0.20     161\n",
       "0.15     157\n",
       "0.25     154\n",
       "Name: Discount, dtype: int64"
      ]
     },
     "execution_count": 14,
     "metadata": {},
     "output_type": "execute_result"
    }
   ],
   "source": [
    "hyp1.Discount.value_counts()"
   ]
  },
  {
   "cell_type": "code",
   "execution_count": 15,
   "metadata": {},
   "outputs": [],
   "source": [
    "# importing packages need to perform basic statistical functions and visualizations\n",
    "\n",
    "import numpy as np\n",
    "from scipy import stats\n",
    "import seaborn as sns\n",
    "import matplotlib.pyplot as plt"
   ]
  },
  {
   "cell_type": "markdown",
   "metadata": {},
   "source": [
    "Now that we have our packages, we will run a t-test to look at the mean differences between our control (no discount) and experiment (some discount)."
   ]
  },
  {
   "cell_type": "code",
   "execution_count": 16,
   "metadata": {},
   "outputs": [],
   "source": [
    "experiment = hyp1[hyp1.Discount != 0.00]"
   ]
  },
  {
   "cell_type": "code",
   "execution_count": 17,
   "metadata": {},
   "outputs": [],
   "source": [
    "control = hyp1[hyp1.Discount == 0.00]"
   ]
  },
  {
   "cell_type": "code",
   "execution_count": 18,
   "metadata": {},
   "outputs": [
    {
     "data": {
      "text/html": [
       "<div>\n",
       "<style scoped>\n",
       "    .dataframe tbody tr th:only-of-type {\n",
       "        vertical-align: middle;\n",
       "    }\n",
       "\n",
       "    .dataframe tbody tr th {\n",
       "        vertical-align: top;\n",
       "    }\n",
       "\n",
       "    .dataframe thead th {\n",
       "        text-align: right;\n",
       "    }\n",
       "</style>\n",
       "<table border=\"1\" class=\"dataframe\">\n",
       "  <thead>\n",
       "    <tr style=\"text-align: right;\">\n",
       "      <th></th>\n",
       "      <th>Quantity</th>\n",
       "      <th>Discount</th>\n",
       "    </tr>\n",
       "  </thead>\n",
       "  <tbody>\n",
       "    <tr>\n",
       "      <th>6</th>\n",
       "      <td>35</td>\n",
       "      <td>0.15</td>\n",
       "    </tr>\n",
       "    <tr>\n",
       "      <th>7</th>\n",
       "      <td>15</td>\n",
       "      <td>0.15</td>\n",
       "    </tr>\n",
       "    <tr>\n",
       "      <th>8</th>\n",
       "      <td>6</td>\n",
       "      <td>0.05</td>\n",
       "    </tr>\n",
       "    <tr>\n",
       "      <th>9</th>\n",
       "      <td>15</td>\n",
       "      <td>0.05</td>\n",
       "    </tr>\n",
       "    <tr>\n",
       "      <th>11</th>\n",
       "      <td>40</td>\n",
       "      <td>0.05</td>\n",
       "    </tr>\n",
       "  </tbody>\n",
       "</table>\n",
       "</div>"
      ],
      "text/plain": [
       "    Quantity  Discount\n",
       "6         35      0.15\n",
       "7         15      0.15\n",
       "8          6      0.05\n",
       "9         15      0.05\n",
       "11        40      0.05"
      ]
     },
     "execution_count": 18,
     "metadata": {},
     "output_type": "execute_result"
    }
   ],
   "source": [
    "experiment.head()"
   ]
  },
  {
   "cell_type": "markdown",
   "metadata": {},
   "source": [
    "### Normality Test\n",
    "\n",
    "Before we decide which method to perform, we will first run a normality test on both control and experiment datasets using Scipy's Shapiro test:"
   ]
  },
  {
   "cell_type": "code",
   "execution_count": 19,
   "metadata": {},
   "outputs": [
    {
     "data": {
      "text/plain": [
       "(0.7057597041130066, 0.0)"
      ]
     },
     "execution_count": 19,
     "metadata": {},
     "output_type": "execute_result"
    }
   ],
   "source": [
    "stats.shapiro(control)"
   ]
  },
  {
   "cell_type": "code",
   "execution_count": 20,
   "metadata": {},
   "outputs": [
    {
     "data": {
      "text/plain": [
       "(0.7266470193862915, 0.0)"
      ]
     },
     "execution_count": 20,
     "metadata": {},
     "output_type": "execute_result"
    }
   ],
   "source": [
    "stats.shapiro(experiment)"
   ]
  },
  {
   "cell_type": "markdown",
   "metadata": {},
   "source": [
    "According to the normality tests, we can verify that the data is normal."
   ]
  },
  {
   "cell_type": "markdown",
   "metadata": {},
   "source": [
    "### Variance Test"
   ]
  },
  {
   "cell_type": "markdown",
   "metadata": {},
   "source": [
    "We will also perform a variance test "
   ]
  },
  {
   "cell_type": "code",
   "execution_count": 21,
   "metadata": {
    "scrolled": true
   },
   "outputs": [
    {
     "data": {
      "text/plain": [
       "0.0"
      ]
     },
     "execution_count": 21,
     "metadata": {},
     "output_type": "execute_result"
    }
   ],
   "source": [
    "control.Discount.var()"
   ]
  },
  {
   "cell_type": "code",
   "execution_count": 22,
   "metadata": {},
   "outputs": [
    {
     "data": {
      "text/plain": [
       "0.005076605577920851"
      ]
     },
     "execution_count": 22,
     "metadata": {},
     "output_type": "execute_result"
    }
   ],
   "source": [
    "experiment.Discount.var()"
   ]
  },
  {
   "cell_type": "markdown",
   "metadata": {},
   "source": [
    "The difference in variance between variables in both samples is so small as to determine that a standard t-test will be sufficient."
   ]
  },
  {
   "cell_type": "markdown",
   "metadata": {},
   "source": [
    "We will run a visual probability distributions graph to see if there are differences between the means and standard deviations."
   ]
  },
  {
   "cell_type": "code",
   "execution_count": 23,
   "metadata": {},
   "outputs": [
    {
     "name": "stderr",
     "output_type": "stream",
     "text": [
      "C:\\Users\\perso\\Anaconda3\\envs\\learn-env\\lib\\site-packages\\scipy\\stats\\stats.py:1713: FutureWarning: Using a non-tuple sequence for multidimensional indexing is deprecated; use `arr[tuple(seq)]` instead of `arr[seq]`. In the future this will be interpreted as an array index, `arr[np.array(seq)]`, which will result either in an error or a different result.\n",
      "  return np.add.reduce(sorted[indexer] * weights, axis=axis) / sumval\n"
     ]
    },
    {
     "data": {
      "text/plain": [
       "<matplotlib.axes._subplots.AxesSubplot at 0x1ef5c85dd30>"
      ]
     },
     "execution_count": 23,
     "metadata": {},
     "output_type": "execute_result"
    },
    {
     "data": {
      "image/png": "[encoded data removed]",
      "text/plain": [
       "<Figure size 864x720 with 1 Axes>"
      ]
     },
     "metadata": {},
     "output_type": "display_data"
    }
   ],
   "source": [
    "sns.set(color_codes=True)\n",
    "sns.set(rc={'figure.figsize':(12,10)})\n",
    "sns.distplot(control.Quantity) # Blue distribution\n",
    "sns.distplot(experiment.Quantity) # Orange distribution"
   ]
  },
  {
   "cell_type": "code",
   "execution_count": 24,
   "metadata": {},
   "outputs": [
    {
     "data": {
      "text/plain": [
       "5.638954908472158"
      ]
     },
     "execution_count": 24,
     "metadata": {},
     "output_type": "execute_result"
    }
   ],
   "source": [
    "control.Quantity.mean()\n",
    "experiment.Quantity.mean()\n",
    "experiment.Quantity.mean() - control.Quantity.mean()"
   ]
  },
  {
   "cell_type": "markdown",
   "metadata": {},
   "source": [
    "Now we will run a Welch's t-test since the variance was slightly different between samples."
   ]
  },
  {
   "cell_type": "code",
   "execution_count": 25,
   "metadata": {},
   "outputs": [
    {
     "data": {
      "text/plain": [
       "58.84928311877419"
      ]
     },
     "execution_count": 25,
     "metadata": {},
     "output_type": "execute_result"
    }
   ],
   "source": [
    "def welch_t(a, b):\n",
    "    \n",
    "    \"\"\" Calculate Welch's t statistic for two samples. \"\"\"\n",
    "\n",
    "    numerator = a.mean() - b.mean()\n",
    "    \n",
    "    # “ddof = Delta Degrees of Freedom”: the divisor used in the calculation is N - ddof, \n",
    "    #  where N represents the number of elements. By default ddof is zero.\n",
    "    \n",
    "    denominator = np.sqrt(a.var(ddof=1)/a.size + b.var(ddof=1)/b.size)\n",
    "    \n",
    "    return numerator/denominator\n",
    "\n",
    "welch_t(experiment.Discount,control.Discount)"
   ]
  },
  {
   "cell_type": "markdown",
   "metadata": {},
   "source": [
    "This high t-value shows a significant departure between the two samples and the p-value shows significance enough to reject the null hypothesis  "
   ]
  },
  {
   "cell_type": "markdown",
   "metadata": {},
   "source": [
    "#### The second part of the question asks which levels of discount are significant. We will start by taking a quick visual."
   ]
  },
  {
   "cell_type": "code",
   "execution_count": 26,
   "metadata": {},
   "outputs": [
    {
     "name": "stderr",
     "output_type": "stream",
     "text": [
      "C:\\Users\\perso\\Anaconda3\\envs\\learn-env\\lib\\site-packages\\scipy\\stats\\stats.py:1713: FutureWarning: Using a non-tuple sequence for multidimensional indexing is deprecated; use `arr[tuple(seq)]` instead of `arr[seq]`. In the future this will be interpreted as an array index, `arr[np.array(seq)]`, which will result either in an error or a different result.\n",
      "  return np.add.reduce(sorted[indexer] * weights, axis=axis) / sumval\n"
     ]
    },
    {
     "data": {
      "image/png": "[encoded data removed]",
      "text/plain": [
       "<Figure size 360x360 with 1 Axes>"
      ]
     },
     "metadata": {},
     "output_type": "display_data"
    }
   ],
   "source": [
    "sns.catplot(x=\"Discount\", y=\"Quantity\", kind=\"bar\", data=experiment);"
   ]
  },
  {
   "cell_type": "markdown",
   "metadata": {},
   "source": [
    "From the visual, the 5%, 15% and 25% discount levels are the highest, but very close...further analysis is needed to gather a more accurate solution. We will import the packages needed to tun an ANOVA test on each discount level and its effect on quantity."
   ]
  },
  {
   "cell_type": "code",
   "execution_count": 27,
   "metadata": {},
   "outputs": [],
   "source": [
    "import statsmodels.api as sm\n",
    "from statsmodels.formula.api import ols"
   ]
  },
  {
   "cell_type": "markdown",
   "metadata": {},
   "source": [
    "Now we will bin each discount so that we can run the ANOVA test at each discount level."
   ]
  },
  {
   "cell_type": "code",
   "execution_count": 28,
   "metadata": {},
   "outputs": [
    {
     "name": "stderr",
     "output_type": "stream",
     "text": [
      "C:\\Users\\perso\\Anaconda3\\envs\\learn-env\\lib\\site-packages\\pandas\\core\\generic.py:4405: SettingWithCopyWarning: \n",
      "A value is trying to be set on a copy of a slice from a DataFrame.\n",
      "Try using .loc[row_indexer,col_indexer] = value instead\n",
      "\n",
      "See the caveats in the documentation: http://pandas.pydata.org/pandas-docs/stable/indexing.html#indexing-view-versus-copy\n",
      "  self[name] = value\n"
     ]
    }
   ],
   "source": [
    "experiment.Discount = experiment.Discount.astype('category', inplace = True)"
   ]
  },
  {
   "cell_type": "code",
   "execution_count": 29,
   "metadata": {},
   "outputs": [],
   "source": [
    "ANOVA = pd.get_dummies(experiment)"
   ]
  },
  {
   "cell_type": "code",
   "execution_count": 30,
   "metadata": {},
   "outputs": [
    {
     "data": {
      "text/html": [
       "<div>\n",
       "<style scoped>\n",
       "    .dataframe tbody tr th:only-of-type {\n",
       "        vertical-align: middle;\n",
       "    }\n",
       "\n",
       "    .dataframe tbody tr th {\n",
       "        vertical-align: top;\n",
       "    }\n",
       "\n",
       "    .dataframe thead th {\n",
       "        text-align: right;\n",
       "    }\n",
       "</style>\n",
       "<table border=\"1\" class=\"dataframe\">\n",
       "  <thead>\n",
       "    <tr style=\"text-align: right;\">\n",
       "      <th></th>\n",
       "      <th>Quantity</th>\n",
       "      <th>Discount_0.05</th>\n",
       "      <th>Discount_0.1</th>\n",
       "      <th>Discount_0.15</th>\n",
       "      <th>Discount_0.2</th>\n",
       "      <th>Discount_0.25</th>\n",
       "    </tr>\n",
       "  </thead>\n",
       "  <tbody>\n",
       "    <tr>\n",
       "      <th>6</th>\n",
       "      <td>35</td>\n",
       "      <td>0</td>\n",
       "      <td>0</td>\n",
       "      <td>1</td>\n",
       "      <td>0</td>\n",
       "      <td>0</td>\n",
       "    </tr>\n",
       "    <tr>\n",
       "      <th>7</th>\n",
       "      <td>15</td>\n",
       "      <td>0</td>\n",
       "      <td>0</td>\n",
       "      <td>1</td>\n",
       "      <td>0</td>\n",
       "      <td>0</td>\n",
       "    </tr>\n",
       "    <tr>\n",
       "      <th>8</th>\n",
       "      <td>6</td>\n",
       "      <td>1</td>\n",
       "      <td>0</td>\n",
       "      <td>0</td>\n",
       "      <td>0</td>\n",
       "      <td>0</td>\n",
       "    </tr>\n",
       "    <tr>\n",
       "      <th>9</th>\n",
       "      <td>15</td>\n",
       "      <td>1</td>\n",
       "      <td>0</td>\n",
       "      <td>0</td>\n",
       "      <td>0</td>\n",
       "      <td>0</td>\n",
       "    </tr>\n",
       "    <tr>\n",
       "      <th>11</th>\n",
       "      <td>40</td>\n",
       "      <td>1</td>\n",
       "      <td>0</td>\n",
       "      <td>0</td>\n",
       "      <td>0</td>\n",
       "      <td>0</td>\n",
       "    </tr>\n",
       "  </tbody>\n",
       "</table>\n",
       "</div>"
      ],
      "text/plain": [
       "    Quantity  Discount_0.05  Discount_0.1  Discount_0.15  Discount_0.2  \\\n",
       "6         35              0             0              1             0   \n",
       "7         15              0             0              1             0   \n",
       "8          6              1             0              0             0   \n",
       "9         15              1             0              0             0   \n",
       "11        40              1             0              0             0   \n",
       "\n",
       "    Discount_0.25  \n",
       "6               0  \n",
       "7               0  \n",
       "8               0  \n",
       "9               0  \n",
       "11              0  "
      ]
     },
     "execution_count": 30,
     "metadata": {},
     "output_type": "execute_result"
    }
   ],
   "source": [
    "ANOVA.head()"
   ]
  },
  {
   "cell_type": "markdown",
   "metadata": {},
   "source": [
    "Models cannot read columns with '.' in them. We will rename the columns so that we can run the function."
   ]
  },
  {
   "cell_type": "code",
   "execution_count": 31,
   "metadata": {},
   "outputs": [],
   "source": [
    "ANOVA = ANOVA.rename(columns={'Discount_0.05': 'D05', 'Discount_0.1': 'D1', 'Discount_0.15': 'D15', 'Discount_0.2': 'D2', 'Discount_0.25': 'D25'})"
   ]
  },
  {
   "cell_type": "code",
   "execution_count": 32,
   "metadata": {},
   "outputs": [
    {
     "data": {
      "text/html": [
       "<div>\n",
       "<style scoped>\n",
       "    .dataframe tbody tr th:only-of-type {\n",
       "        vertical-align: middle;\n",
       "    }\n",
       "\n",
       "    .dataframe tbody tr th {\n",
       "        vertical-align: top;\n",
       "    }\n",
       "\n",
       "    .dataframe thead th {\n",
       "        text-align: right;\n",
       "    }\n",
       "</style>\n",
       "<table border=\"1\" class=\"dataframe\">\n",
       "  <thead>\n",
       "    <tr style=\"text-align: right;\">\n",
       "      <th></th>\n",
       "      <th>Quantity</th>\n",
       "      <th>D05</th>\n",
       "      <th>D1</th>\n",
       "      <th>D15</th>\n",
       "      <th>D2</th>\n",
       "      <th>D25</th>\n",
       "    </tr>\n",
       "  </thead>\n",
       "  <tbody>\n",
       "    <tr>\n",
       "      <th>6</th>\n",
       "      <td>35</td>\n",
       "      <td>0</td>\n",
       "      <td>0</td>\n",
       "      <td>1</td>\n",
       "      <td>0</td>\n",
       "      <td>0</td>\n",
       "    </tr>\n",
       "    <tr>\n",
       "      <th>7</th>\n",
       "      <td>15</td>\n",
       "      <td>0</td>\n",
       "      <td>0</td>\n",
       "      <td>1</td>\n",
       "      <td>0</td>\n",
       "      <td>0</td>\n",
       "    </tr>\n",
       "    <tr>\n",
       "      <th>8</th>\n",
       "      <td>6</td>\n",
       "      <td>1</td>\n",
       "      <td>0</td>\n",
       "      <td>0</td>\n",
       "      <td>0</td>\n",
       "      <td>0</td>\n",
       "    </tr>\n",
       "    <tr>\n",
       "      <th>9</th>\n",
       "      <td>15</td>\n",
       "      <td>1</td>\n",
       "      <td>0</td>\n",
       "      <td>0</td>\n",
       "      <td>0</td>\n",
       "      <td>0</td>\n",
       "    </tr>\n",
       "    <tr>\n",
       "      <th>11</th>\n",
       "      <td>40</td>\n",
       "      <td>1</td>\n",
       "      <td>0</td>\n",
       "      <td>0</td>\n",
       "      <td>0</td>\n",
       "      <td>0</td>\n",
       "    </tr>\n",
       "  </tbody>\n",
       "</table>\n",
       "</div>"
      ],
      "text/plain": [
       "    Quantity  D05  D1  D15  D2  D25\n",
       "6         35    0   0    1   0    0\n",
       "7         15    0   0    1   0    0\n",
       "8          6    1   0    0   0    0\n",
       "9         15    1   0    0   0    0\n",
       "11        40    1   0    0   0    0"
      ]
     },
     "execution_count": 32,
     "metadata": {},
     "output_type": "execute_result"
    }
   ],
   "source": [
    "ANOVA.head()"
   ]
  },
  {
   "cell_type": "code",
   "execution_count": 33,
   "metadata": {},
   "outputs": [
    {
     "name": "stdout",
     "output_type": "stream",
     "text": [
      "                 sum_sq     df          F    PR(>F)\n",
      "D05         6072.618611    1.0  14.121639  0.000183\n",
      "D1          1248.788690    1.0   2.904010  0.088736\n",
      "D15         6090.999131    1.0  14.164382  0.000179\n",
      "D2          3556.407829    1.0   8.270288  0.004134\n",
      "D25         5691.836049    1.0  13.236144  0.000292\n",
      "Residual  354768.342690  825.0        NaN       NaN\n"
     ]
    }
   ],
   "source": [
    "#running ANOVA test\n",
    "\n",
    "formula = 'Quantity ~ D05 + D1 + D15 + D2 + D25'\n",
    "lm = ols(formula, ANOVA).fit()\n",
    "table = sm.stats.anova_lm(lm, typ=2)\n",
    "print(table)"
   ]
  },
  {
   "cell_type": "markdown",
   "metadata": {},
   "source": [
    "As you can see, the 15%, 5% and 25% discount levels impacted the quantity the most. This verifies the visual above. Also may be good to know as an additional insight that the 10% discount is not a significant discount. "
   ]
  },
  {
   "cell_type": "code",
   "execution_count": null,
   "metadata": {},
   "outputs": [],
   "source": []
  },
  {
   "cell_type": "code",
   "execution_count": null,
   "metadata": {},
   "outputs": [],
   "source": []
  },
  {
   "cell_type": "markdown",
   "metadata": {},
   "source": [
    "## Question 2: Did any discontinued products have a significant effect on product orders to justify replacement?"
   ]
  },
  {
   "cell_type": "markdown",
   "metadata": {},
   "source": [
    "### Ho = There are no discontinued products significant to replace.\n",
    "\n",
    "### Ha = There are one or more discontinued products that are significant enough to justify replacement."
   ]
  },
  {
   "cell_type": "markdown",
   "metadata": {},
   "source": [
    "While the same t-test and ANOVA test will be used, we will need to take an additional step with the data as it needs merged."
   ]
  },
  {
   "cell_type": "code",
   "execution_count": 34,
   "metadata": {},
   "outputs": [
    {
     "data": {
      "text/html": [
       "<div>\n",
       "<style scoped>\n",
       "    .dataframe tbody tr th:only-of-type {\n",
       "        vertical-align: middle;\n",
       "    }\n",
       "\n",
       "    .dataframe tbody tr th {\n",
       "        vertical-align: top;\n",
       "    }\n",
       "\n",
       "    .dataframe thead th {\n",
       "        text-align: right;\n",
       "    }\n",
       "</style>\n",
       "<table border=\"1\" class=\"dataframe\">\n",
       "  <thead>\n",
       "    <tr style=\"text-align: right;\">\n",
       "      <th></th>\n",
       "      <th>Id</th>\n",
       "      <th>ProductName</th>\n",
       "      <th>SupplierId</th>\n",
       "      <th>CategoryId</th>\n",
       "      <th>QuantityPerUnit</th>\n",
       "      <th>UnitPrice</th>\n",
       "      <th>UnitsInStock</th>\n",
       "      <th>UnitsOnOrder</th>\n",
       "      <th>ReorderLevel</th>\n",
       "      <th>Discontinued</th>\n",
       "    </tr>\n",
       "  </thead>\n",
       "  <tbody>\n",
       "    <tr>\n",
       "      <th>0</th>\n",
       "      <td>1</td>\n",
       "      <td>Chai</td>\n",
       "      <td>1</td>\n",
       "      <td>1</td>\n",
       "      <td>10 boxes x 20 bags</td>\n",
       "      <td>18.00</td>\n",
       "      <td>39</td>\n",
       "      <td>0</td>\n",
       "      <td>10</td>\n",
       "      <td>0</td>\n",
       "    </tr>\n",
       "    <tr>\n",
       "      <th>1</th>\n",
       "      <td>2</td>\n",
       "      <td>Chang</td>\n",
       "      <td>1</td>\n",
       "      <td>1</td>\n",
       "      <td>24 - 12 oz bottles</td>\n",
       "      <td>19.00</td>\n",
       "      <td>17</td>\n",
       "      <td>40</td>\n",
       "      <td>25</td>\n",
       "      <td>0</td>\n",
       "    </tr>\n",
       "    <tr>\n",
       "      <th>2</th>\n",
       "      <td>3</td>\n",
       "      <td>Aniseed Syrup</td>\n",
       "      <td>1</td>\n",
       "      <td>2</td>\n",
       "      <td>12 - 550 ml bottles</td>\n",
       "      <td>10.00</td>\n",
       "      <td>13</td>\n",
       "      <td>70</td>\n",
       "      <td>25</td>\n",
       "      <td>0</td>\n",
       "    </tr>\n",
       "    <tr>\n",
       "      <th>3</th>\n",
       "      <td>4</td>\n",
       "      <td>Chef Anton's Cajun Seasoning</td>\n",
       "      <td>2</td>\n",
       "      <td>2</td>\n",
       "      <td>48 - 6 oz jars</td>\n",
       "      <td>22.00</td>\n",
       "      <td>53</td>\n",
       "      <td>0</td>\n",
       "      <td>0</td>\n",
       "      <td>0</td>\n",
       "    </tr>\n",
       "    <tr>\n",
       "      <th>4</th>\n",
       "      <td>5</td>\n",
       "      <td>Chef Anton's Gumbo Mix</td>\n",
       "      <td>2</td>\n",
       "      <td>2</td>\n",
       "      <td>36 boxes</td>\n",
       "      <td>21.35</td>\n",
       "      <td>0</td>\n",
       "      <td>0</td>\n",
       "      <td>0</td>\n",
       "      <td>1</td>\n",
       "    </tr>\n",
       "  </tbody>\n",
       "</table>\n",
       "</div>"
      ],
      "text/plain": [
       "   Id                   ProductName  SupplierId  CategoryId  \\\n",
       "0   1                          Chai           1           1   \n",
       "1   2                         Chang           1           1   \n",
       "2   3                 Aniseed Syrup           1           2   \n",
       "3   4  Chef Anton's Cajun Seasoning           2           2   \n",
       "4   5        Chef Anton's Gumbo Mix           2           2   \n",
       "\n",
       "       QuantityPerUnit  UnitPrice  UnitsInStock  UnitsOnOrder  ReorderLevel  \\\n",
       "0   10 boxes x 20 bags      18.00            39             0            10   \n",
       "1   24 - 12 oz bottles      19.00            17            40            25   \n",
       "2  12 - 550 ml bottles      10.00            13            70            25   \n",
       "3       48 - 6 oz jars      22.00            53             0             0   \n",
       "4             36 boxes      21.35             0             0             0   \n",
       "\n",
       "   Discontinued  \n",
       "0             0  \n",
       "1             0  \n",
       "2             0  \n",
       "3             0  \n",
       "4             1  "
      ]
     },
     "execution_count": 34,
     "metadata": {},
     "output_type": "execute_result"
    }
   ],
   "source": [
    "product_df.head()"
   ]
  },
  {
   "cell_type": "code",
   "execution_count": 35,
   "metadata": {},
   "outputs": [
    {
     "data": {
      "text/html": [
       "<div>\n",
       "<style scoped>\n",
       "    .dataframe tbody tr th:only-of-type {\n",
       "        vertical-align: middle;\n",
       "    }\n",
       "\n",
       "    .dataframe tbody tr th {\n",
       "        vertical-align: top;\n",
       "    }\n",
       "\n",
       "    .dataframe thead th {\n",
       "        text-align: right;\n",
       "    }\n",
       "</style>\n",
       "<table border=\"1\" class=\"dataframe\">\n",
       "  <thead>\n",
       "    <tr style=\"text-align: right;\">\n",
       "      <th></th>\n",
       "      <th>Id</th>\n",
       "      <th>OrderId</th>\n",
       "      <th>ProductId</th>\n",
       "      <th>UnitPrice</th>\n",
       "      <th>Quantity</th>\n",
       "      <th>Discount</th>\n",
       "    </tr>\n",
       "  </thead>\n",
       "  <tbody>\n",
       "    <tr>\n",
       "      <th>0</th>\n",
       "      <td>10248/11</td>\n",
       "      <td>10248</td>\n",
       "      <td>11</td>\n",
       "      <td>14.0</td>\n",
       "      <td>12</td>\n",
       "      <td>0.0</td>\n",
       "    </tr>\n",
       "    <tr>\n",
       "      <th>1</th>\n",
       "      <td>10248/42</td>\n",
       "      <td>10248</td>\n",
       "      <td>42</td>\n",
       "      <td>9.8</td>\n",
       "      <td>10</td>\n",
       "      <td>0.0</td>\n",
       "    </tr>\n",
       "    <tr>\n",
       "      <th>2</th>\n",
       "      <td>10248/72</td>\n",
       "      <td>10248</td>\n",
       "      <td>72</td>\n",
       "      <td>34.8</td>\n",
       "      <td>5</td>\n",
       "      <td>0.0</td>\n",
       "    </tr>\n",
       "    <tr>\n",
       "      <th>3</th>\n",
       "      <td>10249/14</td>\n",
       "      <td>10249</td>\n",
       "      <td>14</td>\n",
       "      <td>18.6</td>\n",
       "      <td>9</td>\n",
       "      <td>0.0</td>\n",
       "    </tr>\n",
       "    <tr>\n",
       "      <th>4</th>\n",
       "      <td>10249/51</td>\n",
       "      <td>10249</td>\n",
       "      <td>51</td>\n",
       "      <td>42.4</td>\n",
       "      <td>40</td>\n",
       "      <td>0.0</td>\n",
       "    </tr>\n",
       "  </tbody>\n",
       "</table>\n",
       "</div>"
      ],
      "text/plain": [
       "         Id  OrderId  ProductId  UnitPrice  Quantity  Discount\n",
       "0  10248/11    10248         11       14.0        12       0.0\n",
       "1  10248/42    10248         42        9.8        10       0.0\n",
       "2  10248/72    10248         72       34.8         5       0.0\n",
       "3  10249/14    10249         14       18.6         9       0.0\n",
       "4  10249/51    10249         51       42.4        40       0.0"
      ]
     },
     "execution_count": 35,
     "metadata": {},
     "output_type": "execute_result"
    }
   ],
   "source": [
    "orderdetail_df.head()"
   ]
  },
  {
   "cell_type": "code",
   "execution_count": 36,
   "metadata": {},
   "outputs": [],
   "source": [
    "product_df = product_df.rename(columns={'Id': 'ProductId'})"
   ]
  },
  {
   "cell_type": "code",
   "execution_count": 37,
   "metadata": {},
   "outputs": [],
   "source": [
    "hyp2 = orderdetail_df.merge(product_df, on = 'ProductId')"
   ]
  },
  {
   "cell_type": "code",
   "execution_count": 38,
   "metadata": {
    "scrolled": true
   },
   "outputs": [
    {
     "data": {
      "text/html": [
       "<div>\n",
       "<style scoped>\n",
       "    .dataframe tbody tr th:only-of-type {\n",
       "        vertical-align: middle;\n",
       "    }\n",
       "\n",
       "    .dataframe tbody tr th {\n",
       "        vertical-align: top;\n",
       "    }\n",
       "\n",
       "    .dataframe thead th {\n",
       "        text-align: right;\n",
       "    }\n",
       "</style>\n",
       "<table border=\"1\" class=\"dataframe\">\n",
       "  <thead>\n",
       "    <tr style=\"text-align: right;\">\n",
       "      <th></th>\n",
       "      <th>Id</th>\n",
       "      <th>OrderId</th>\n",
       "      <th>ProductId</th>\n",
       "      <th>UnitPrice_x</th>\n",
       "      <th>Quantity</th>\n",
       "      <th>Discount</th>\n",
       "      <th>ProductName</th>\n",
       "      <th>SupplierId</th>\n",
       "      <th>CategoryId</th>\n",
       "      <th>QuantityPerUnit</th>\n",
       "      <th>UnitPrice_y</th>\n",
       "      <th>UnitsInStock</th>\n",
       "      <th>UnitsOnOrder</th>\n",
       "      <th>ReorderLevel</th>\n",
       "      <th>Discontinued</th>\n",
       "    </tr>\n",
       "  </thead>\n",
       "  <tbody>\n",
       "    <tr>\n",
       "      <th>0</th>\n",
       "      <td>10248/11</td>\n",
       "      <td>10248</td>\n",
       "      <td>11</td>\n",
       "      <td>14.0</td>\n",
       "      <td>12</td>\n",
       "      <td>0.0</td>\n",
       "      <td>Queso Cabrales</td>\n",
       "      <td>5</td>\n",
       "      <td>4</td>\n",
       "      <td>1 kg pkg.</td>\n",
       "      <td>21.0</td>\n",
       "      <td>22</td>\n",
       "      <td>30</td>\n",
       "      <td>30</td>\n",
       "      <td>0</td>\n",
       "    </tr>\n",
       "    <tr>\n",
       "      <th>1</th>\n",
       "      <td>10296/11</td>\n",
       "      <td>10296</td>\n",
       "      <td>11</td>\n",
       "      <td>16.8</td>\n",
       "      <td>12</td>\n",
       "      <td>0.0</td>\n",
       "      <td>Queso Cabrales</td>\n",
       "      <td>5</td>\n",
       "      <td>4</td>\n",
       "      <td>1 kg pkg.</td>\n",
       "      <td>21.0</td>\n",
       "      <td>22</td>\n",
       "      <td>30</td>\n",
       "      <td>30</td>\n",
       "      <td>0</td>\n",
       "    </tr>\n",
       "    <tr>\n",
       "      <th>2</th>\n",
       "      <td>10327/11</td>\n",
       "      <td>10327</td>\n",
       "      <td>11</td>\n",
       "      <td>16.8</td>\n",
       "      <td>50</td>\n",
       "      <td>0.2</td>\n",
       "      <td>Queso Cabrales</td>\n",
       "      <td>5</td>\n",
       "      <td>4</td>\n",
       "      <td>1 kg pkg.</td>\n",
       "      <td>21.0</td>\n",
       "      <td>22</td>\n",
       "      <td>30</td>\n",
       "      <td>30</td>\n",
       "      <td>0</td>\n",
       "    </tr>\n",
       "    <tr>\n",
       "      <th>3</th>\n",
       "      <td>10353/11</td>\n",
       "      <td>10353</td>\n",
       "      <td>11</td>\n",
       "      <td>16.8</td>\n",
       "      <td>12</td>\n",
       "      <td>0.2</td>\n",
       "      <td>Queso Cabrales</td>\n",
       "      <td>5</td>\n",
       "      <td>4</td>\n",
       "      <td>1 kg pkg.</td>\n",
       "      <td>21.0</td>\n",
       "      <td>22</td>\n",
       "      <td>30</td>\n",
       "      <td>30</td>\n",
       "      <td>0</td>\n",
       "    </tr>\n",
       "    <tr>\n",
       "      <th>4</th>\n",
       "      <td>10365/11</td>\n",
       "      <td>10365</td>\n",
       "      <td>11</td>\n",
       "      <td>16.8</td>\n",
       "      <td>24</td>\n",
       "      <td>0.0</td>\n",
       "      <td>Queso Cabrales</td>\n",
       "      <td>5</td>\n",
       "      <td>4</td>\n",
       "      <td>1 kg pkg.</td>\n",
       "      <td>21.0</td>\n",
       "      <td>22</td>\n",
       "      <td>30</td>\n",
       "      <td>30</td>\n",
       "      <td>0</td>\n",
       "    </tr>\n",
       "  </tbody>\n",
       "</table>\n",
       "</div>"
      ],
      "text/plain": [
       "         Id  OrderId  ProductId  UnitPrice_x  Quantity  Discount  \\\n",
       "0  10248/11    10248         11         14.0        12       0.0   \n",
       "1  10296/11    10296         11         16.8        12       0.0   \n",
       "2  10327/11    10327         11         16.8        50       0.2   \n",
       "3  10353/11    10353         11         16.8        12       0.2   \n",
       "4  10365/11    10365         11         16.8        24       0.0   \n",
       "\n",
       "      ProductName  SupplierId  CategoryId QuantityPerUnit  UnitPrice_y  \\\n",
       "0  Queso Cabrales           5           4       1 kg pkg.         21.0   \n",
       "1  Queso Cabrales           5           4       1 kg pkg.         21.0   \n",
       "2  Queso Cabrales           5           4       1 kg pkg.         21.0   \n",
       "3  Queso Cabrales           5           4       1 kg pkg.         21.0   \n",
       "4  Queso Cabrales           5           4       1 kg pkg.         21.0   \n",
       "\n",
       "   UnitsInStock  UnitsOnOrder  ReorderLevel  Discontinued  \n",
       "0            22            30            30             0  \n",
       "1            22            30            30             0  \n",
       "2            22            30            30             0  \n",
       "3            22            30            30             0  \n",
       "4            22            30            30             0  "
      ]
     },
     "execution_count": 38,
     "metadata": {},
     "output_type": "execute_result"
    }
   ],
   "source": [
    "hyp2.head()"
   ]
  },
  {
   "cell_type": "code",
   "execution_count": 39,
   "metadata": {},
   "outputs": [
    {
     "name": "stdout",
     "output_type": "stream",
     "text": [
      "<class 'pandas.core.frame.DataFrame'>\n",
      "Int64Index: 2155 entries, 0 to 2154\n",
      "Data columns (total 15 columns):\n",
      "Id                 2155 non-null object\n",
      "OrderId            2155 non-null int64\n",
      "ProductId          2155 non-null int64\n",
      "UnitPrice_x        2155 non-null float64\n",
      "Quantity           2155 non-null int64\n",
      "Discount           2155 non-null float64\n",
      "ProductName        2155 non-null object\n",
      "SupplierId         2155 non-null int64\n",
      "CategoryId         2155 non-null int64\n",
      "QuantityPerUnit    2155 non-null object\n",
      "UnitPrice_y        2155 non-null float64\n",
      "UnitsInStock       2155 non-null int64\n",
      "UnitsOnOrder       2155 non-null int64\n",
      "ReorderLevel       2155 non-null int64\n",
      "Discontinued       2155 non-null int64\n",
      "dtypes: float64(3), int64(9), object(3)\n",
      "memory usage: 269.4+ KB\n"
     ]
    }
   ],
   "source": [
    "hyp2.info()"
   ]
  },
  {
   "cell_type": "markdown",
   "metadata": {},
   "source": [
    "Now that we have a good working dataframe, now we can repeat the t-test and ANOVA."
   ]
  },
  {
   "cell_type": "code",
   "execution_count": 40,
   "metadata": {},
   "outputs": [],
   "source": [
    "hyp2 = hyp2[['Quantity','Discontinued', 'ProductId']]"
   ]
  },
  {
   "cell_type": "code",
   "execution_count": 41,
   "metadata": {},
   "outputs": [],
   "source": [
    "hyp2 = hyp2.copy()"
   ]
  },
  {
   "cell_type": "code",
   "execution_count": 42,
   "metadata": {},
   "outputs": [],
   "source": [
    "control = hyp2[hyp2.Discontinued == 0]"
   ]
  },
  {
   "cell_type": "code",
   "execution_count": 43,
   "metadata": {},
   "outputs": [],
   "source": [
    "experiment = hyp2[hyp2.Discontinued == 1]"
   ]
  },
  {
   "cell_type": "code",
   "execution_count": 44,
   "metadata": {},
   "outputs": [
    {
     "data": {
      "text/html": [
       "<div>\n",
       "<style scoped>\n",
       "    .dataframe tbody tr th:only-of-type {\n",
       "        vertical-align: middle;\n",
       "    }\n",
       "\n",
       "    .dataframe tbody tr th {\n",
       "        vertical-align: top;\n",
       "    }\n",
       "\n",
       "    .dataframe thead th {\n",
       "        text-align: right;\n",
       "    }\n",
       "</style>\n",
       "<table border=\"1\" class=\"dataframe\">\n",
       "  <thead>\n",
       "    <tr style=\"text-align: right;\">\n",
       "      <th></th>\n",
       "      <th>Quantity</th>\n",
       "      <th>Discontinued</th>\n",
       "      <th>ProductId</th>\n",
       "    </tr>\n",
       "  </thead>\n",
       "  <tbody>\n",
       "    <tr>\n",
       "      <th>0</th>\n",
       "      <td>12</td>\n",
       "      <td>0</td>\n",
       "      <td>11</td>\n",
       "    </tr>\n",
       "    <tr>\n",
       "      <th>1</th>\n",
       "      <td>12</td>\n",
       "      <td>0</td>\n",
       "      <td>11</td>\n",
       "    </tr>\n",
       "    <tr>\n",
       "      <th>2</th>\n",
       "      <td>50</td>\n",
       "      <td>0</td>\n",
       "      <td>11</td>\n",
       "    </tr>\n",
       "    <tr>\n",
       "      <th>3</th>\n",
       "      <td>12</td>\n",
       "      <td>0</td>\n",
       "      <td>11</td>\n",
       "    </tr>\n",
       "    <tr>\n",
       "      <th>4</th>\n",
       "      <td>24</td>\n",
       "      <td>0</td>\n",
       "      <td>11</td>\n",
       "    </tr>\n",
       "  </tbody>\n",
       "</table>\n",
       "</div>"
      ],
      "text/plain": [
       "   Quantity  Discontinued  ProductId\n",
       "0        12             0         11\n",
       "1        12             0         11\n",
       "2        50             0         11\n",
       "3        12             0         11\n",
       "4        24             0         11"
      ]
     },
     "execution_count": 44,
     "metadata": {},
     "output_type": "execute_result"
    }
   ],
   "source": [
    "control.head()"
   ]
  },
  {
   "cell_type": "code",
   "execution_count": 45,
   "metadata": {},
   "outputs": [
    {
     "data": {
      "text/html": [
       "<div>\n",
       "<style scoped>\n",
       "    .dataframe tbody tr th:only-of-type {\n",
       "        vertical-align: middle;\n",
       "    }\n",
       "\n",
       "    .dataframe tbody tr th {\n",
       "        vertical-align: top;\n",
       "    }\n",
       "\n",
       "    .dataframe thead th {\n",
       "        text-align: right;\n",
       "    }\n",
       "</style>\n",
       "<table border=\"1\" class=\"dataframe\">\n",
       "  <thead>\n",
       "    <tr style=\"text-align: right;\">\n",
       "      <th></th>\n",
       "      <th>Quantity</th>\n",
       "      <th>Discontinued</th>\n",
       "      <th>ProductId</th>\n",
       "    </tr>\n",
       "  </thead>\n",
       "  <tbody>\n",
       "    <tr>\n",
       "      <th>38</th>\n",
       "      <td>10</td>\n",
       "      <td>1</td>\n",
       "      <td>42</td>\n",
       "    </tr>\n",
       "    <tr>\n",
       "      <th>39</th>\n",
       "      <td>2</td>\n",
       "      <td>1</td>\n",
       "      <td>42</td>\n",
       "    </tr>\n",
       "    <tr>\n",
       "      <th>40</th>\n",
       "      <td>6</td>\n",
       "      <td>1</td>\n",
       "      <td>42</td>\n",
       "    </tr>\n",
       "    <tr>\n",
       "      <th>41</th>\n",
       "      <td>10</td>\n",
       "      <td>1</td>\n",
       "      <td>42</td>\n",
       "    </tr>\n",
       "    <tr>\n",
       "      <th>42</th>\n",
       "      <td>9</td>\n",
       "      <td>1</td>\n",
       "      <td>42</td>\n",
       "    </tr>\n",
       "  </tbody>\n",
       "</table>\n",
       "</div>"
      ],
      "text/plain": [
       "    Quantity  Discontinued  ProductId\n",
       "38        10             1         42\n",
       "39         2             1         42\n",
       "40         6             1         42\n",
       "41        10             1         42\n",
       "42         9             1         42"
      ]
     },
     "execution_count": 45,
     "metadata": {},
     "output_type": "execute_result"
    }
   ],
   "source": [
    "experiment.head()"
   ]
  },
  {
   "cell_type": "code",
   "execution_count": 46,
   "metadata": {},
   "outputs": [
    {
     "name": "stderr",
     "output_type": "stream",
     "text": [
      "C:\\Users\\perso\\Anaconda3\\envs\\learn-env\\lib\\site-packages\\scipy\\stats\\morestats.py:1309: UserWarning: p-value may not be accurate for N > 5000.\n",
      "  warnings.warn(\"p-value may not be accurate for N > 5000.\")\n"
     ]
    },
    {
     "data": {
      "text/plain": [
       "(0.844451367855072, 0.0)"
      ]
     },
     "execution_count": 46,
     "metadata": {},
     "output_type": "execute_result"
    }
   ],
   "source": [
    "stats.shapiro(control)"
   ]
  },
  {
   "cell_type": "code",
   "execution_count": 47,
   "metadata": {},
   "outputs": [
    {
     "data": {
      "text/plain": [
       "(0.8402049541473389, 1.2205260855960152e-25)"
      ]
     },
     "execution_count": 47,
     "metadata": {},
     "output_type": "execute_result"
    }
   ],
   "source": [
    "stats.shapiro(experiment)"
   ]
  },
  {
   "cell_type": "code",
   "execution_count": 48,
   "metadata": {},
   "outputs": [
    {
     "data": {
      "text/plain": [
       "0.0"
      ]
     },
     "execution_count": 48,
     "metadata": {},
     "output_type": "execute_result"
    }
   ],
   "source": [
    "control.Discontinued.var()"
   ]
  },
  {
   "cell_type": "code",
   "execution_count": 49,
   "metadata": {},
   "outputs": [
    {
     "data": {
      "text/plain": [
       "0.0"
      ]
     },
     "execution_count": 49,
     "metadata": {},
     "output_type": "execute_result"
    }
   ],
   "source": [
    "experiment.Discontinued.var()"
   ]
  },
  {
   "cell_type": "code",
   "execution_count": 50,
   "metadata": {},
   "outputs": [
    {
     "data": {
      "text/plain": [
       "-0.5964203216789451"
      ]
     },
     "execution_count": 50,
     "metadata": {},
     "output_type": "execute_result"
    }
   ],
   "source": [
    "def cohend(d1, d2):\n",
    "\t# calculate the size of samples\n",
    "\tn1, n2 = len(d1), len(d2)\n",
    "\t# calculate the variance of the samples\n",
    "\ts1, s2 = d1.var(ddof=1), d2.var(ddof=1)\n",
    "\t# calculate the pooled standard deviation\n",
    "\ts = np.sqrt(((n1 - 1) * s1 + (n2 - 1) * s2) / (n1 + n2 - 2))\n",
    "\t# calculate the means of the samples\n",
    "\tu1, u2 = np.mean(d1), np.mean(d2)\n",
    "\t# calculate the effect size\n",
    "\treturn (u1 - u2) / s\n",
    "\n",
    "cohend(experiment.ProductId, control.ProductId)"
   ]
  },
  {
   "cell_type": "code",
   "execution_count": null,
   "metadata": {},
   "outputs": [],
   "source": []
  },
  {
   "cell_type": "code",
   "execution_count": 51,
   "metadata": {},
   "outputs": [
    {
     "name": "stderr",
     "output_type": "stream",
     "text": [
      "C:\\Users\\perso\\Anaconda3\\envs\\learn-env\\lib\\site-packages\\scipy\\stats\\stats.py:1713: FutureWarning: Using a non-tuple sequence for multidimensional indexing is deprecated; use `arr[tuple(seq)]` instead of `arr[seq]`. In the future this will be interpreted as an array index, `arr[np.array(seq)]`, which will result either in an error or a different result.\n",
      "  return np.add.reduce(sorted[indexer] * weights, axis=axis) / sumval\n"
     ]
    },
    {
     "data": {
      "text/plain": [
       "<matplotlib.axes._subplots.AxesSubplot at 0x1ef5e0a7e80>"
      ]
     },
     "execution_count": 51,
     "metadata": {},
     "output_type": "execute_result"
    },
    {
     "data": {
      "image/png": "[encoded data removed]",
      "text/plain": [
       "<Figure size 864x720 with 1 Axes>"
      ]
     },
     "metadata": {},
     "output_type": "display_data"
    }
   ],
   "source": [
    "sns.set(color_codes=True)\n",
    "sns.set(rc={'figure.figsize':(12,10)})\n",
    "sns.distplot(control.Quantity) # Blue distribution\n",
    "sns.distplot(experiment.Quantity) # Orange distribution"
   ]
  },
  {
   "cell_type": "markdown",
   "metadata": {},
   "source": [
    "Looking at the visual, there isn't any noticable difference between the means and standard deviation of the two datasets. We will run the t-test to see the results."
   ]
  },
  {
   "cell_type": "code",
   "execution_count": 52,
   "metadata": {},
   "outputs": [
    {
     "data": {
      "text/plain": [
       "-0.6296056045666845"
      ]
     },
     "execution_count": 52,
     "metadata": {},
     "output_type": "execute_result"
    }
   ],
   "source": [
    "control.Quantity.mean()\n",
    "experiment.Quantity.mean()\n",
    "experiment.Quantity.mean() - control.Quantity.mean()"
   ]
  },
  {
   "cell_type": "code",
   "execution_count": 53,
   "metadata": {},
   "outputs": [
    {
     "data": {
      "text/plain": [
       "Ttest_indResult(statistic=-0.4725172438572718, pvalue=0.6366055284598231)"
      ]
     },
     "execution_count": 53,
     "metadata": {},
     "output_type": "execute_result"
    }
   ],
   "source": [
    "stats.ttest_ind(experiment.Quantity, control.Quantity)"
   ]
  },
  {
   "cell_type": "markdown",
   "metadata": {},
   "source": [
    "The p-value is in a range as to accept the null hypothesis that no discontinued products that are significant enough to replace. Let's further explore to ensure that individually, each discontinued product is not significant by performing an ANOVA. "
   ]
  },
  {
   "cell_type": "code",
   "execution_count": 54,
   "metadata": {},
   "outputs": [
    {
     "name": "stderr",
     "output_type": "stream",
     "text": [
      "C:\\Users\\perso\\Anaconda3\\envs\\learn-env\\lib\\site-packages\\pandas\\core\\generic.py:4405: SettingWithCopyWarning: \n",
      "A value is trying to be set on a copy of a slice from a DataFrame.\n",
      "Try using .loc[row_indexer,col_indexer] = value instead\n",
      "\n",
      "See the caveats in the documentation: http://pandas.pydata.org/pandas-docs/stable/indexing.html#indexing-view-versus-copy\n",
      "  self[name] = value\n"
     ]
    }
   ],
   "source": [
    "experiment.ProductId = experiment.ProductId.astype('category', inplace = True)"
   ]
  },
  {
   "cell_type": "code",
   "execution_count": 55,
   "metadata": {},
   "outputs": [],
   "source": [
    "ANOVA = pd.get_dummies(experiment)"
   ]
  },
  {
   "cell_type": "code",
   "execution_count": 56,
   "metadata": {},
   "outputs": [
    {
     "data": {
      "text/html": [
       "<div>\n",
       "<style scoped>\n",
       "    .dataframe tbody tr th:only-of-type {\n",
       "        vertical-align: middle;\n",
       "    }\n",
       "\n",
       "    .dataframe tbody tr th {\n",
       "        vertical-align: top;\n",
       "    }\n",
       "\n",
       "    .dataframe thead th {\n",
       "        text-align: right;\n",
       "    }\n",
       "</style>\n",
       "<table border=\"1\" class=\"dataframe\">\n",
       "  <thead>\n",
       "    <tr style=\"text-align: right;\">\n",
       "      <th></th>\n",
       "      <th>Quantity</th>\n",
       "      <th>Discontinued</th>\n",
       "      <th>ProductId_5</th>\n",
       "      <th>ProductId_9</th>\n",
       "      <th>ProductId_17</th>\n",
       "      <th>ProductId_24</th>\n",
       "      <th>ProductId_28</th>\n",
       "      <th>ProductId_29</th>\n",
       "      <th>ProductId_42</th>\n",
       "      <th>ProductId_53</th>\n",
       "    </tr>\n",
       "  </thead>\n",
       "  <tbody>\n",
       "    <tr>\n",
       "      <th>38</th>\n",
       "      <td>10</td>\n",
       "      <td>1</td>\n",
       "      <td>0</td>\n",
       "      <td>0</td>\n",
       "      <td>0</td>\n",
       "      <td>0</td>\n",
       "      <td>0</td>\n",
       "      <td>0</td>\n",
       "      <td>1</td>\n",
       "      <td>0</td>\n",
       "    </tr>\n",
       "    <tr>\n",
       "      <th>39</th>\n",
       "      <td>2</td>\n",
       "      <td>1</td>\n",
       "      <td>0</td>\n",
       "      <td>0</td>\n",
       "      <td>0</td>\n",
       "      <td>0</td>\n",
       "      <td>0</td>\n",
       "      <td>0</td>\n",
       "      <td>1</td>\n",
       "      <td>0</td>\n",
       "    </tr>\n",
       "    <tr>\n",
       "      <th>40</th>\n",
       "      <td>6</td>\n",
       "      <td>1</td>\n",
       "      <td>0</td>\n",
       "      <td>0</td>\n",
       "      <td>0</td>\n",
       "      <td>0</td>\n",
       "      <td>0</td>\n",
       "      <td>0</td>\n",
       "      <td>1</td>\n",
       "      <td>0</td>\n",
       "    </tr>\n",
       "    <tr>\n",
       "      <th>41</th>\n",
       "      <td>10</td>\n",
       "      <td>1</td>\n",
       "      <td>0</td>\n",
       "      <td>0</td>\n",
       "      <td>0</td>\n",
       "      <td>0</td>\n",
       "      <td>0</td>\n",
       "      <td>0</td>\n",
       "      <td>1</td>\n",
       "      <td>0</td>\n",
       "    </tr>\n",
       "    <tr>\n",
       "      <th>42</th>\n",
       "      <td>9</td>\n",
       "      <td>1</td>\n",
       "      <td>0</td>\n",
       "      <td>0</td>\n",
       "      <td>0</td>\n",
       "      <td>0</td>\n",
       "      <td>0</td>\n",
       "      <td>0</td>\n",
       "      <td>1</td>\n",
       "      <td>0</td>\n",
       "    </tr>\n",
       "  </tbody>\n",
       "</table>\n",
       "</div>"
      ],
      "text/plain": [
       "    Quantity  Discontinued  ProductId_5  ProductId_9  ProductId_17  \\\n",
       "38        10             1            0            0             0   \n",
       "39         2             1            0            0             0   \n",
       "40         6             1            0            0             0   \n",
       "41        10             1            0            0             0   \n",
       "42         9             1            0            0             0   \n",
       "\n",
       "    ProductId_24  ProductId_28  ProductId_29  ProductId_42  ProductId_53  \n",
       "38             0             0             0             1             0  \n",
       "39             0             0             0             1             0  \n",
       "40             0             0             0             1             0  \n",
       "41             0             0             0             1             0  \n",
       "42             0             0             0             1             0  "
      ]
     },
     "execution_count": 56,
     "metadata": {},
     "output_type": "execute_result"
    }
   ],
   "source": [
    "ANOVA.head()"
   ]
  },
  {
   "cell_type": "code",
   "execution_count": 57,
   "metadata": {},
   "outputs": [
    {
     "name": "stdout",
     "output_type": "stream",
     "text": [
      "                    sum_sq     df         F    PR(>F)\n",
      "ProductId_5     966.099395    1.0  2.384855  0.123953\n",
      "ProductId_9      20.314939    1.0  0.050148  0.823013\n",
      "ProductId_17   1175.524868    1.0  2.901831  0.089891\n",
      "ProductId_24     73.766366    1.0  0.182095  0.669996\n",
      "ProductId_28     68.214499    1.0  0.168390  0.681946\n",
      "ProductId_29    207.446178    1.0  0.512089  0.474995\n",
      "ProductId_42    184.608674    1.0  0.455714  0.500343\n",
      "ProductId_53    333.465458    1.0  0.823173  0.365247\n",
      "Residual      89121.491732  220.0       NaN       NaN\n"
     ]
    }
   ],
   "source": [
    "formula = 'Quantity ~ ProductId_5 + ProductId_9 + ProductId_17 + ProductId_24 + ProductId_28 + ProductId_29 + ProductId_42 + ProductId_53'\n",
    "lm = ols(formula, ANOVA).fit()\n",
    "table = sm.stats.anova_lm(lm, typ=2)\n",
    "print(table)"
   ]
  },
  {
   "cell_type": "markdown",
   "metadata": {},
   "source": [
    "Verified. No significant impact from the discontinued products."
   ]
  },
  {
   "cell_type": "markdown",
   "metadata": {},
   "source": [
    "## Question 3: Is there a region that expansion should be focused?"
   ]
  },
  {
   "cell_type": "markdown",
   "metadata": {},
   "source": [
    "### Ho = There is no significant difference between total sales between regions.\n",
    "\n",
    "### Ha = There is a significant proportion of total sales in certain region(s)."
   ]
  },
  {
   "cell_type": "markdown",
   "metadata": {},
   "source": [
    "In order to answer this hypothesis, we will need to feature engineer a 'total sales' based on quantity times unit price. We will also include any discounts applied to those orders."
   ]
  },
  {
   "cell_type": "code",
   "execution_count": 58,
   "metadata": {},
   "outputs": [
    {
     "data": {
      "text/html": [
       "<div>\n",
       "<style scoped>\n",
       "    .dataframe tbody tr th:only-of-type {\n",
       "        vertical-align: middle;\n",
       "    }\n",
       "\n",
       "    .dataframe tbody tr th {\n",
       "        vertical-align: top;\n",
       "    }\n",
       "\n",
       "    .dataframe thead th {\n",
       "        text-align: right;\n",
       "    }\n",
       "</style>\n",
       "<table border=\"1\" class=\"dataframe\">\n",
       "  <thead>\n",
       "    <tr style=\"text-align: right;\">\n",
       "      <th></th>\n",
       "      <th>Id</th>\n",
       "      <th>OrderId</th>\n",
       "      <th>ProductId</th>\n",
       "      <th>UnitPrice</th>\n",
       "      <th>Quantity</th>\n",
       "      <th>Discount</th>\n",
       "    </tr>\n",
       "  </thead>\n",
       "  <tbody>\n",
       "    <tr>\n",
       "      <th>0</th>\n",
       "      <td>10248/11</td>\n",
       "      <td>10248</td>\n",
       "      <td>11</td>\n",
       "      <td>14.0</td>\n",
       "      <td>12</td>\n",
       "      <td>0.0</td>\n",
       "    </tr>\n",
       "    <tr>\n",
       "      <th>1</th>\n",
       "      <td>10248/42</td>\n",
       "      <td>10248</td>\n",
       "      <td>42</td>\n",
       "      <td>9.8</td>\n",
       "      <td>10</td>\n",
       "      <td>0.0</td>\n",
       "    </tr>\n",
       "    <tr>\n",
       "      <th>2</th>\n",
       "      <td>10248/72</td>\n",
       "      <td>10248</td>\n",
       "      <td>72</td>\n",
       "      <td>34.8</td>\n",
       "      <td>5</td>\n",
       "      <td>0.0</td>\n",
       "    </tr>\n",
       "    <tr>\n",
       "      <th>3</th>\n",
       "      <td>10249/14</td>\n",
       "      <td>10249</td>\n",
       "      <td>14</td>\n",
       "      <td>18.6</td>\n",
       "      <td>9</td>\n",
       "      <td>0.0</td>\n",
       "    </tr>\n",
       "    <tr>\n",
       "      <th>4</th>\n",
       "      <td>10249/51</td>\n",
       "      <td>10249</td>\n",
       "      <td>51</td>\n",
       "      <td>42.4</td>\n",
       "      <td>40</td>\n",
       "      <td>0.0</td>\n",
       "    </tr>\n",
       "  </tbody>\n",
       "</table>\n",
       "</div>"
      ],
      "text/plain": [
       "         Id  OrderId  ProductId  UnitPrice  Quantity  Discount\n",
       "0  10248/11    10248         11       14.0        12       0.0\n",
       "1  10248/42    10248         42        9.8        10       0.0\n",
       "2  10248/72    10248         72       34.8         5       0.0\n",
       "3  10249/14    10249         14       18.6         9       0.0\n",
       "4  10249/51    10249         51       42.4        40       0.0"
      ]
     },
     "execution_count": 58,
     "metadata": {},
     "output_type": "execute_result"
    }
   ],
   "source": [
    "orderdetail_df.head()"
   ]
  },
  {
   "cell_type": "code",
   "execution_count": 59,
   "metadata": {},
   "outputs": [],
   "source": [
    "hyp3 = orderdetail_df.copy()"
   ]
  },
  {
   "cell_type": "code",
   "execution_count": 60,
   "metadata": {},
   "outputs": [],
   "source": [
    "hyp3d = hyp3[hyp3.Discount == 0]"
   ]
  },
  {
   "cell_type": "code",
   "execution_count": 61,
   "metadata": {},
   "outputs": [
    {
     "name": "stdout",
     "output_type": "stream",
     "text": [
      "<class 'pandas.core.frame.DataFrame'>\n",
      "Int64Index: 1317 entries, 0 to 2154\n",
      "Data columns (total 6 columns):\n",
      "Id           1317 non-null object\n",
      "OrderId      1317 non-null int64\n",
      "ProductId    1317 non-null int64\n",
      "UnitPrice    1317 non-null float64\n",
      "Quantity     1317 non-null int64\n",
      "Discount     1317 non-null float64\n",
      "dtypes: float64(2), int64(3), object(1)\n",
      "memory usage: 72.0+ KB\n"
     ]
    }
   ],
   "source": [
    "hyp3d.info()"
   ]
  },
  {
   "cell_type": "code",
   "execution_count": 62,
   "metadata": {},
   "outputs": [],
   "source": [
    "hyp3nd = hyp3[hyp3.Discount != 0]"
   ]
  },
  {
   "cell_type": "code",
   "execution_count": 63,
   "metadata": {},
   "outputs": [
    {
     "name": "stdout",
     "output_type": "stream",
     "text": [
      "<class 'pandas.core.frame.DataFrame'>\n",
      "Int64Index: 838 entries, 6 to 2152\n",
      "Data columns (total 6 columns):\n",
      "Id           838 non-null object\n",
      "OrderId      838 non-null int64\n",
      "ProductId    838 non-null int64\n",
      "UnitPrice    838 non-null float64\n",
      "Quantity     838 non-null int64\n",
      "Discount     838 non-null float64\n",
      "dtypes: float64(2), int64(3), object(1)\n",
      "memory usage: 45.8+ KB\n"
     ]
    }
   ],
   "source": [
    "hyp3nd.info()"
   ]
  },
  {
   "cell_type": "code",
   "execution_count": 64,
   "metadata": {},
   "outputs": [
    {
     "name": "stderr",
     "output_type": "stream",
     "text": [
      "C:\\Users\\perso\\Anaconda3\\envs\\learn-env\\lib\\site-packages\\ipykernel_launcher.py:1: SettingWithCopyWarning: \n",
      "A value is trying to be set on a copy of a slice from a DataFrame.\n",
      "Try using .loc[row_indexer,col_indexer] = value instead\n",
      "\n",
      "See the caveats in the documentation: http://pandas.pydata.org/pandas-docs/stable/indexing.html#indexing-view-versus-copy\n",
      "  \"\"\"Entry point for launching an IPython kernel.\n"
     ]
    }
   ],
   "source": [
    "hyp3d['TotalSales'] = hyp3d['Quantity'] * hyp3d['UnitPrice']"
   ]
  },
  {
   "cell_type": "code",
   "execution_count": 65,
   "metadata": {},
   "outputs": [
    {
     "data": {
      "text/html": [
       "<div>\n",
       "<style scoped>\n",
       "    .dataframe tbody tr th:only-of-type {\n",
       "        vertical-align: middle;\n",
       "    }\n",
       "\n",
       "    .dataframe tbody tr th {\n",
       "        vertical-align: top;\n",
       "    }\n",
       "\n",
       "    .dataframe thead th {\n",
       "        text-align: right;\n",
       "    }\n",
       "</style>\n",
       "<table border=\"1\" class=\"dataframe\">\n",
       "  <thead>\n",
       "    <tr style=\"text-align: right;\">\n",
       "      <th></th>\n",
       "      <th>Id</th>\n",
       "      <th>OrderId</th>\n",
       "      <th>ProductId</th>\n",
       "      <th>UnitPrice</th>\n",
       "      <th>Quantity</th>\n",
       "      <th>Discount</th>\n",
       "      <th>TotalSales</th>\n",
       "    </tr>\n",
       "  </thead>\n",
       "  <tbody>\n",
       "    <tr>\n",
       "      <th>0</th>\n",
       "      <td>10248/11</td>\n",
       "      <td>10248</td>\n",
       "      <td>11</td>\n",
       "      <td>14.0</td>\n",
       "      <td>12</td>\n",
       "      <td>0.0</td>\n",
       "      <td>168.0</td>\n",
       "    </tr>\n",
       "    <tr>\n",
       "      <th>1</th>\n",
       "      <td>10248/42</td>\n",
       "      <td>10248</td>\n",
       "      <td>42</td>\n",
       "      <td>9.8</td>\n",
       "      <td>10</td>\n",
       "      <td>0.0</td>\n",
       "      <td>98.0</td>\n",
       "    </tr>\n",
       "    <tr>\n",
       "      <th>2</th>\n",
       "      <td>10248/72</td>\n",
       "      <td>10248</td>\n",
       "      <td>72</td>\n",
       "      <td>34.8</td>\n",
       "      <td>5</td>\n",
       "      <td>0.0</td>\n",
       "      <td>174.0</td>\n",
       "    </tr>\n",
       "    <tr>\n",
       "      <th>3</th>\n",
       "      <td>10249/14</td>\n",
       "      <td>10249</td>\n",
       "      <td>14</td>\n",
       "      <td>18.6</td>\n",
       "      <td>9</td>\n",
       "      <td>0.0</td>\n",
       "      <td>167.4</td>\n",
       "    </tr>\n",
       "    <tr>\n",
       "      <th>4</th>\n",
       "      <td>10249/51</td>\n",
       "      <td>10249</td>\n",
       "      <td>51</td>\n",
       "      <td>42.4</td>\n",
       "      <td>40</td>\n",
       "      <td>0.0</td>\n",
       "      <td>1696.0</td>\n",
       "    </tr>\n",
       "  </tbody>\n",
       "</table>\n",
       "</div>"
      ],
      "text/plain": [
       "         Id  OrderId  ProductId  UnitPrice  Quantity  Discount  TotalSales\n",
       "0  10248/11    10248         11       14.0        12       0.0       168.0\n",
       "1  10248/42    10248         42        9.8        10       0.0        98.0\n",
       "2  10248/72    10248         72       34.8         5       0.0       174.0\n",
       "3  10249/14    10249         14       18.6         9       0.0       167.4\n",
       "4  10249/51    10249         51       42.4        40       0.0      1696.0"
      ]
     },
     "execution_count": 65,
     "metadata": {},
     "output_type": "execute_result"
    }
   ],
   "source": [
    "hyp3d.head()"
   ]
  },
  {
   "cell_type": "code",
   "execution_count": 66,
   "metadata": {},
   "outputs": [
    {
     "name": "stderr",
     "output_type": "stream",
     "text": [
      "C:\\Users\\perso\\Anaconda3\\envs\\learn-env\\lib\\site-packages\\ipykernel_launcher.py:1: SettingWithCopyWarning: \n",
      "A value is trying to be set on a copy of a slice from a DataFrame.\n",
      "Try using .loc[row_indexer,col_indexer] = value instead\n",
      "\n",
      "See the caveats in the documentation: http://pandas.pydata.org/pandas-docs/stable/indexing.html#indexing-view-versus-copy\n",
      "  \"\"\"Entry point for launching an IPython kernel.\n"
     ]
    }
   ],
   "source": [
    "hyp3nd['TotalSales'] = hyp3nd['Quantity'] * hyp3nd['UnitPrice'] * hyp3nd['Discount']"
   ]
  },
  {
   "cell_type": "code",
   "execution_count": 67,
   "metadata": {},
   "outputs": [
    {
     "data": {
      "text/html": [
       "<div>\n",
       "<style scoped>\n",
       "    .dataframe tbody tr th:only-of-type {\n",
       "        vertical-align: middle;\n",
       "    }\n",
       "\n",
       "    .dataframe tbody tr th {\n",
       "        vertical-align: top;\n",
       "    }\n",
       "\n",
       "    .dataframe thead th {\n",
       "        text-align: right;\n",
       "    }\n",
       "</style>\n",
       "<table border=\"1\" class=\"dataframe\">\n",
       "  <thead>\n",
       "    <tr style=\"text-align: right;\">\n",
       "      <th></th>\n",
       "      <th>Id</th>\n",
       "      <th>OrderId</th>\n",
       "      <th>ProductId</th>\n",
       "      <th>UnitPrice</th>\n",
       "      <th>Quantity</th>\n",
       "      <th>Discount</th>\n",
       "      <th>TotalSales</th>\n",
       "    </tr>\n",
       "  </thead>\n",
       "  <tbody>\n",
       "    <tr>\n",
       "      <th>6</th>\n",
       "      <td>10250/51</td>\n",
       "      <td>10250</td>\n",
       "      <td>51</td>\n",
       "      <td>42.4</td>\n",
       "      <td>35</td>\n",
       "      <td>0.15</td>\n",
       "      <td>222.60</td>\n",
       "    </tr>\n",
       "    <tr>\n",
       "      <th>7</th>\n",
       "      <td>10250/65</td>\n",
       "      <td>10250</td>\n",
       "      <td>65</td>\n",
       "      <td>16.8</td>\n",
       "      <td>15</td>\n",
       "      <td>0.15</td>\n",
       "      <td>37.80</td>\n",
       "    </tr>\n",
       "    <tr>\n",
       "      <th>8</th>\n",
       "      <td>10251/22</td>\n",
       "      <td>10251</td>\n",
       "      <td>22</td>\n",
       "      <td>16.8</td>\n",
       "      <td>6</td>\n",
       "      <td>0.05</td>\n",
       "      <td>5.04</td>\n",
       "    </tr>\n",
       "    <tr>\n",
       "      <th>9</th>\n",
       "      <td>10251/57</td>\n",
       "      <td>10251</td>\n",
       "      <td>57</td>\n",
       "      <td>15.6</td>\n",
       "      <td>15</td>\n",
       "      <td>0.05</td>\n",
       "      <td>11.70</td>\n",
       "    </tr>\n",
       "    <tr>\n",
       "      <th>11</th>\n",
       "      <td>10252/20</td>\n",
       "      <td>10252</td>\n",
       "      <td>20</td>\n",
       "      <td>64.8</td>\n",
       "      <td>40</td>\n",
       "      <td>0.05</td>\n",
       "      <td>129.60</td>\n",
       "    </tr>\n",
       "  </tbody>\n",
       "</table>\n",
       "</div>"
      ],
      "text/plain": [
       "          Id  OrderId  ProductId  UnitPrice  Quantity  Discount  TotalSales\n",
       "6   10250/51    10250         51       42.4        35      0.15      222.60\n",
       "7   10250/65    10250         65       16.8        15      0.15       37.80\n",
       "8   10251/22    10251         22       16.8         6      0.05        5.04\n",
       "9   10251/57    10251         57       15.6        15      0.05       11.70\n",
       "11  10252/20    10252         20       64.8        40      0.05      129.60"
      ]
     },
     "execution_count": 67,
     "metadata": {},
     "output_type": "execute_result"
    }
   ],
   "source": [
    "hyp3nd.head()"
   ]
  },
  {
   "cell_type": "code",
   "execution_count": 68,
   "metadata": {},
   "outputs": [],
   "source": [
    "hyp3_=hyp3nd.merge(hyp3d, how = 'outer')"
   ]
  },
  {
   "cell_type": "code",
   "execution_count": 69,
   "metadata": {
    "scrolled": true
   },
   "outputs": [
    {
     "name": "stdout",
     "output_type": "stream",
     "text": [
      "<class 'pandas.core.frame.DataFrame'>\n",
      "Int64Index: 2155 entries, 0 to 2154\n",
      "Data columns (total 7 columns):\n",
      "Id            2155 non-null object\n",
      "OrderId       2155 non-null int64\n",
      "ProductId     2155 non-null int64\n",
      "UnitPrice     2155 non-null float64\n",
      "Quantity      2155 non-null int64\n",
      "Discount      2155 non-null float64\n",
      "TotalSales    2155 non-null float64\n",
      "dtypes: float64(3), int64(3), object(1)\n",
      "memory usage: 134.7+ KB\n"
     ]
    }
   ],
   "source": [
    "hyp3_.info()"
   ]
  },
  {
   "cell_type": "markdown",
   "metadata": {},
   "source": [
    "Now that we have a good dataset to work with, we need to merge along several tables in order to get to our variables."
   ]
  },
  {
   "cell_type": "code",
   "execution_count": 70,
   "metadata": {},
   "outputs": [],
   "source": [
    "order_df = order_df.rename(columns={'Id': 'OrderId'})"
   ]
  },
  {
   "cell_type": "code",
   "execution_count": 71,
   "metadata": {},
   "outputs": [],
   "source": [
    "hyp3__=hyp3_.merge(order_df, how = 'left', on = 'OrderId')"
   ]
  },
  {
   "cell_type": "code",
   "execution_count": 72,
   "metadata": {},
   "outputs": [
    {
     "name": "stdout",
     "output_type": "stream",
     "text": [
      "<class 'pandas.core.frame.DataFrame'>\n",
      "Int64Index: 2155 entries, 0 to 2154\n",
      "Data columns (total 20 columns):\n",
      "Id                2155 non-null object\n",
      "OrderId           2155 non-null int64\n",
      "ProductId         2155 non-null int64\n",
      "UnitPrice         2155 non-null float64\n",
      "Quantity          2155 non-null int64\n",
      "Discount          2155 non-null float64\n",
      "TotalSales        2155 non-null float64\n",
      "CustomerId        2155 non-null object\n",
      "EmployeeId        2155 non-null int64\n",
      "OrderDate         2155 non-null object\n",
      "RequiredDate      2155 non-null object\n",
      "ShippedDate       2082 non-null object\n",
      "ShipVia           2155 non-null int64\n",
      "Freight           2155 non-null float64\n",
      "ShipName          2155 non-null object\n",
      "ShipAddress       2155 non-null object\n",
      "ShipCity          2155 non-null object\n",
      "ShipRegion        2155 non-null object\n",
      "ShipPostalCode    2100 non-null object\n",
      "ShipCountry       2155 non-null object\n",
      "dtypes: float64(4), int64(5), object(11)\n",
      "memory usage: 353.6+ KB\n"
     ]
    }
   ],
   "source": [
    "hyp3__.info()"
   ]
  },
  {
   "cell_type": "code",
   "execution_count": 73,
   "metadata": {},
   "outputs": [],
   "source": [
    "employee_df = employee_df.rename(columns={'Id': 'EmployeeId'})"
   ]
  },
  {
   "cell_type": "code",
   "execution_count": 74,
   "metadata": {},
   "outputs": [],
   "source": [
    "hyp3___=hyp3__.merge(employee_df, how = 'left', on = 'EmployeeId')"
   ]
  },
  {
   "cell_type": "code",
   "execution_count": 75,
   "metadata": {},
   "outputs": [
    {
     "name": "stdout",
     "output_type": "stream",
     "text": [
      "<class 'pandas.core.frame.DataFrame'>\n",
      "Int64Index: 2155 entries, 0 to 2154\n",
      "Data columns (total 37 columns):\n",
      "Id                 2155 non-null object\n",
      "OrderId            2155 non-null int64\n",
      "ProductId          2155 non-null int64\n",
      "UnitPrice          2155 non-null float64\n",
      "Quantity           2155 non-null int64\n",
      "Discount           2155 non-null float64\n",
      "TotalSales         2155 non-null float64\n",
      "CustomerId         2155 non-null object\n",
      "EmployeeId         2155 non-null int64\n",
      "OrderDate          2155 non-null object\n",
      "RequiredDate       2155 non-null object\n",
      "ShippedDate        2082 non-null object\n",
      "ShipVia            2155 non-null int64\n",
      "Freight            2155 non-null float64\n",
      "ShipName           2155 non-null object\n",
      "ShipAddress        2155 non-null object\n",
      "ShipCity           2155 non-null object\n",
      "ShipRegion         2155 non-null object\n",
      "ShipPostalCode     2100 non-null object\n",
      "ShipCountry        2155 non-null object\n",
      "LastName           2155 non-null object\n",
      "FirstName          2155 non-null object\n",
      "Title              2155 non-null object\n",
      "TitleOfCourtesy    2155 non-null object\n",
      "BirthDate          2155 non-null object\n",
      "HireDate           2155 non-null object\n",
      "Address            2155 non-null object\n",
      "City               2155 non-null object\n",
      "Region             2155 non-null object\n",
      "PostalCode         2155 non-null object\n",
      "Country            2155 non-null object\n",
      "HomePhone          2155 non-null object\n",
      "Extension          2155 non-null object\n",
      "Photo              0 non-null object\n",
      "Notes              2155 non-null object\n",
      "ReportsTo          1914 non-null float64\n",
      "PhotoPath          2155 non-null object\n",
      "dtypes: float64(5), int64(5), object(27)\n",
      "memory usage: 639.8+ KB\n"
     ]
    }
   ],
   "source": [
    "hyp3___.info()"
   ]
  },
  {
   "cell_type": "code",
   "execution_count": 76,
   "metadata": {},
   "outputs": [],
   "source": [
    "hyp3____=hyp3___.merge(employeeterritory_df, how = 'left', on = 'EmployeeId')"
   ]
  },
  {
   "cell_type": "code",
   "execution_count": 77,
   "metadata": {},
   "outputs": [],
   "source": [
    "territory_df = territory_df.rename(columns={'Id': 'TerritoryId'})"
   ]
  },
  {
   "cell_type": "code",
   "execution_count": 78,
   "metadata": {},
   "outputs": [],
   "source": [
    "hyp3_____=hyp3____.merge(territory_df, how = 'left', on = 'TerritoryId')"
   ]
  },
  {
   "cell_type": "code",
   "execution_count": 79,
   "metadata": {},
   "outputs": [],
   "source": [
    "region_df = region_df.rename(columns={'Id': 'RegionId'})"
   ]
  },
  {
   "cell_type": "code",
   "execution_count": 80,
   "metadata": {},
   "outputs": [],
   "source": [
    "hyp3______=hyp3_____.merge(region_df, how = 'left', on = 'RegionId')"
   ]
  },
  {
   "cell_type": "code",
   "execution_count": 81,
   "metadata": {},
   "outputs": [],
   "source": [
    "hyp3f = hyp3______[['TotalSales', 'TerritoryId', 'RegionId']]"
   ]
  },
  {
   "cell_type": "code",
   "execution_count": 82,
   "metadata": {},
   "outputs": [
    {
     "data": {
      "text/html": [
       "<div>\n",
       "<style scoped>\n",
       "    .dataframe tbody tr th:only-of-type {\n",
       "        vertical-align: middle;\n",
       "    }\n",
       "\n",
       "    .dataframe tbody tr th {\n",
       "        vertical-align: top;\n",
       "    }\n",
       "\n",
       "    .dataframe thead th {\n",
       "        text-align: right;\n",
       "    }\n",
       "</style>\n",
       "<table border=\"1\" class=\"dataframe\">\n",
       "  <thead>\n",
       "    <tr style=\"text-align: right;\">\n",
       "      <th></th>\n",
       "      <th>TotalSales</th>\n",
       "      <th>TerritoryId</th>\n",
       "      <th>RegionId</th>\n",
       "    </tr>\n",
       "  </thead>\n",
       "  <tbody>\n",
       "    <tr>\n",
       "      <th>0</th>\n",
       "      <td>222.6</td>\n",
       "      <td>20852</td>\n",
       "      <td>1</td>\n",
       "    </tr>\n",
       "    <tr>\n",
       "      <th>1</th>\n",
       "      <td>222.6</td>\n",
       "      <td>27403</td>\n",
       "      <td>1</td>\n",
       "    </tr>\n",
       "    <tr>\n",
       "      <th>2</th>\n",
       "      <td>222.6</td>\n",
       "      <td>27511</td>\n",
       "      <td>1</td>\n",
       "    </tr>\n",
       "    <tr>\n",
       "      <th>3</th>\n",
       "      <td>37.8</td>\n",
       "      <td>20852</td>\n",
       "      <td>1</td>\n",
       "    </tr>\n",
       "    <tr>\n",
       "      <th>4</th>\n",
       "      <td>37.8</td>\n",
       "      <td>27403</td>\n",
       "      <td>1</td>\n",
       "    </tr>\n",
       "  </tbody>\n",
       "</table>\n",
       "</div>"
      ],
      "text/plain": [
       "   TotalSales TerritoryId  RegionId\n",
       "0       222.6       20852         1\n",
       "1       222.6       27403         1\n",
       "2       222.6       27511         1\n",
       "3        37.8       20852         1\n",
       "4        37.8       27403         1"
      ]
     },
     "execution_count": 82,
     "metadata": {},
     "output_type": "execute_result"
    }
   ],
   "source": [
    "hyp3f.head()"
   ]
  },
  {
   "cell_type": "code",
   "execution_count": 86,
   "metadata": {},
   "outputs": [
    {
     "data": {
      "text/plain": [
       "1.123620890824322"
      ]
     },
     "execution_count": 86,
     "metadata": {},
     "output_type": "execute_result"
    }
   ],
   "source": [
    "hyp3f.RegionId.var()"
   ]
  },
  {
   "cell_type": "code",
   "execution_count": 89,
   "metadata": {},
   "outputs": [
    {
     "name": "stderr",
     "output_type": "stream",
     "text": [
      "C:\\Users\\perso\\Anaconda3\\envs\\learn-env\\lib\\site-packages\\scipy\\stats\\morestats.py:1309: UserWarning: p-value may not be accurate for N > 5000.\n",
      "  warnings.warn(\"p-value may not be accurate for N > 5000.\")\n"
     ]
    },
    {
     "data": {
      "text/plain": [
       "(0.8062371611595154, 0.0)"
      ]
     },
     "execution_count": 89,
     "metadata": {},
     "output_type": "execute_result"
    }
   ],
   "source": [
    "stats.shapiro(hyp3f.RegionId)"
   ]
  },
  {
   "cell_type": "code",
   "execution_count": null,
   "metadata": {},
   "outputs": [],
   "source": []
  },
  {
   "cell_type": "code",
   "execution_count": 84,
   "metadata": {},
   "outputs": [
    {
     "data": {
      "text/plain": [
       "-0.7147821473040825"
      ]
     },
     "execution_count": 84,
     "metadata": {},
     "output_type": "execute_result"
    }
   ],
   "source": [
    "def cohend(d1, d2):\n",
    "\t# calculate the size of samples\n",
    "\tn1, n2 = len(d1), len(d2)\n",
    "\t# calculate the variance of the samples\n",
    "\ts1, s2 = d1.var(ddof=1), d2.var(ddof=1)\n",
    "\t# calculate the pooled standard deviation\n",
    "\ts = np.sqrt(((n1 - 1) * s1 + (n2 - 1) * s2) / (n1 + n2 - 2))\n",
    "\t# calculate the means of the samples\n",
    "\tu1, u2 = np.mean(d1), np.mean(d2)\n",
    "\t# calculate the effect size\n",
    "\treturn (u1 - u2) / s\n",
    "\n",
    "cohend(hyp3f.RegionId, hyp3f.TotalSales)"
   ]
  },
  {
   "cell_type": "markdown",
   "metadata": {},
   "source": [
    "Now we can visualize the data and run an ANOVA test."
   ]
  },
  {
   "cell_type": "code",
   "execution_count": 90,
   "metadata": {},
   "outputs": [
    {
     "name": "stderr",
     "output_type": "stream",
     "text": [
      "C:\\Users\\perso\\Anaconda3\\envs\\learn-env\\lib\\site-packages\\scipy\\stats\\stats.py:1713: FutureWarning: Using a non-tuple sequence for multidimensional indexing is deprecated; use `arr[tuple(seq)]` instead of `arr[seq]`. In the future this will be interpreted as an array index, `arr[np.array(seq)]`, which will result either in an error or a different result.\n",
      "  return np.add.reduce(sorted[indexer] * weights, axis=axis) / sumval\n"
     ]
    },
    {
     "data": {
      "image/png": "[encoded data removed]",
      "text/plain": [
       "<Figure size 360x360 with 1 Axes>"
      ]
     },
     "metadata": {},
     "output_type": "display_data"
    }
   ],
   "source": [
    "ymean=np.mean(hyp3f.TotalSales)\n",
    "sns.catplot(x=\"RegionId\", y=\"TotalSales\", kind=\"bar\", data=hyp3f);"
   ]
  },
  {
   "cell_type": "code",
   "execution_count": 91,
   "metadata": {},
   "outputs": [
    {
     "name": "stderr",
     "output_type": "stream",
     "text": [
      "C:\\Users\\perso\\Anaconda3\\envs\\learn-env\\lib\\site-packages\\pandas\\core\\generic.py:4405: SettingWithCopyWarning: \n",
      "A value is trying to be set on a copy of a slice from a DataFrame.\n",
      "Try using .loc[row_indexer,col_indexer] = value instead\n",
      "\n",
      "See the caveats in the documentation: http://pandas.pydata.org/pandas-docs/stable/indexing.html#indexing-view-versus-copy\n",
      "  self[name] = value\n"
     ]
    }
   ],
   "source": [
    "hyp3f.RegionId = hyp3f.RegionId.astype('category', inplace = True)"
   ]
  },
  {
   "cell_type": "code",
   "execution_count": 92,
   "metadata": {},
   "outputs": [],
   "source": [
    "ANOVA = pd.get_dummies(hyp3f)"
   ]
  },
  {
   "cell_type": "code",
   "execution_count": 93,
   "metadata": {},
   "outputs": [
    {
     "data": {
      "text/html": [
       "<div>\n",
       "<style scoped>\n",
       "    .dataframe tbody tr th:only-of-type {\n",
       "        vertical-align: middle;\n",
       "    }\n",
       "\n",
       "    .dataframe tbody tr th {\n",
       "        vertical-align: top;\n",
       "    }\n",
       "\n",
       "    .dataframe thead th {\n",
       "        text-align: right;\n",
       "    }\n",
       "</style>\n",
       "<table border=\"1\" class=\"dataframe\">\n",
       "  <thead>\n",
       "    <tr style=\"text-align: right;\">\n",
       "      <th></th>\n",
       "      <th>TotalSales</th>\n",
       "      <th>TerritoryId_01581</th>\n",
       "      <th>TerritoryId_01730</th>\n",
       "      <th>TerritoryId_01833</th>\n",
       "      <th>TerritoryId_02116</th>\n",
       "      <th>TerritoryId_02139</th>\n",
       "      <th>TerritoryId_02184</th>\n",
       "      <th>TerritoryId_02903</th>\n",
       "      <th>TerritoryId_03049</th>\n",
       "      <th>TerritoryId_03801</th>\n",
       "      <th>...</th>\n",
       "      <th>TerritoryId_95008</th>\n",
       "      <th>TerritoryId_95054</th>\n",
       "      <th>TerritoryId_95060</th>\n",
       "      <th>TerritoryId_98004</th>\n",
       "      <th>TerritoryId_98052</th>\n",
       "      <th>TerritoryId_98104</th>\n",
       "      <th>RegionId_1</th>\n",
       "      <th>RegionId_2</th>\n",
       "      <th>RegionId_3</th>\n",
       "      <th>RegionId_4</th>\n",
       "    </tr>\n",
       "  </thead>\n",
       "  <tbody>\n",
       "    <tr>\n",
       "      <th>0</th>\n",
       "      <td>222.6</td>\n",
       "      <td>0</td>\n",
       "      <td>0</td>\n",
       "      <td>0</td>\n",
       "      <td>0</td>\n",
       "      <td>0</td>\n",
       "      <td>0</td>\n",
       "      <td>0</td>\n",
       "      <td>0</td>\n",
       "      <td>0</td>\n",
       "      <td>...</td>\n",
       "      <td>0</td>\n",
       "      <td>0</td>\n",
       "      <td>0</td>\n",
       "      <td>0</td>\n",
       "      <td>0</td>\n",
       "      <td>0</td>\n",
       "      <td>1</td>\n",
       "      <td>0</td>\n",
       "      <td>0</td>\n",
       "      <td>0</td>\n",
       "    </tr>\n",
       "    <tr>\n",
       "      <th>1</th>\n",
       "      <td>222.6</td>\n",
       "      <td>0</td>\n",
       "      <td>0</td>\n",
       "      <td>0</td>\n",
       "      <td>0</td>\n",
       "      <td>0</td>\n",
       "      <td>0</td>\n",
       "      <td>0</td>\n",
       "      <td>0</td>\n",
       "      <td>0</td>\n",
       "      <td>...</td>\n",
       "      <td>0</td>\n",
       "      <td>0</td>\n",
       "      <td>0</td>\n",
       "      <td>0</td>\n",
       "      <td>0</td>\n",
       "      <td>0</td>\n",
       "      <td>1</td>\n",
       "      <td>0</td>\n",
       "      <td>0</td>\n",
       "      <td>0</td>\n",
       "    </tr>\n",
       "    <tr>\n",
       "      <th>2</th>\n",
       "      <td>222.6</td>\n",
       "      <td>0</td>\n",
       "      <td>0</td>\n",
       "      <td>0</td>\n",
       "      <td>0</td>\n",
       "      <td>0</td>\n",
       "      <td>0</td>\n",
       "      <td>0</td>\n",
       "      <td>0</td>\n",
       "      <td>0</td>\n",
       "      <td>...</td>\n",
       "      <td>0</td>\n",
       "      <td>0</td>\n",
       "      <td>0</td>\n",
       "      <td>0</td>\n",
       "      <td>0</td>\n",
       "      <td>0</td>\n",
       "      <td>1</td>\n",
       "      <td>0</td>\n",
       "      <td>0</td>\n",
       "      <td>0</td>\n",
       "    </tr>\n",
       "    <tr>\n",
       "      <th>3</th>\n",
       "      <td>37.8</td>\n",
       "      <td>0</td>\n",
       "      <td>0</td>\n",
       "      <td>0</td>\n",
       "      <td>0</td>\n",
       "      <td>0</td>\n",
       "      <td>0</td>\n",
       "      <td>0</td>\n",
       "      <td>0</td>\n",
       "      <td>0</td>\n",
       "      <td>...</td>\n",
       "      <td>0</td>\n",
       "      <td>0</td>\n",
       "      <td>0</td>\n",
       "      <td>0</td>\n",
       "      <td>0</td>\n",
       "      <td>0</td>\n",
       "      <td>1</td>\n",
       "      <td>0</td>\n",
       "      <td>0</td>\n",
       "      <td>0</td>\n",
       "    </tr>\n",
       "    <tr>\n",
       "      <th>4</th>\n",
       "      <td>37.8</td>\n",
       "      <td>0</td>\n",
       "      <td>0</td>\n",
       "      <td>0</td>\n",
       "      <td>0</td>\n",
       "      <td>0</td>\n",
       "      <td>0</td>\n",
       "      <td>0</td>\n",
       "      <td>0</td>\n",
       "      <td>0</td>\n",
       "      <td>...</td>\n",
       "      <td>0</td>\n",
       "      <td>0</td>\n",
       "      <td>0</td>\n",
       "      <td>0</td>\n",
       "      <td>0</td>\n",
       "      <td>0</td>\n",
       "      <td>1</td>\n",
       "      <td>0</td>\n",
       "      <td>0</td>\n",
       "      <td>0</td>\n",
       "    </tr>\n",
       "  </tbody>\n",
       "</table>\n",
       "<p>5 rows × 54 columns</p>\n",
       "</div>"
      ],
      "text/plain": [
       "   TotalSales  TerritoryId_01581  TerritoryId_01730  TerritoryId_01833  \\\n",
       "0       222.6                  0                  0                  0   \n",
       "1       222.6                  0                  0                  0   \n",
       "2       222.6                  0                  0                  0   \n",
       "3        37.8                  0                  0                  0   \n",
       "4        37.8                  0                  0                  0   \n",
       "\n",
       "   TerritoryId_02116  TerritoryId_02139  TerritoryId_02184  TerritoryId_02903  \\\n",
       "0                  0                  0                  0                  0   \n",
       "1                  0                  0                  0                  0   \n",
       "2                  0                  0                  0                  0   \n",
       "3                  0                  0                  0                  0   \n",
       "4                  0                  0                  0                  0   \n",
       "\n",
       "   TerritoryId_03049  TerritoryId_03801     ...      TerritoryId_95008  \\\n",
       "0                  0                  0     ...                      0   \n",
       "1                  0                  0     ...                      0   \n",
       "2                  0                  0     ...                      0   \n",
       "3                  0                  0     ...                      0   \n",
       "4                  0                  0     ...                      0   \n",
       "\n",
       "   TerritoryId_95054  TerritoryId_95060  TerritoryId_98004  TerritoryId_98052  \\\n",
       "0                  0                  0                  0                  0   \n",
       "1                  0                  0                  0                  0   \n",
       "2                  0                  0                  0                  0   \n",
       "3                  0                  0                  0                  0   \n",
       "4                  0                  0                  0                  0   \n",
       "\n",
       "   TerritoryId_98104  RegionId_1  RegionId_2  RegionId_3  RegionId_4  \n",
       "0                  0           1           0           0           0  \n",
       "1                  0           1           0           0           0  \n",
       "2                  0           1           0           0           0  \n",
       "3                  0           1           0           0           0  \n",
       "4                  0           1           0           0           0  \n",
       "\n",
       "[5 rows x 54 columns]"
      ]
     },
     "execution_count": 93,
     "metadata": {},
     "output_type": "execute_result"
    }
   ],
   "source": [
    "ANOVA.head()"
   ]
  },
  {
   "cell_type": "code",
   "execution_count": 94,
   "metadata": {
    "scrolled": true
   },
   "outputs": [
    {
     "name": "stdout",
     "output_type": "stream",
     "text": [
      "                     sum_sq       df          F        PR(>F)\n",
      "C(RegionId_1)  1.347240e+07      1.0  22.527085  2.100396e-06\n",
      "C(RegionId_2)  1.048758e+06      1.0   1.753620  1.854522e-01\n",
      "C(RegionId_3)  1.953955e+07      1.0  32.671921  1.121878e-08\n",
      "C(RegionId_4)  5.110832e+07      1.0  85.457804  2.843719e-20\n",
      "Residual       6.055290e+09  10125.0        NaN           NaN\n"
     ]
    }
   ],
   "source": [
    "formula = 'TotalSales ~ C(RegionId_1) + C(RegionId_2) + C(RegionId_3) + C(RegionId_4)'\n",
    "lm = ols(formula, ANOVA).fit()\n",
    "table = sm.stats.anova_lm(lm, typ=2)\n",
    "print(table)"
   ]
  },
  {
   "cell_type": "markdown",
   "metadata": {},
   "source": [
    "Based on the ANOVA test, Regions 1,3 and 4 are all statistically significant for Total Sales, with Region 4 having the most impact. Focusing on expansion to that Region may be of benefit. An interesting insight is the underperformance of Region 2 and what needs to be done to turn it around."
   ]
  },
  {
   "cell_type": "markdown",
   "metadata": {},
   "source": [
    "## Question 4: Do any categories significantly underperform/outperform?"
   ]
  },
  {
   "cell_type": "markdown",
   "metadata": {},
   "source": [
    "### Ho = All categories of products perform the same\n",
    "\n",
    "### Ha = There are one or more categories of products that either underperform or outperform others."
   ]
  },
  {
   "cell_type": "markdown",
   "metadata": {},
   "source": [
    "Again, we will rename and merge in order to get our desired dataset."
   ]
  },
  {
   "cell_type": "code",
   "execution_count": 95,
   "metadata": {},
   "outputs": [
    {
     "name": "stdout",
     "output_type": "stream",
     "text": [
      "<class 'pandas.core.frame.DataFrame'>\n",
      "Int64Index: 2155 entries, 0 to 2154\n",
      "Data columns (total 7 columns):\n",
      "Id            2155 non-null object\n",
      "OrderId       2155 non-null int64\n",
      "ProductId     2155 non-null int64\n",
      "UnitPrice     2155 non-null float64\n",
      "Quantity      2155 non-null int64\n",
      "Discount      2155 non-null float64\n",
      "TotalSales    2155 non-null float64\n",
      "dtypes: float64(3), int64(3), object(1)\n",
      "memory usage: 134.7+ KB\n"
     ]
    }
   ],
   "source": [
    "hyp3_.info()"
   ]
  },
  {
   "cell_type": "code",
   "execution_count": 96,
   "metadata": {},
   "outputs": [],
   "source": [
    "product_df = product_df.rename(columns={'Id': 'ProductId'})"
   ]
  },
  {
   "cell_type": "code",
   "execution_count": 97,
   "metadata": {},
   "outputs": [],
   "source": [
    "hyp4 = hyp3_.merge(product_df, on = 'ProductId')"
   ]
  },
  {
   "cell_type": "code",
   "execution_count": 98,
   "metadata": {},
   "outputs": [
    {
     "name": "stdout",
     "output_type": "stream",
     "text": [
      "<class 'pandas.core.frame.DataFrame'>\n",
      "Int64Index: 2155 entries, 0 to 2154\n",
      "Data columns (total 16 columns):\n",
      "Id                 2155 non-null object\n",
      "OrderId            2155 non-null int64\n",
      "ProductId          2155 non-null int64\n",
      "UnitPrice_x        2155 non-null float64\n",
      "Quantity           2155 non-null int64\n",
      "Discount           2155 non-null float64\n",
      "TotalSales         2155 non-null float64\n",
      "ProductName        2155 non-null object\n",
      "SupplierId         2155 non-null int64\n",
      "CategoryId         2155 non-null int64\n",
      "QuantityPerUnit    2155 non-null object\n",
      "UnitPrice_y        2155 non-null float64\n",
      "UnitsInStock       2155 non-null int64\n",
      "UnitsOnOrder       2155 non-null int64\n",
      "ReorderLevel       2155 non-null int64\n",
      "Discontinued       2155 non-null int64\n",
      "dtypes: float64(4), int64(9), object(3)\n",
      "memory usage: 286.2+ KB\n"
     ]
    }
   ],
   "source": [
    "hyp4.info()"
   ]
  },
  {
   "cell_type": "code",
   "execution_count": 99,
   "metadata": {},
   "outputs": [],
   "source": [
    "hyp4f = hyp4[['TotalSales', 'CategoryId']]"
   ]
  },
  {
   "cell_type": "code",
   "execution_count": 101,
   "metadata": {},
   "outputs": [
    {
     "data": {
      "text/plain": [
       "(0.9058435559272766, 1.5362069605753474e-34)"
      ]
     },
     "execution_count": 101,
     "metadata": {},
     "output_type": "execute_result"
    }
   ],
   "source": [
    "stats.shapiro(hyp4.CategoryId)"
   ]
  },
  {
   "cell_type": "code",
   "execution_count": 102,
   "metadata": {},
   "outputs": [
    {
     "data": {
      "text/plain": [
       "5.657583258471263"
      ]
     },
     "execution_count": 102,
     "metadata": {},
     "output_type": "execute_result"
    }
   ],
   "source": [
    "hyp4.CategoryId.var()"
   ]
  },
  {
   "cell_type": "code",
   "execution_count": 104,
   "metadata": {},
   "outputs": [
    {
     "data": {
      "text/plain": [
       "-0.6859586922392046"
      ]
     },
     "execution_count": 104,
     "metadata": {},
     "output_type": "execute_result"
    }
   ],
   "source": [
    "def cohend(d1, d2):\n",
    "\t# calculate the size of samples\n",
    "\tn1, n2 = len(d1), len(d2)\n",
    "\t# calculate the variance of the samples\n",
    "\ts1, s2 = d1.var(ddof=1), d2.var(ddof=1)\n",
    "\t# calculate the pooled standard deviation\n",
    "\ts = np.sqrt(((n1 - 1) * s1 + (n2 - 1) * s2) / (n1 + n2 - 2))\n",
    "\t# calculate the means of the samples\n",
    "\tu1, u2 = np.mean(d1), np.mean(d2)\n",
    "\t# calculate the effect size\n",
    "\treturn (u1 - u2) / s\n",
    "\n",
    "cohend(hyp4f.CategoryId, hyp4f.TotalSales)"
   ]
  },
  {
   "cell_type": "code",
   "execution_count": null,
   "metadata": {},
   "outputs": [],
   "source": []
  },
  {
   "cell_type": "code",
   "execution_count": 100,
   "metadata": {},
   "outputs": [
    {
     "name": "stderr",
     "output_type": "stream",
     "text": [
      "C:\\Users\\perso\\Anaconda3\\envs\\learn-env\\lib\\site-packages\\scipy\\stats\\stats.py:1713: FutureWarning: Using a non-tuple sequence for multidimensional indexing is deprecated; use `arr[tuple(seq)]` instead of `arr[seq]`. In the future this will be interpreted as an array index, `arr[np.array(seq)]`, which will result either in an error or a different result.\n",
      "  return np.add.reduce(sorted[indexer] * weights, axis=axis) / sumval\n"
     ]
    },
    {
     "data": {
      "image/png": "[encoded data removed]",
      "text/plain": [
       "<Figure size 360x360 with 1 Axes>"
      ]
     },
     "metadata": {},
     "output_type": "display_data"
    }
   ],
   "source": [
    "sns.catplot(x=\"CategoryId\", y=\"TotalSales\", kind=\"bar\", data=hyp4f);"
   ]
  },
  {
   "cell_type": "code",
   "execution_count": null,
   "metadata": {},
   "outputs": [],
   "source": [
    "hyp4f.CategoryId = hyp4f.CategoryId.astype('category', inplace = True)"
   ]
  },
  {
   "cell_type": "code",
   "execution_count": null,
   "metadata": {},
   "outputs": [],
   "source": [
    "ANOVA = pd.get_dummies(hyp4f)"
   ]
  },
  {
   "cell_type": "code",
   "execution_count": null,
   "metadata": {},
   "outputs": [],
   "source": [
    "ANOVA.head()"
   ]
  },
  {
   "cell_type": "code",
   "execution_count": null,
   "metadata": {},
   "outputs": [],
   "source": [
    "formula = 'TotalSales ~ C(CategoryId_1) + C(CategoryId_2) + C(CategoryId_3) + C(CategoryId_4) + C(CategoryId_5) + C(CategoryId_6) + C(CategoryId_7) + C(CategoryId_8)'\n",
    "lm = ols(formula, ANOVA).fit()\n",
    "table = sm.stats.anova_lm(lm, typ=2)\n",
    "print(table)"
   ]
  },
  {
   "cell_type": "markdown",
   "metadata": {},
   "source": [
    "While not all categories were statistically significant, Category 6 - Meat and Poultry, Category 7 - Produce, Category 8 - Seafood were with Cat. 6 being the most impactful towards total sales. An interseing insight is that Seafood was under the mean of Total Sales, it had a significant impact on total sales. More research into the performance of this category should be explored."
   ]
  }
 ],
 "metadata": {
  "kernelspec": {
   "display_name": "learn-env",
   "language": "python",
   "name": "learn-env"
  },
  "language_info": {
   "codemirror_mode": {
    "name": "ipython",
    "version": 3
   },
   "file_extension": ".py",
   "mimetype": "text/x-python",
   "name": "python",
   "nbconvert_exporter": "python",
   "pygments_lexer": "ipython3",
   "version": "3.6.6"
  }
 },
 "nbformat": 4,
 "nbformat_minor": 2
}
